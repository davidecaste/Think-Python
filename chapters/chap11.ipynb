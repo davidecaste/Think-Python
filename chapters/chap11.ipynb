{
  "cells": [
    {
      "cell_type": "markdown",
      "id": "1331faa1",
      "metadata": {
        "id": "1331faa1"
      },
      "source": [
        "You can order print and ebook versions of *Think Python 3e* from\n",
        "[Bookshop.org](https://bookshop.org/a/98697/9781098155438) and\n",
        "[Amazon](https://www.amazon.com/_/dp/1098155432?smid=ATVPDKIKX0DER&_encoding=UTF8&tag=oreilly20-20&_encoding=UTF8&tag=greenteapre01-20&linkCode=ur2&linkId=e2a529f94920295d27ec8a06e757dc7c&camp=1789&creative=9325)."
      ]
    },
    {
      "cell_type": "code",
      "execution_count": 1,
      "id": "295ac6d7",
      "metadata": {
        "tags": [],
        "id": "295ac6d7",
        "outputId": "271e6343-39ca-4b74-b8e1-e1f362d2d5f0",
        "colab": {
          "base_uri": "https://localhost:8080/"
        }
      },
      "outputs": [
        {
          "output_type": "stream",
          "name": "stdout",
          "text": [
            "Downloaded thinkpython.py\n",
            "Downloaded diagram.py\n"
          ]
        }
      ],
      "source": [
        "from os.path import basename, exists\n",
        "\n",
        "def download(url):\n",
        "    filename = basename(url)\n",
        "    if not exists(filename):\n",
        "        from urllib.request import urlretrieve\n",
        "\n",
        "        local, _ = urlretrieve(url, filename)\n",
        "        print(\"Downloaded \" + str(local))\n",
        "    return filename\n",
        "\n",
        "download('https://github.com/AllenDowney/ThinkPython/raw/v3/thinkpython.py');\n",
        "download('https://github.com/AllenDowney/ThinkPython/raw/v3/diagram.py');\n",
        "\n",
        "import thinkpython"
      ]
    },
    {
      "cell_type": "markdown",
      "id": "5705b2a6",
      "metadata": {
        "tags": [],
        "id": "5705b2a6"
      },
      "source": [
        "# Tuples\n",
        "\n",
        "This chapter introduces one more built-in type, the tuple, and then shows how lists, dictionaries, and tuples work together.\n",
        "It also presents tuple assignment and a useful feature for functions with variable-length argument lists: the packing and unpacking operators.\n",
        "\n",
        "In the exercises, we'll use tuples, along with lists and dictionaries, to solve more word puzzles and implement efficient algorithms.\n",
        "\n",
        "One note: There are two ways to pronounce \"tuple\".\n",
        "Some people say \"tuh-ple\", which rhymes with \"supple\".\n",
        "But in the context of programming, most people say \"too-ple\", which rhymes with \"quadruple\"."
      ]
    },
    {
      "cell_type": "markdown",
      "id": "19474596",
      "metadata": {
        "id": "19474596"
      },
      "source": [
        "## Tuples are like lists\n",
        "\n",
        "A tuple is a sequence of values. The values can be any type, and they are indexed by integers, so tuples are a lot like lists.\n",
        "The important difference is that tuples are immutable.\n",
        "\n",
        "To create a tuple, you can write a comma-separated list of values."
      ]
    },
    {
      "cell_type": "code",
      "execution_count": 2,
      "id": "fb0bdca2",
      "metadata": {
        "id": "fb0bdca2",
        "outputId": "b91d3123-a2c8-4069-a954-f8bb0fa8b7f6",
        "colab": {
          "base_uri": "https://localhost:8080/"
        }
      },
      "outputs": [
        {
          "output_type": "execute_result",
          "data": {
            "text/plain": [
              "tuple"
            ]
          },
          "metadata": {},
          "execution_count": 2
        }
      ],
      "source": [
        "t = 'l', 'u', 'p', 'i', 'n'\n",
        "type(t)"
      ]
    },
    {
      "cell_type": "markdown",
      "id": "a2ec15d8",
      "metadata": {
        "id": "a2ec15d8"
      },
      "source": [
        "Although it is not necessary, it is common to enclose tuples in parentheses."
      ]
    },
    {
      "cell_type": "code",
      "execution_count": 3,
      "id": "5a6da881",
      "metadata": {
        "id": "5a6da881",
        "outputId": "c7c38076-f510-4c07-9d86-ee460484f8bf",
        "colab": {
          "base_uri": "https://localhost:8080/"
        }
      },
      "outputs": [
        {
          "output_type": "execute_result",
          "data": {
            "text/plain": [
              "tuple"
            ]
          },
          "metadata": {},
          "execution_count": 3
        }
      ],
      "source": [
        "t = ('l', 'u', 'p', 'i', 'n')\n",
        "type(t)"
      ]
    },
    {
      "cell_type": "markdown",
      "id": "9194a159",
      "metadata": {
        "id": "9194a159"
      },
      "source": [
        "To create a tuple with a single element, you have to include a final comma."
      ]
    },
    {
      "cell_type": "code",
      "execution_count": 4,
      "id": "e2596ca7",
      "metadata": {
        "id": "e2596ca7",
        "outputId": "52c51342-6c0e-4c84-d93c-579a420c4c48",
        "colab": {
          "base_uri": "https://localhost:8080/"
        }
      },
      "outputs": [
        {
          "output_type": "execute_result",
          "data": {
            "text/plain": [
              "tuple"
            ]
          },
          "metadata": {},
          "execution_count": 4
        }
      ],
      "source": [
        "t1 = 'p',\n",
        "type(t1)"
      ]
    },
    {
      "cell_type": "markdown",
      "id": "e39b95a5",
      "metadata": {
        "id": "e39b95a5"
      },
      "source": [
        "A single value in parentheses is not a tuple."
      ]
    },
    {
      "cell_type": "code",
      "execution_count": 5,
      "id": "a0d350a6",
      "metadata": {
        "id": "a0d350a6",
        "outputId": "ea520c7e-d316-4f94-ee10-b7be6575940c",
        "colab": {
          "base_uri": "https://localhost:8080/"
        }
      },
      "outputs": [
        {
          "output_type": "execute_result",
          "data": {
            "text/plain": [
              "str"
            ]
          },
          "metadata": {},
          "execution_count": 5
        }
      ],
      "source": [
        "t2 = ('p')\n",
        "type(t2)"
      ]
    },
    {
      "cell_type": "markdown",
      "id": "a64bfb64",
      "metadata": {
        "id": "a64bfb64"
      },
      "source": [
        "Another way to create a tuple is the built-in function `tuple`. With no\n",
        "argument, it creates an empty tuple."
      ]
    },
    {
      "cell_type": "code",
      "execution_count": 6,
      "id": "c9100ee4",
      "metadata": {
        "id": "c9100ee4",
        "outputId": "f3d0d12c-8bf3-48bf-c1cd-cfe379f7041f",
        "colab": {
          "base_uri": "https://localhost:8080/"
        }
      },
      "outputs": [
        {
          "output_type": "execute_result",
          "data": {
            "text/plain": [
              "()"
            ]
          },
          "metadata": {},
          "execution_count": 6
        }
      ],
      "source": [
        "t = tuple()\n",
        "t"
      ]
    },
    {
      "cell_type": "markdown",
      "id": "f3447831",
      "metadata": {
        "id": "f3447831"
      },
      "source": [
        "If the argument is a sequence (string, list or tuple), the result is a\n",
        "tuple with the elements of the sequence."
      ]
    },
    {
      "cell_type": "code",
      "execution_count": 7,
      "id": "44bd3d83",
      "metadata": {
        "id": "44bd3d83",
        "outputId": "da01154b-3b51-40fa-eb01-f8a652bd5626",
        "colab": {
          "base_uri": "https://localhost:8080/"
        }
      },
      "outputs": [
        {
          "output_type": "execute_result",
          "data": {
            "text/plain": [
              "('l', 'u', 'p', 'i', 'n')"
            ]
          },
          "metadata": {},
          "execution_count": 7
        }
      ],
      "source": [
        "t = tuple('lupin')\n",
        "t"
      ]
    },
    {
      "cell_type": "markdown",
      "id": "2e48b980",
      "metadata": {
        "id": "2e48b980"
      },
      "source": [
        "Because `tuple` is the name of a built-in function, you should avoid using it as a variable name.\n",
        "\n",
        "Most list operators also work with tuples.\n",
        "For example, the bracket operator indexes an element."
      ]
    },
    {
      "cell_type": "code",
      "execution_count": 8,
      "id": "92e55b2c",
      "metadata": {
        "id": "92e55b2c",
        "outputId": "7ba03382-5385-414b-f11e-13339c927925",
        "colab": {
          "base_uri": "https://localhost:8080/",
          "height": 35
        }
      },
      "outputs": [
        {
          "output_type": "execute_result",
          "data": {
            "text/plain": [
              "'l'"
            ],
            "application/vnd.google.colaboratory.intrinsic+json": {
              "type": "string"
            }
          },
          "metadata": {},
          "execution_count": 8
        }
      ],
      "source": [
        "t[0]"
      ]
    },
    {
      "cell_type": "markdown",
      "id": "2f702785",
      "metadata": {
        "id": "2f702785"
      },
      "source": [
        "And the slice operator selects a range of elements."
      ]
    },
    {
      "cell_type": "code",
      "execution_count": 9,
      "id": "38ee5c2a",
      "metadata": {
        "id": "38ee5c2a",
        "outputId": "b7f8b812-6bc7-4904-8dd9-20aca3c0064b",
        "colab": {
          "base_uri": "https://localhost:8080/"
        }
      },
      "outputs": [
        {
          "output_type": "execute_result",
          "data": {
            "text/plain": [
              "('u', 'p')"
            ]
          },
          "metadata": {},
          "execution_count": 9
        }
      ],
      "source": [
        "t[1:3]"
      ]
    },
    {
      "cell_type": "markdown",
      "id": "c9ed9af2",
      "metadata": {
        "id": "c9ed9af2"
      },
      "source": [
        "The `+` operator concatenates tuples."
      ]
    },
    {
      "cell_type": "code",
      "execution_count": 10,
      "id": "2e0e311a",
      "metadata": {
        "id": "2e0e311a",
        "outputId": "a38dfb98-3e9d-4feb-e48e-acfba158291d",
        "colab": {
          "base_uri": "https://localhost:8080/"
        }
      },
      "outputs": [
        {
          "output_type": "execute_result",
          "data": {
            "text/plain": [
              "('l', 'u', 'p', 'i', 'n')"
            ]
          },
          "metadata": {},
          "execution_count": 10
        }
      ],
      "source": [
        "tuple('lup') + ('i', 'n')"
      ]
    },
    {
      "cell_type": "markdown",
      "id": "1d7dcd6d",
      "metadata": {
        "id": "1d7dcd6d"
      },
      "source": [
        "And the `*` operator duplicates a tuple a given number of times."
      ]
    },
    {
      "cell_type": "code",
      "execution_count": 11,
      "id": "8bb7d715",
      "metadata": {
        "id": "8bb7d715",
        "outputId": "d52671cb-e630-462d-8cda-d1a303871423",
        "colab": {
          "base_uri": "https://localhost:8080/"
        }
      },
      "outputs": [
        {
          "output_type": "execute_result",
          "data": {
            "text/plain": [
              "('s', 'p', 'a', 'm', 's', 'p', 'a', 'm')"
            ]
          },
          "metadata": {},
          "execution_count": 11
        }
      ],
      "source": [
        "tuple('spam') * 2"
      ]
    },
    {
      "cell_type": "markdown",
      "id": "a53ce8bd",
      "metadata": {
        "id": "a53ce8bd"
      },
      "source": [
        "The `sorted` function works with tuples -- but the result is a list, not a tuple."
      ]
    },
    {
      "cell_type": "code",
      "execution_count": 12,
      "id": "e653e00f",
      "metadata": {
        "id": "e653e00f",
        "outputId": "ff6a9c32-b4f0-4d5b-9d8f-ddca1f6a53d6",
        "colab": {
          "base_uri": "https://localhost:8080/"
        }
      },
      "outputs": [
        {
          "output_type": "execute_result",
          "data": {
            "text/plain": [
              "['i', 'l', 'n', 'p', 'u']"
            ]
          },
          "metadata": {},
          "execution_count": 12
        }
      ],
      "source": [
        "sorted(t)"
      ]
    },
    {
      "cell_type": "markdown",
      "id": "50e5cadc",
      "metadata": {
        "id": "50e5cadc"
      },
      "source": [
        "The `reversed` function also works with tuples."
      ]
    },
    {
      "cell_type": "code",
      "execution_count": 13,
      "id": "8969188d",
      "metadata": {
        "id": "8969188d",
        "outputId": "12325aea-0c6b-482a-c9af-06681cadd475",
        "colab": {
          "base_uri": "https://localhost:8080/"
        }
      },
      "outputs": [
        {
          "output_type": "execute_result",
          "data": {
            "text/plain": [
              "<reversed at 0x7a61a172ca90>"
            ]
          },
          "metadata": {},
          "execution_count": 13
        }
      ],
      "source": [
        "reversed(t)"
      ]
    },
    {
      "cell_type": "markdown",
      "id": "f6d973c5",
      "metadata": {
        "id": "f6d973c5"
      },
      "source": [
        "The result is a `reversed` object, which we can convert to a list or tuple."
      ]
    },
    {
      "cell_type": "code",
      "execution_count": 14,
      "id": "65d7ebaa",
      "metadata": {
        "id": "65d7ebaa",
        "outputId": "43c4b426-ff43-4c7f-882c-987ffca4738e",
        "colab": {
          "base_uri": "https://localhost:8080/"
        }
      },
      "outputs": [
        {
          "output_type": "execute_result",
          "data": {
            "text/plain": [
              "('n', 'i', 'p', 'u', 'l')"
            ]
          },
          "metadata": {},
          "execution_count": 14
        }
      ],
      "source": [
        "tuple(reversed(t))"
      ]
    },
    {
      "cell_type": "markdown",
      "id": "a7cb9ee6",
      "metadata": {
        "id": "a7cb9ee6"
      },
      "source": [
        "Based on the examples so far, it might seem like tuples are the same as lists."
      ]
    },
    {
      "cell_type": "markdown",
      "id": "8c3f381e",
      "metadata": {
        "id": "8c3f381e"
      },
      "source": [
        "## But tuples are immutable\n",
        "\n",
        "If you try to modify a tuple with the bracket operator, you get a `TypeError`."
      ]
    },
    {
      "cell_type": "code",
      "execution_count": 15,
      "id": "b4970fe0",
      "metadata": {
        "tags": [],
        "id": "b4970fe0",
        "outputId": "b08bef24-d01c-4aa6-c5f8-c61c78a87ddd",
        "colab": {
          "base_uri": "https://localhost:8080/",
          "height": 54
        }
      },
      "outputs": [
        {
          "output_type": "error",
          "ename": "TypeError",
          "evalue": "'tuple' object does not support item assignment",
          "traceback": [
            "\u001b[0;31mTypeError\u001b[0m\u001b[0;31m:\u001b[0m 'tuple' object does not support item assignment\n"
          ]
        }
      ],
      "source": [
        "%%expect TypeError\n",
        "t[0] = 'L'"
      ]
    },
    {
      "cell_type": "markdown",
      "id": "592ce99c",
      "metadata": {
        "id": "592ce99c"
      },
      "source": [
        "And tuples don't have any of the methods that modify lists, like `append` and `remove`."
      ]
    },
    {
      "cell_type": "code",
      "execution_count": 16,
      "id": "772738cc",
      "metadata": {
        "tags": [],
        "id": "772738cc",
        "outputId": "97b4d2dc-b30d-40b2-aef5-f3140146a2e6",
        "colab": {
          "base_uri": "https://localhost:8080/",
          "height": 54
        }
      },
      "outputs": [
        {
          "output_type": "error",
          "ename": "AttributeError",
          "evalue": "'tuple' object has no attribute 'remove'",
          "traceback": [
            "\u001b[0;31mAttributeError\u001b[0m\u001b[0;31m:\u001b[0m 'tuple' object has no attribute 'remove'\n"
          ]
        }
      ],
      "source": [
        "%%expect AttributeError\n",
        "\n",
        "t.remove('l')"
      ]
    },
    {
      "cell_type": "markdown",
      "id": "70772ba2",
      "metadata": {
        "id": "70772ba2"
      },
      "source": [
        "Recall that an \"attribute\" is a variable or method associated with an object -- this error message means that tuples don't have a method named `remove`.\n",
        "\n",
        "Because tuples are immutable, they are hashable, which means they can be used as keys in a dictionary.\n",
        "For example, the following dictionary contains two tuples as keys that map to integers."
      ]
    },
    {
      "cell_type": "code",
      "execution_count": 18,
      "id": "37e67042",
      "metadata": {
        "id": "37e67042"
      },
      "outputs": [],
      "source": [
        "d = {}\n",
        "d[1, 2] = 3\n",
        "d[3, 4] = 7"
      ]
    },
    {
      "cell_type": "markdown",
      "id": "47ba17ab",
      "metadata": {
        "id": "47ba17ab"
      },
      "source": [
        "We can look up a tuple in a dictionary like this:"
      ]
    },
    {
      "cell_type": "code",
      "execution_count": 19,
      "id": "d809a490",
      "metadata": {
        "id": "d809a490",
        "outputId": "2aaae388-9db3-4d07-8c9e-f1c717f2d979",
        "colab": {
          "base_uri": "https://localhost:8080/"
        }
      },
      "outputs": [
        {
          "output_type": "execute_result",
          "data": {
            "text/plain": [
              "3"
            ]
          },
          "metadata": {},
          "execution_count": 19
        }
      ],
      "source": [
        "d[1, 2]"
      ]
    },
    {
      "cell_type": "markdown",
      "id": "f2c0a354",
      "metadata": {
        "id": "f2c0a354"
      },
      "source": [
        "Or if we have a variable that refers to a tuple, we can use it as a key."
      ]
    },
    {
      "cell_type": "code",
      "execution_count": 20,
      "id": "dfc42a8b",
      "metadata": {
        "id": "dfc42a8b",
        "outputId": "9252a11f-6beb-4e4f-ca36-e50824abae7d",
        "colab": {
          "base_uri": "https://localhost:8080/"
        }
      },
      "outputs": [
        {
          "output_type": "execute_result",
          "data": {
            "text/plain": [
              "7"
            ]
          },
          "metadata": {},
          "execution_count": 20
        }
      ],
      "source": [
        "t = (3, 4)\n",
        "d[t]"
      ]
    },
    {
      "cell_type": "markdown",
      "id": "2ea8fc3c",
      "metadata": {
        "id": "2ea8fc3c"
      },
      "source": [
        "Tuples can also appear as values in a dictionary."
      ]
    },
    {
      "cell_type": "code",
      "execution_count": 21,
      "id": "2debf30c",
      "metadata": {
        "id": "2debf30c",
        "outputId": "dd2b7bd2-41c6-496b-839e-80c8f2edda61",
        "colab": {
          "base_uri": "https://localhost:8080/"
        }
      },
      "outputs": [
        {
          "output_type": "execute_result",
          "data": {
            "text/plain": [
              "{'key': ('a', 'b', 'c')}"
            ]
          },
          "metadata": {},
          "execution_count": 21
        }
      ],
      "source": [
        "t = tuple('abc')\n",
        "d = {'key': t}\n",
        "d"
      ]
    },
    {
      "cell_type": "markdown",
      "id": "25655ab3",
      "metadata": {
        "id": "25655ab3"
      },
      "source": [
        "## Tuple assignment\n",
        "\n",
        "You can put a tuple of variables on the left side of an assignment, and a tuple of values on the right."
      ]
    },
    {
      "cell_type": "code",
      "execution_count": 22,
      "id": "1e94ea37",
      "metadata": {
        "id": "1e94ea37"
      },
      "outputs": [],
      "source": [
        "a, b = 1, 2"
      ]
    },
    {
      "cell_type": "markdown",
      "id": "92c00ceb",
      "metadata": {
        "id": "92c00ceb"
      },
      "source": [
        "The values are assigned to the variables from left to right -- in this example, `a` gets the value `1` and `b` gets the value `2`.\n",
        "We can display the results like this:"
      ]
    },
    {
      "cell_type": "code",
      "execution_count": 23,
      "id": "99c96c7f",
      "metadata": {
        "id": "99c96c7f",
        "outputId": "02bf8d14-3310-47a5-b829-32c7a949ec01",
        "colab": {
          "base_uri": "https://localhost:8080/"
        }
      },
      "outputs": [
        {
          "output_type": "execute_result",
          "data": {
            "text/plain": [
              "(1, 2)"
            ]
          },
          "metadata": {},
          "execution_count": 23
        }
      ],
      "source": [
        "a, b"
      ]
    },
    {
      "cell_type": "markdown",
      "id": "6362b36e",
      "metadata": {
        "id": "6362b36e"
      },
      "source": [
        "More generally, if the left side of an assignment is a tuple, the right side can be any kind of sequence -- string, list or tuple.\n",
        "For example, to split an email address into a user name and a domain, you could write:"
      ]
    },
    {
      "cell_type": "code",
      "execution_count": 24,
      "id": "b67881ed",
      "metadata": {
        "id": "b67881ed"
      },
      "outputs": [],
      "source": [
        "email = 'monty@python.org'\n",
        "username, domain = email.split('@')"
      ]
    },
    {
      "cell_type": "markdown",
      "id": "d134a94c",
      "metadata": {
        "id": "d134a94c"
      },
      "source": [
        "The return value from `split` is a list with two elements -- the first element is assigned to `username`, the second to `domain`."
      ]
    },
    {
      "cell_type": "code",
      "execution_count": 25,
      "id": "b4515e2b",
      "metadata": {
        "id": "b4515e2b",
        "outputId": "1c065ddd-f594-45fb-86b9-4e38412877ca",
        "colab": {
          "base_uri": "https://localhost:8080/"
        }
      },
      "outputs": [
        {
          "output_type": "execute_result",
          "data": {
            "text/plain": [
              "('monty', 'python.org')"
            ]
          },
          "metadata": {},
          "execution_count": 25
        }
      ],
      "source": [
        "username, domain"
      ]
    },
    {
      "cell_type": "markdown",
      "id": "5a7e3c62",
      "metadata": {
        "id": "5a7e3c62"
      },
      "source": [
        "The number of variables on the left and the number of values on the\n",
        "right have to be the same -- otherwise you get a `ValueError`."
      ]
    },
    {
      "cell_type": "code",
      "execution_count": 26,
      "id": "8e5b4a14",
      "metadata": {
        "tags": [],
        "id": "8e5b4a14",
        "outputId": "ac977a5e-ec5a-4784-fc86-44ddfb1e9a48",
        "colab": {
          "base_uri": "https://localhost:8080/",
          "height": 54
        }
      },
      "outputs": [
        {
          "output_type": "error",
          "ename": "ValueError",
          "evalue": "too many values to unpack (expected 2)",
          "traceback": [
            "\u001b[0;31mValueError\u001b[0m\u001b[0;31m:\u001b[0m too many values to unpack (expected 2)\n"
          ]
        }
      ],
      "source": [
        "%%expect ValueError\n",
        "a, b = 1, 2, 3"
      ]
    },
    {
      "cell_type": "markdown",
      "id": "808c2928",
      "metadata": {
        "id": "808c2928"
      },
      "source": [
        "Tuple assignment is useful if you want to swap the values of two variables.\n",
        "With conventional assignments, you have to use a temporary variable, like this:"
      ]
    },
    {
      "cell_type": "code",
      "execution_count": 27,
      "id": "2389d6de",
      "metadata": {
        "id": "2389d6de"
      },
      "outputs": [],
      "source": [
        "temp = a\n",
        "a = b\n",
        "b = temp"
      ]
    },
    {
      "cell_type": "markdown",
      "id": "98496d02",
      "metadata": {
        "id": "98496d02"
      },
      "source": [
        "That works, but with tuple assignment we can do the same thing without a temporary variable."
      ]
    },
    {
      "cell_type": "code",
      "execution_count": 28,
      "id": "5512edec",
      "metadata": {
        "id": "5512edec"
      },
      "outputs": [],
      "source": [
        "a, b = b, a"
      ]
    },
    {
      "cell_type": "markdown",
      "id": "a66a87bc",
      "metadata": {
        "id": "a66a87bc"
      },
      "source": [
        "This works because all of the expressions on the right side are evaluated before any of the assignments.\n",
        "\n",
        "We can also use tuple assignment in a `for` statement.\n",
        "For example, to loop through the items in a dictionary, we can use the `items` method."
      ]
    },
    {
      "cell_type": "code",
      "execution_count": 29,
      "id": "651ab417",
      "metadata": {
        "id": "651ab417",
        "outputId": "c8838b4a-78e2-48e7-fac4-30d1412c1cbc",
        "colab": {
          "base_uri": "https://localhost:8080/"
        }
      },
      "outputs": [
        {
          "output_type": "stream",
          "name": "stdout",
          "text": [
            "one -> 1\n",
            "two -> 2\n"
          ]
        }
      ],
      "source": [
        "d = {'one': 1, 'two': 2}\n",
        "\n",
        "for item in d.items():\n",
        "    key, value = item\n",
        "    print(key, '->', value)"
      ]
    },
    {
      "cell_type": "markdown",
      "id": "dd0d4feb",
      "metadata": {
        "id": "dd0d4feb"
      },
      "source": [
        "Each time through the loop, `item` is assigned a tuple that contains a key and the corresponding value.\n",
        "\n",
        "We can write this loop more concisely, like this:"
      ]
    },
    {
      "cell_type": "code",
      "execution_count": 30,
      "id": "2c0b7d47",
      "metadata": {
        "id": "2c0b7d47",
        "outputId": "68277963-30d9-4ec1-b9ac-fafffa213b85",
        "colab": {
          "base_uri": "https://localhost:8080/"
        }
      },
      "outputs": [
        {
          "output_type": "stream",
          "name": "stdout",
          "text": [
            "one -> 1\n",
            "two -> 2\n"
          ]
        }
      ],
      "source": [
        "for key, value in d.items():\n",
        "    print(key, '->', value)"
      ]
    },
    {
      "cell_type": "markdown",
      "id": "f0513578",
      "metadata": {
        "id": "f0513578"
      },
      "source": [
        "Each time through the loop, a key and the corresponding value are assigned directly to `key` and `value`."
      ]
    },
    {
      "cell_type": "markdown",
      "id": "efedeb37",
      "metadata": {
        "id": "efedeb37"
      },
      "source": [
        "## Tuples as return values\n",
        "\n",
        "Strictly speaking, a function can only return one value, but if the\n",
        "value is a tuple, the effect is the same as returning multiple values.\n",
        "For example, if you want to divide two integers and compute the quotient\n",
        "and remainder, it is inefficient to compute `x//y` and then `x%y`. It is\n",
        "better to compute them both at the same time.\n",
        "\n",
        "The built-in function `divmod` takes two arguments and returns a tuple\n",
        "of two values, the quotient and remainder."
      ]
    },
    {
      "cell_type": "code",
      "execution_count": 31,
      "id": "fff80eaa",
      "metadata": {
        "id": "fff80eaa",
        "outputId": "7271f690-3406-4c7b-e13b-23ff12f9da23",
        "colab": {
          "base_uri": "https://localhost:8080/"
        }
      },
      "outputs": [
        {
          "output_type": "execute_result",
          "data": {
            "text/plain": [
              "(2, 1)"
            ]
          },
          "metadata": {},
          "execution_count": 31
        }
      ],
      "source": [
        "divmod(7, 3)"
      ]
    },
    {
      "cell_type": "markdown",
      "id": "33f3c57d",
      "metadata": {
        "id": "33f3c57d"
      },
      "source": [
        "We can use tuple assignment to store the elements of the tuple in two variables."
      ]
    },
    {
      "cell_type": "code",
      "execution_count": 32,
      "id": "4a0eb2a9",
      "metadata": {
        "id": "4a0eb2a9",
        "outputId": "f39d8741-35d0-4d7d-e53f-169a362e5376",
        "colab": {
          "base_uri": "https://localhost:8080/"
        }
      },
      "outputs": [
        {
          "output_type": "execute_result",
          "data": {
            "text/plain": [
              "2"
            ]
          },
          "metadata": {},
          "execution_count": 32
        }
      ],
      "source": [
        "quotient, remainder = divmod(7, 3)\n",
        "quotient"
      ]
    },
    {
      "cell_type": "code",
      "execution_count": 33,
      "id": "d74ba1b6",
      "metadata": {
        "id": "d74ba1b6",
        "outputId": "a6425b2b-9b6f-45af-cff5-450acbbb4ec2",
        "colab": {
          "base_uri": "https://localhost:8080/"
        }
      },
      "outputs": [
        {
          "output_type": "execute_result",
          "data": {
            "text/plain": [
              "1"
            ]
          },
          "metadata": {},
          "execution_count": 33
        }
      ],
      "source": [
        "remainder"
      ]
    },
    {
      "cell_type": "markdown",
      "id": "15079805",
      "metadata": {
        "id": "15079805"
      },
      "source": [
        "Here is an example of a function that returns a tuple."
      ]
    },
    {
      "cell_type": "code",
      "execution_count": 36,
      "id": "dad3b3bb",
      "metadata": {
        "id": "dad3b3bb"
      },
      "outputs": [],
      "source": [
        "def min_max(t):\n",
        "    return min(t), max(t)"
      ]
    },
    {
      "cell_type": "markdown",
      "id": "43c4e1e0",
      "metadata": {
        "id": "43c4e1e0"
      },
      "source": [
        "`max` and `min` are built-in functions that find the largest and smallest elements of a sequence.\n",
        "`min_max` computes both and returns a tuple of two values."
      ]
    },
    {
      "cell_type": "code",
      "execution_count": 37,
      "id": "fbd90b0e",
      "metadata": {
        "id": "fbd90b0e",
        "outputId": "3bf70710-0771-4a23-e808-5e351133cef6",
        "colab": {
          "base_uri": "https://localhost:8080/"
        }
      },
      "outputs": [
        {
          "output_type": "execute_result",
          "data": {
            "text/plain": [
              "(1, 4)"
            ]
          },
          "metadata": {},
          "execution_count": 37
        }
      ],
      "source": [
        "min_max([2, 4, 1, 3])"
      ]
    },
    {
      "cell_type": "markdown",
      "id": "86b60e71",
      "metadata": {
        "id": "86b60e71"
      },
      "source": [
        "We can assign the results to variables like this:"
      ]
    },
    {
      "cell_type": "code",
      "execution_count": 38,
      "id": "5a101efb",
      "metadata": {
        "id": "5a101efb",
        "outputId": "312ff346-467a-4821-ec93-0f101b351499",
        "colab": {
          "base_uri": "https://localhost:8080/"
        }
      },
      "outputs": [
        {
          "output_type": "execute_result",
          "data": {
            "text/plain": [
              "(1, 4)"
            ]
          },
          "metadata": {},
          "execution_count": 38
        }
      ],
      "source": [
        "low, high = min_max([2, 4, 1, 3])\n",
        "low, high"
      ]
    },
    {
      "cell_type": "markdown",
      "id": "112b5aa2",
      "metadata": {
        "tags": [],
        "id": "112b5aa2"
      },
      "source": [
        "## Argument packing\n",
        "\n",
        "Functions can take a variable number of arguments.\n",
        "A parameter name that begins with the `*` operator **packs** arguments into a tuple.\n",
        "For example, the following function takes any number of arguments and computes their arithmetic mean -- that is, their sum divided by the number of arguments."
      ]
    },
    {
      "cell_type": "code",
      "execution_count": 47,
      "id": "0a33e2d0",
      "metadata": {
        "id": "0a33e2d0"
      },
      "outputs": [],
      "source": [
        "def mean(*args):\n",
        "    return sum(args) / len(args)"
      ]
    },
    {
      "cell_type": "markdown",
      "id": "6044fc1b",
      "metadata": {
        "id": "6044fc1b"
      },
      "source": [
        "The parameter can have any name you like, but `args` is conventional.\n",
        "We can call the function like this:"
      ]
    },
    {
      "cell_type": "code",
      "execution_count": 49,
      "id": "336a08ca",
      "metadata": {
        "id": "336a08ca",
        "outputId": "f50efa81-4b0c-496f-a168-b6d232d32be3",
        "colab": {
          "base_uri": "https://localhost:8080/"
        }
      },
      "outputs": [
        {
          "output_type": "execute_result",
          "data": {
            "text/plain": [
              "2.0"
            ]
          },
          "metadata": {},
          "execution_count": 49
        }
      ],
      "source": [
        "mean(1, 2, 3)"
      ]
    },
    {
      "cell_type": "markdown",
      "id": "a5e8b158",
      "metadata": {
        "id": "a5e8b158"
      },
      "source": [
        "If you have a sequence of values and you want to pass them to a function as multiple arguments, you can use the `*` operator to **unpack** the tuple.\n",
        "For example, `divmod` takes exactly two arguments -- if you pass a tuple as a parameter, you get an error."
      ]
    },
    {
      "cell_type": "code",
      "execution_count": 42,
      "id": "991810bc",
      "metadata": {
        "tags": [],
        "id": "991810bc",
        "outputId": "df27c480-9b3d-4fc4-8bd6-7d6a9dd5425a",
        "colab": {
          "base_uri": "https://localhost:8080/",
          "height": 54
        }
      },
      "outputs": [
        {
          "output_type": "error",
          "ename": "TypeError",
          "evalue": "divmod expected 2 arguments, got 1",
          "traceback": [
            "\u001b[0;31mTypeError\u001b[0m\u001b[0;31m:\u001b[0m divmod expected 2 arguments, got 1\n"
          ]
        }
      ],
      "source": [
        "%%expect TypeError\n",
        "t = (7, 3)\n",
        "divmod(t)"
      ]
    },
    {
      "cell_type": "markdown",
      "id": "5a9110db",
      "metadata": {
        "id": "5a9110db"
      },
      "source": [
        "Even though the tuple contains two elements, it counts as a single argument.\n",
        "But if you unpack the tuple, it is treated as two arguments."
      ]
    },
    {
      "cell_type": "code",
      "execution_count": 43,
      "id": "f25ebee1",
      "metadata": {
        "id": "f25ebee1",
        "outputId": "dcdca32a-3cdf-4389-ecd2-3174a3921fad",
        "colab": {
          "base_uri": "https://localhost:8080/"
        }
      },
      "outputs": [
        {
          "output_type": "execute_result",
          "data": {
            "text/plain": [
              "(2, 1)"
            ]
          },
          "metadata": {},
          "execution_count": 43
        }
      ],
      "source": [
        "divmod(*t)"
      ]
    },
    {
      "cell_type": "markdown",
      "id": "da554863",
      "metadata": {
        "id": "da554863"
      },
      "source": [
        "Packing and unpacking can be useful if you want to adapt the behavior of an existing function.\n",
        "For example, this function takes any number of arguments, removes the lowest and highest, and computes the mean of the rest."
      ]
    },
    {
      "cell_type": "code",
      "execution_count": 48,
      "id": "7ad64412",
      "metadata": {
        "id": "7ad64412"
      },
      "outputs": [],
      "source": [
        "def trimmed_mean(*args):\n",
        "    low, high = min_max(args)\n",
        "    trimmed = list(args)\n",
        "    trimmed.remove(low)\n",
        "    trimmed.remove(high)\n",
        "    return mean(*trimmed)"
      ]
    },
    {
      "cell_type": "markdown",
      "id": "d1e05e49",
      "metadata": {
        "id": "d1e05e49"
      },
      "source": [
        "First it uses `min_max` to find the lowest and highest elements.\n",
        "Then it converts `args` to a list so it can use the `remove` method.\n",
        "Finally it unpacks the list so the elements are passed to `mean` as separate arguments, rather than as a single list.\n",
        "\n",
        "Here's an example that shows the effect."
      ]
    },
    {
      "cell_type": "code",
      "execution_count": 50,
      "id": "b2863701",
      "metadata": {
        "id": "b2863701",
        "outputId": "a7b2b6fa-9051-40bd-a718-4ef919e20f65",
        "colab": {
          "base_uri": "https://localhost:8080/"
        }
      },
      "outputs": [
        {
          "output_type": "execute_result",
          "data": {
            "text/plain": [
              "4.0"
            ]
          },
          "metadata": {},
          "execution_count": 50
        }
      ],
      "source": [
        "mean(1, 2, 3, 10)"
      ]
    },
    {
      "cell_type": "code",
      "execution_count": 51,
      "id": "cc1afa29",
      "metadata": {
        "id": "cc1afa29",
        "outputId": "ee47dfc4-163d-42f8-9965-e3e6c184aaec",
        "colab": {
          "base_uri": "https://localhost:8080/"
        }
      },
      "outputs": [
        {
          "output_type": "execute_result",
          "data": {
            "text/plain": [
              "2.5"
            ]
          },
          "metadata": {},
          "execution_count": 51
        }
      ],
      "source": [
        "trimmed_mean(1, 2, 3, 10)"
      ]
    },
    {
      "cell_type": "markdown",
      "id": "35e04996",
      "metadata": {
        "id": "35e04996"
      },
      "source": [
        "This kind of \"trimmed\" mean is used in some sports with subjective judging -- like diving and gymnastics -- to reduce the effect of a judge whose score deviates from the others."
      ]
    },
    {
      "cell_type": "markdown",
      "id": "c4572cd2",
      "metadata": {
        "id": "c4572cd2"
      },
      "source": [
        "## Zip\n",
        "\n",
        "Tuples are useful for looping through the elements of two sequences and performing operations on corresponding elements.\n",
        "For example, suppose two teams play a series of seven games, and we record their scores in two lists, one for each team."
      ]
    },
    {
      "cell_type": "code",
      "execution_count": 52,
      "id": "ad3e6f81",
      "metadata": {
        "id": "ad3e6f81"
      },
      "outputs": [],
      "source": [
        "scores1 = [1, 2, 4, 5, 1, 5, 2]\n",
        "scores2 = [5, 5, 2, 2, 5, 2, 3]"
      ]
    },
    {
      "cell_type": "markdown",
      "id": "b44f228b",
      "metadata": {
        "id": "b44f228b"
      },
      "source": [
        "Let's see how many games each team won.\n",
        "We'll use `zip`, which is a built-in function that takes two or more sequences and returns a **zip object**, so-called because it pairs up the elements of the sequences like the teeth of a zipper."
      ]
    },
    {
      "cell_type": "code",
      "execution_count": 53,
      "id": "9ce313ce",
      "metadata": {
        "id": "9ce313ce",
        "outputId": "c0b0cf3c-d850-4e6f-d756-2ba1a86c0a4a",
        "colab": {
          "base_uri": "https://localhost:8080/"
        }
      },
      "outputs": [
        {
          "output_type": "execute_result",
          "data": {
            "text/plain": [
              "<zip at 0x7a61a0e53c40>"
            ]
          },
          "metadata": {},
          "execution_count": 53
        }
      ],
      "source": [
        "zip(scores1, scores2)"
      ]
    },
    {
      "cell_type": "markdown",
      "id": "9adcf8f9",
      "metadata": {
        "id": "9adcf8f9"
      },
      "source": [
        "We can use the zip object to loop through the values in the sequences pairwise."
      ]
    },
    {
      "cell_type": "code",
      "execution_count": 54,
      "id": "321d9c30",
      "metadata": {
        "id": "321d9c30",
        "outputId": "6d15072d-324e-4961-b3f5-66f3dfddc6e3",
        "colab": {
          "base_uri": "https://localhost:8080/"
        }
      },
      "outputs": [
        {
          "output_type": "stream",
          "name": "stdout",
          "text": [
            "(1, 5)\n",
            "(2, 5)\n",
            "(4, 2)\n",
            "(5, 2)\n",
            "(1, 5)\n",
            "(5, 2)\n",
            "(2, 3)\n"
          ]
        }
      ],
      "source": [
        "for pair in zip(scores1, scores2):\n",
        "     print(pair)"
      ]
    },
    {
      "cell_type": "markdown",
      "id": "51d1dabb",
      "metadata": {
        "id": "51d1dabb"
      },
      "source": [
        "Each time through the loop, `pair` gets assigned a tuple of scores.\n",
        "So we can assign the scores to variables, and count the victories for the first team, like this:"
      ]
    },
    {
      "cell_type": "code",
      "execution_count": 55,
      "id": "7eb73d5d",
      "metadata": {
        "id": "7eb73d5d",
        "outputId": "80ee0565-096e-4007-a6c5-39709630d610",
        "colab": {
          "base_uri": "https://localhost:8080/"
        }
      },
      "outputs": [
        {
          "output_type": "execute_result",
          "data": {
            "text/plain": [
              "3"
            ]
          },
          "metadata": {},
          "execution_count": 55
        }
      ],
      "source": [
        "wins = 0\n",
        "for team1, team2 in zip(scores1, scores2):\n",
        "    if team1 > team2:\n",
        "        wins += 1\n",
        "\n",
        "wins"
      ]
    },
    {
      "cell_type": "markdown",
      "id": "ad740fcd",
      "metadata": {
        "id": "ad740fcd"
      },
      "source": [
        "Sadly, the first team won only three games and lost the series.\n",
        "\n",
        "If you have two lists and you want a list of pairs, you can use `zip` and `list`."
      ]
    },
    {
      "cell_type": "code",
      "execution_count": 56,
      "id": "9529baa8",
      "metadata": {
        "id": "9529baa8",
        "outputId": "90b3f877-876b-4582-b7e1-f9a0763b47e6",
        "colab": {
          "base_uri": "https://localhost:8080/"
        }
      },
      "outputs": [
        {
          "output_type": "execute_result",
          "data": {
            "text/plain": [
              "[(1, 5), (2, 5), (4, 2), (5, 2), (1, 5), (5, 2), (2, 3)]"
            ]
          },
          "metadata": {},
          "execution_count": 56
        }
      ],
      "source": [
        "t = list(zip(scores1, scores2))\n",
        "t"
      ]
    },
    {
      "cell_type": "markdown",
      "id": "ec4249fa",
      "metadata": {
        "id": "ec4249fa"
      },
      "source": [
        "The result is a list of tuples, so we can get the result of the last game like this:"
      ]
    },
    {
      "cell_type": "code",
      "execution_count": 57,
      "id": "dbde77b8",
      "metadata": {
        "id": "dbde77b8",
        "outputId": "926a0726-c361-4fb5-c241-ac2f47857c8a",
        "colab": {
          "base_uri": "https://localhost:8080/"
        }
      },
      "outputs": [
        {
          "output_type": "execute_result",
          "data": {
            "text/plain": [
              "(2, 3)"
            ]
          },
          "metadata": {},
          "execution_count": 57
        }
      ],
      "source": [
        "t[-1]"
      ]
    },
    {
      "cell_type": "markdown",
      "id": "436486b9",
      "metadata": {
        "id": "436486b9"
      },
      "source": [
        "If you have a list of keys and a list of values, you can use `zip` and `dict` to make a dictionary.\n",
        "For example, here's how we can make a dictionary that maps from each letter to its position in the alphabet."
      ]
    },
    {
      "cell_type": "code",
      "execution_count": 58,
      "id": "dbb7d0b3",
      "metadata": {
        "id": "dbb7d0b3"
      },
      "outputs": [],
      "source": [
        "letters = 'abcdefghijklmnopqrstuvwxyz'\n",
        "numbers = range(len(letters))\n",
        "letter_map = dict(zip(letters, numbers))"
      ]
    },
    {
      "cell_type": "markdown",
      "id": "b4de6974",
      "metadata": {
        "id": "b4de6974"
      },
      "source": [
        "Now we can look up a letter and get its index in the alphabet."
      ]
    },
    {
      "cell_type": "code",
      "execution_count": 59,
      "id": "49e3fd8e",
      "metadata": {
        "id": "49e3fd8e",
        "outputId": "f2390be7-5b6b-41d6-e467-0a98dbd9c6ed",
        "colab": {
          "base_uri": "https://localhost:8080/"
        }
      },
      "outputs": [
        {
          "output_type": "execute_result",
          "data": {
            "text/plain": [
              "(0, 25)"
            ]
          },
          "metadata": {},
          "execution_count": 59
        }
      ],
      "source": [
        "letter_map['a'], letter_map['z']"
      ]
    },
    {
      "cell_type": "markdown",
      "id": "cc632542",
      "metadata": {
        "id": "cc632542"
      },
      "source": [
        "In this mapping, the index of `'a'` is `0` and the index of `'z'` is `25`.\n",
        "\n",
        "If you need to loop through the elements of a sequence and their indices, you can use the built-in function `enumerate`."
      ]
    },
    {
      "cell_type": "code",
      "execution_count": 60,
      "id": "9e4f3e51",
      "metadata": {
        "id": "9e4f3e51",
        "outputId": "5dc1fe79-4cc4-4668-83cd-3e8d82bf4e73",
        "colab": {
          "base_uri": "https://localhost:8080/"
        }
      },
      "outputs": [
        {
          "output_type": "execute_result",
          "data": {
            "text/plain": [
              "<enumerate at 0x7a61a0e5e7f0>"
            ]
          },
          "metadata": {},
          "execution_count": 60
        }
      ],
      "source": [
        "enumerate('abc')"
      ]
    },
    {
      "cell_type": "markdown",
      "id": "92ad45bb",
      "metadata": {
        "id": "92ad45bb"
      },
      "source": [
        "The result is an **enumerate object** that loops through a sequence of pairs, where each pair contains an index (starting from 0) and an element from the given sequence."
      ]
    },
    {
      "cell_type": "code",
      "execution_count": 61,
      "id": "c1dcb46d",
      "metadata": {
        "id": "c1dcb46d",
        "outputId": "48b16c00-ae0a-4ff2-d96e-5df434b08113",
        "colab": {
          "base_uri": "https://localhost:8080/"
        }
      },
      "outputs": [
        {
          "output_type": "stream",
          "name": "stdout",
          "text": [
            "0 a\n",
            "1 b\n",
            "2 c\n"
          ]
        }
      ],
      "source": [
        "for index, element in enumerate('abc'):\n",
        "    print(index, element)"
      ]
    },
    {
      "cell_type": "markdown",
      "id": "cf0b55d7",
      "metadata": {
        "id": "cf0b55d7"
      },
      "source": [
        "## Comparing and Sorting\n",
        "\n",
        "The relational operators work with tuples and other sequences.\n",
        "For example, if you use the `<` operator with tuples, it starts by comparing the first element from each sequence.\n",
        "If they are equal, it goes on to the next pair of elements, and so on, until it finds a pair that differ."
      ]
    },
    {
      "cell_type": "code",
      "execution_count": 62,
      "id": "aed20c28",
      "metadata": {
        "id": "aed20c28",
        "outputId": "881dc20f-ebe9-4c11-bda4-37bb99ef4e10",
        "colab": {
          "base_uri": "https://localhost:8080/"
        }
      },
      "outputs": [
        {
          "output_type": "execute_result",
          "data": {
            "text/plain": [
              "True"
            ]
          },
          "metadata": {},
          "execution_count": 62
        }
      ],
      "source": [
        "(0, 1, 2) < (0, 3, 4)"
      ]
    },
    {
      "cell_type": "markdown",
      "id": "65ceea86",
      "metadata": {
        "id": "65ceea86"
      },
      "source": [
        "Subsequent elements are not considered -- even if they are really big."
      ]
    },
    {
      "cell_type": "code",
      "execution_count": 63,
      "id": "4d9e73b3",
      "metadata": {
        "id": "4d9e73b3",
        "outputId": "a3fbcaa6-8c08-4c2a-f585-d2b15e3e1e08",
        "colab": {
          "base_uri": "https://localhost:8080/"
        }
      },
      "outputs": [
        {
          "output_type": "execute_result",
          "data": {
            "text/plain": [
              "True"
            ]
          },
          "metadata": {},
          "execution_count": 63
        }
      ],
      "source": [
        "(0, 1, 2000000) < (0, 3, 4)"
      ]
    },
    {
      "cell_type": "markdown",
      "id": "55e4a35e",
      "metadata": {
        "id": "55e4a35e"
      },
      "source": [
        "This way of comparing tuples is useful for sorting a list of tuples, or finding the minimum or maximum.\n",
        "As an example, let's find the most common letter in a word.\n",
        "In the previous chapter, we wrote `value_counts`, which takes a string and returns a dictionary that maps from each letter to the number of times it appears."
      ]
    },
    {
      "cell_type": "code",
      "execution_count": 64,
      "id": "2077dfa9",
      "metadata": {
        "id": "2077dfa9"
      },
      "outputs": [],
      "source": [
        "def value_counts(string):\n",
        "    counter = {}\n",
        "    for letter in string:\n",
        "        if letter not in counter:\n",
        "            counter[letter] = 1\n",
        "        else:\n",
        "            counter[letter] += 1\n",
        "    return counter"
      ]
    },
    {
      "cell_type": "markdown",
      "id": "a80012c1",
      "metadata": {
        "id": "a80012c1"
      },
      "source": [
        "Here is the result for the string `'banana'`."
      ]
    },
    {
      "cell_type": "code",
      "execution_count": 65,
      "id": "b3d40516",
      "metadata": {
        "id": "b3d40516",
        "outputId": "100f3eff-3bc1-403e-e0fa-9729bbb15783",
        "colab": {
          "base_uri": "https://localhost:8080/"
        }
      },
      "outputs": [
        {
          "output_type": "execute_result",
          "data": {
            "text/plain": [
              "{'b': 1, 'a': 3, 'n': 2}"
            ]
          },
          "metadata": {},
          "execution_count": 65
        }
      ],
      "source": [
        "counter = value_counts('banana')\n",
        "counter"
      ]
    },
    {
      "cell_type": "markdown",
      "id": "cc1ea4a7",
      "metadata": {
        "id": "cc1ea4a7"
      },
      "source": [
        "With only three items, we can easily see that the most frequent letter is `'a'`, which appears three times.\n",
        "But if there were more items, it would be useful to sort them automatically.\n",
        "\n",
        "We can get the items from `counter` like this."
      ]
    },
    {
      "cell_type": "code",
      "execution_count": 66,
      "id": "8288c28f",
      "metadata": {
        "id": "8288c28f",
        "outputId": "157d508d-e146-4b68-b69d-0bef04385b4d",
        "colab": {
          "base_uri": "https://localhost:8080/"
        }
      },
      "outputs": [
        {
          "output_type": "execute_result",
          "data": {
            "text/plain": [
              "dict_items([('b', 1), ('a', 3), ('n', 2)])"
            ]
          },
          "metadata": {},
          "execution_count": 66
        }
      ],
      "source": [
        "items = counter.items()\n",
        "items"
      ]
    },
    {
      "cell_type": "markdown",
      "id": "ac8dea7a",
      "metadata": {
        "id": "ac8dea7a"
      },
      "source": [
        "The result is a `dict_items` object that behaves like a list of tuples, so we can sort it like this."
      ]
    },
    {
      "cell_type": "code",
      "execution_count": 67,
      "id": "bbbade35",
      "metadata": {
        "id": "bbbade35",
        "outputId": "924dabb8-dc54-45d9-f328-da57b7265c4a",
        "colab": {
          "base_uri": "https://localhost:8080/"
        }
      },
      "outputs": [
        {
          "output_type": "execute_result",
          "data": {
            "text/plain": [
              "[('a', 3), ('b', 1), ('n', 2)]"
            ]
          },
          "metadata": {},
          "execution_count": 67
        }
      ],
      "source": [
        "sorted(items)"
      ]
    },
    {
      "cell_type": "markdown",
      "id": "b690d17a",
      "metadata": {
        "id": "b690d17a"
      },
      "source": [
        "The default behavior is to use the first element from each tuple to sort the list, and use the second element to break ties.\n",
        "\n",
        "However, to find the items with the highest counts, we want to use the second element to sort the list.\n",
        "We can do that by writing a function that takes a tuple and returns the second element."
      ]
    },
    {
      "cell_type": "code",
      "execution_count": 68,
      "id": "a4c31795",
      "metadata": {
        "id": "a4c31795"
      },
      "outputs": [],
      "source": [
        "def second_element(t):\n",
        "    return t[1]"
      ]
    },
    {
      "cell_type": "markdown",
      "id": "b964aa14",
      "metadata": {
        "id": "b964aa14"
      },
      "source": [
        "Then we can pass that function to `sorted` as an optional argument called `key`, which indicates that this function should be used to compute the **sort key** for each item."
      ]
    },
    {
      "cell_type": "code",
      "execution_count": 69,
      "id": "f3d3619a",
      "metadata": {
        "id": "f3d3619a",
        "outputId": "89f1024a-33fe-4a88-9039-b0fa36fd6c53",
        "colab": {
          "base_uri": "https://localhost:8080/"
        }
      },
      "outputs": [
        {
          "output_type": "execute_result",
          "data": {
            "text/plain": [
              "[('b', 1), ('n', 2), ('a', 3)]"
            ]
          },
          "metadata": {},
          "execution_count": 69
        }
      ],
      "source": [
        "sorted_items = sorted(items, key=second_element)\n",
        "sorted_items"
      ]
    },
    {
      "cell_type": "markdown",
      "id": "4dc96848",
      "metadata": {
        "id": "4dc96848"
      },
      "source": [
        "The sort key determines the order of the items in the list.\n",
        "The letter with the lowest count appears first, and the letter with the highest count appears last.\n",
        "So we can find the most common letter like this."
      ]
    },
    {
      "cell_type": "code",
      "execution_count": 70,
      "id": "f078c8a6",
      "metadata": {
        "id": "f078c8a6",
        "outputId": "3ff2160e-6973-4a0b-c85c-3959ec0b3b6d",
        "colab": {
          "base_uri": "https://localhost:8080/"
        }
      },
      "outputs": [
        {
          "output_type": "execute_result",
          "data": {
            "text/plain": [
              "('a', 3)"
            ]
          },
          "metadata": {},
          "execution_count": 70
        }
      ],
      "source": [
        "sorted_items[-1]"
      ]
    },
    {
      "cell_type": "markdown",
      "id": "d0d8b999",
      "metadata": {
        "id": "d0d8b999"
      },
      "source": [
        "If we only want the maximum, we don't have to sort the list.\n",
        "We can use `max`, which also takes `key` as an optional argument."
      ]
    },
    {
      "cell_type": "code",
      "execution_count": 71,
      "id": "54030d8f",
      "metadata": {
        "id": "54030d8f",
        "outputId": "c73a0e79-d9cf-49d2-d2c1-b2bb7fafd199",
        "colab": {
          "base_uri": "https://localhost:8080/"
        }
      },
      "outputs": [
        {
          "output_type": "execute_result",
          "data": {
            "text/plain": [
              "('a', 3)"
            ]
          },
          "metadata": {},
          "execution_count": 71
        }
      ],
      "source": [
        "max(items, key=second_element)"
      ]
    },
    {
      "cell_type": "markdown",
      "id": "8a8327df",
      "metadata": {
        "id": "8a8327df"
      },
      "source": [
        "To find the letter with the lowest count, we could use `min` the same way."
      ]
    },
    {
      "cell_type": "markdown",
      "id": "a62394a5",
      "metadata": {
        "id": "a62394a5"
      },
      "source": [
        "## Inverting a dictionary\n",
        "\n",
        "Suppose you want to invert a dictionary so you can look up a value and get the corresponding key.\n",
        "For example, if you have a word counter that maps from each word to the number of times it appears, you could make a dictionary that maps from integers to the words that appear that number of times.\n",
        "\n",
        "But there's a problem -- the keys in a dictionary have to be unique, but the values don't. For example, in a word counter, there could be many words with the same count.\n",
        "\n",
        "So one way to invert a dictionary is to create a new dictionary where the values are lists of keys from the original.\n",
        "As an example, let's count the letters in `parrot`."
      ]
    },
    {
      "cell_type": "code",
      "execution_count": 72,
      "id": "ef158f81",
      "metadata": {
        "id": "ef158f81",
        "outputId": "3846b812-2ba5-4ae4-9801-f4578de806be",
        "colab": {
          "base_uri": "https://localhost:8080/"
        }
      },
      "outputs": [
        {
          "output_type": "execute_result",
          "data": {
            "text/plain": [
              "{'p': 1, 'a': 1, 'r': 2, 'o': 1, 't': 1}"
            ]
          },
          "metadata": {},
          "execution_count": 72
        }
      ],
      "source": [
        "d =  value_counts('parrot')\n",
        "d"
      ]
    },
    {
      "cell_type": "markdown",
      "id": "f4570eae",
      "metadata": {
        "id": "f4570eae"
      },
      "source": [
        "If we invert this dictionary, the result should be `{1: ['p', 'a', 'o', 't'], 2: ['r']}`, which indicates that the letters that appear once are `'p'`, `'a'`, `'o'`, and `'t'`, and the letter than appears twice is `'r'`.\n",
        "\n",
        "The following function takes a dictionary and returns its inverse as a new dictionary."
      ]
    },
    {
      "cell_type": "code",
      "execution_count": 73,
      "id": "d3607b8d",
      "metadata": {
        "id": "d3607b8d"
      },
      "outputs": [],
      "source": [
        "def invert_dict(d):\n",
        "    new = {}\n",
        "    for key, value in d.items():\n",
        "        if value not in new:\n",
        "            new[value] = [key]\n",
        "        else:\n",
        "            new[value].append(key)\n",
        "    return new"
      ]
    },
    {
      "cell_type": "markdown",
      "id": "ca5fa025",
      "metadata": {
        "id": "ca5fa025"
      },
      "source": [
        "The `for` statement loops through the keys and values in `d`.\n",
        "If the value is not already in the new dictionary, it is added and associated with a list that contains a single element.\n",
        "Otherwise it is appended to the existing list.\n",
        "\n",
        "We can test it like this:"
      ]
    },
    {
      "cell_type": "code",
      "execution_count": 74,
      "id": "692d9cf8",
      "metadata": {
        "id": "692d9cf8",
        "outputId": "dcd97855-b8c3-4dc0-9864-c241dee07de0",
        "colab": {
          "base_uri": "https://localhost:8080/"
        }
      },
      "outputs": [
        {
          "output_type": "execute_result",
          "data": {
            "text/plain": [
              "{1: ['p', 'a', 'o', 't'], 2: ['r']}"
            ]
          },
          "metadata": {},
          "execution_count": 74
        }
      ],
      "source": [
        "invert_dict(d)"
      ]
    },
    {
      "cell_type": "markdown",
      "id": "4cfb1693",
      "metadata": {
        "id": "4cfb1693"
      },
      "source": [
        "And we get the result we expected.\n",
        "\n",
        "This is the first example we've seen where the values in the dictionary are lists.\n",
        "We will see more!"
      ]
    },
    {
      "cell_type": "markdown",
      "id": "6d138cd7",
      "metadata": {
        "tags": [],
        "id": "6d138cd7"
      },
      "source": [
        "## Debugging\n",
        "\n",
        "Lists, dictionaries and tuples are **data structures**.\n",
        "In this chapter we are starting to see compound data structures, like lists of tuples, or dictionaries that contain tuples as keys and lists as values.\n",
        "Compound data structures are useful, but they are prone to errors caused when a data structure has the wrong type, size, or structure.\n",
        "For example, if a function expects a list of integers and you give it a plain old integer\n",
        "(not in a list), it probably won't work.\n",
        "\n",
        "To help debug these kinds of errors, I wrote a module called `structshape` that provides a function, also called `structshape`, that takes any kind of data structure as an argument and returns a string that summarizes its structure.\n",
        "You can download it from\n",
        "<https://raw.githubusercontent.com/AllenDowney/ThinkPython/v3/structshape.py>."
      ]
    },
    {
      "cell_type": "code",
      "execution_count": 75,
      "id": "e9f03e91",
      "metadata": {
        "tags": [],
        "id": "e9f03e91",
        "outputId": "2ccf3213-7949-41d6-8656-1988f8d5da73",
        "colab": {
          "base_uri": "https://localhost:8080/"
        }
      },
      "outputs": [
        {
          "output_type": "stream",
          "name": "stdout",
          "text": [
            "Downloaded structshape.py\n"
          ]
        }
      ],
      "source": [
        "download('https://raw.githubusercontent.com/AllenDowney/ThinkPython/v3/structshape.py');"
      ]
    },
    {
      "cell_type": "markdown",
      "id": "646f4d55",
      "metadata": {
        "id": "646f4d55"
      },
      "source": [
        "We can import it like this."
      ]
    },
    {
      "cell_type": "code",
      "execution_count": 76,
      "id": "90ab624a",
      "metadata": {
        "id": "90ab624a"
      },
      "outputs": [],
      "source": [
        "from structshape import structshape"
      ]
    },
    {
      "cell_type": "markdown",
      "id": "86cc6ccc",
      "metadata": {
        "id": "86cc6ccc"
      },
      "source": [
        "Here's an example with a simple list."
      ]
    },
    {
      "cell_type": "code",
      "execution_count": 77,
      "id": "6794330f",
      "metadata": {
        "id": "6794330f",
        "outputId": "de9d0954-724a-4c4e-b64f-842cbebf746f",
        "colab": {
          "base_uri": "https://localhost:8080/",
          "height": 35
        }
      },
      "outputs": [
        {
          "output_type": "execute_result",
          "data": {
            "text/plain": [
              "'list of 3 int'"
            ],
            "application/vnd.google.colaboratory.intrinsic+json": {
              "type": "string"
            }
          },
          "metadata": {},
          "execution_count": 77
        }
      ],
      "source": [
        "t = [1, 2, 3]\n",
        "structshape(t)"
      ]
    },
    {
      "cell_type": "markdown",
      "id": "9de4f6ec",
      "metadata": {
        "id": "9de4f6ec"
      },
      "source": [
        "Here's a list of lists."
      ]
    },
    {
      "cell_type": "code",
      "execution_count": 78,
      "id": "54cd185b",
      "metadata": {
        "id": "54cd185b",
        "outputId": "7a1a796b-6e65-4ba0-f47f-4011ce17e532",
        "colab": {
          "base_uri": "https://localhost:8080/",
          "height": 35
        }
      },
      "outputs": [
        {
          "output_type": "execute_result",
          "data": {
            "text/plain": [
              "'list of 3 list of 2 int'"
            ],
            "application/vnd.google.colaboratory.intrinsic+json": {
              "type": "string"
            }
          },
          "metadata": {},
          "execution_count": 78
        }
      ],
      "source": [
        "t2 = [[1,2], [3,4], [5,6]]\n",
        "structshape(t2)"
      ]
    },
    {
      "cell_type": "markdown",
      "id": "aced9984",
      "metadata": {
        "id": "aced9984"
      },
      "source": [
        "If the elements of the list are not the same type, `structshape` groups\n",
        "them by type."
      ]
    },
    {
      "cell_type": "code",
      "execution_count": 79,
      "id": "04028afd",
      "metadata": {
        "id": "04028afd",
        "outputId": "1be6bb39-03fd-4ed2-d098-bfa50a3992b4",
        "colab": {
          "base_uri": "https://localhost:8080/",
          "height": 35
        }
      },
      "outputs": [
        {
          "output_type": "execute_result",
          "data": {
            "text/plain": [
              "'list of (3 int, float, 2 str, 2 list of int, int)'"
            ],
            "application/vnd.google.colaboratory.intrinsic+json": {
              "type": "string"
            }
          },
          "metadata": {},
          "execution_count": 79
        }
      ],
      "source": [
        "t3 = [1, 2, 3, 4.0, '5', '6', [7], [8], 9]\n",
        "structshape(t3)"
      ]
    },
    {
      "cell_type": "markdown",
      "id": "f63ff690",
      "metadata": {
        "id": "f63ff690"
      },
      "source": [
        "Here's a list of tuples."
      ]
    },
    {
      "cell_type": "code",
      "execution_count": 80,
      "id": "b5d45c88",
      "metadata": {
        "id": "b5d45c88",
        "outputId": "cc901131-a48b-446c-ea1d-f6de71b1cd2e",
        "colab": {
          "base_uri": "https://localhost:8080/",
          "height": 35
        }
      },
      "outputs": [
        {
          "output_type": "execute_result",
          "data": {
            "text/plain": [
              "'list of 3 tuple of (int, str)'"
            ],
            "application/vnd.google.colaboratory.intrinsic+json": {
              "type": "string"
            }
          },
          "metadata": {},
          "execution_count": 80
        }
      ],
      "source": [
        "s = 'abc'\n",
        "lt = list(zip(t, s))\n",
        "structshape(lt)"
      ]
    },
    {
      "cell_type": "markdown",
      "id": "c9ec67eb",
      "metadata": {
        "id": "c9ec67eb"
      },
      "source": [
        "And here's a dictionary with three items that map integers to strings."
      ]
    },
    {
      "cell_type": "code",
      "execution_count": 81,
      "id": "15131907",
      "metadata": {
        "id": "15131907",
        "outputId": "bf88e531-831a-4fa2-f68a-8d1a2cd70f8b",
        "colab": {
          "base_uri": "https://localhost:8080/",
          "height": 35
        }
      },
      "outputs": [
        {
          "output_type": "execute_result",
          "data": {
            "text/plain": [
              "'dict of 3 int->str'"
            ],
            "application/vnd.google.colaboratory.intrinsic+json": {
              "type": "string"
            }
          },
          "metadata": {},
          "execution_count": 81
        }
      ],
      "source": [
        "d = dict(lt)\n",
        "structshape(d)"
      ]
    },
    {
      "cell_type": "markdown",
      "id": "f29bb82b",
      "metadata": {
        "id": "f29bb82b"
      },
      "source": [
        "If you are having trouble keeping track of your data structures,\n",
        "`structshape` can help."
      ]
    },
    {
      "cell_type": "markdown",
      "id": "79d93082",
      "metadata": {
        "id": "79d93082"
      },
      "source": [
        "## Glossary\n",
        "\n",
        "**pack:**\n",
        "Collect multiple arguments into a tuple.\n",
        "\n",
        "**unpack:**\n",
        "Treat a tuple (or other sequence) as multiple arguments.\n",
        "\n",
        "**zip object:**\n",
        "The result of calling the built-in function `zip`, can be used to loop through a sequence of tuples.\n",
        "\n",
        "**enumerate object:**\n",
        "The result of calling the built-in function `enumerate`, can be used to loop through a sequence of tuples.\n",
        "\n",
        "**sort key:**\n",
        "A value, or function that computes a value, used to sort the elements of a collection.\n",
        "\n",
        "**data structure:**\n",
        "A collection of values, organized to perform certain operations efficiently."
      ]
    },
    {
      "cell_type": "markdown",
      "id": "1471b3c0",
      "metadata": {
        "id": "1471b3c0"
      },
      "source": [
        "## Exercises"
      ]
    },
    {
      "cell_type": "code",
      "execution_count": 82,
      "id": "c65d68d2",
      "metadata": {
        "tags": [],
        "id": "c65d68d2",
        "outputId": "f52b05a2-5be3-4f18-9232-ecaf004bfbaf",
        "colab": {
          "base_uri": "https://localhost:8080/"
        }
      },
      "outputs": [
        {
          "output_type": "stream",
          "name": "stdout",
          "text": [
            "Exception reporting mode: Verbose\n"
          ]
        }
      ],
      "source": [
        "# This cell tells Jupyter to provide detailed debugging information\n",
        "# when a runtime error occurs. Run it before working on the exercises.\n",
        "\n",
        "%xmode Verbose"
      ]
    },
    {
      "cell_type": "markdown",
      "id": "97a0352d",
      "metadata": {
        "id": "97a0352d"
      },
      "source": [
        "### Ask a virtual assistant\n",
        "\n",
        "The exercises in this chapter might be more difficult than exercises in previous chapters, so I encourage you to get help from a virtual assistant.\n",
        "When you pose more difficult questions, you might find that the answers are not correct on the first attempt, so this is a chance to practice crafting good prompts and following up with good refinements.\n",
        "\n",
        "One strategy you might consider is to break a big problems into pieces that can be solved with simple functions.\n",
        "Ask the virtual assistant to write the functions and test them.\n",
        "Then, once they are working, ask for a solution to the original problem.\n",
        "\n",
        "For some of the exercises below, I make suggestions about which data structures and algorithms to use.\n",
        "You might find these suggestions useful when you work on the problems, but they are also good prompts to pass along to a virtual assistant."
      ]
    },
    {
      "cell_type": "markdown",
      "id": "f90e011f",
      "metadata": {
        "id": "f90e011f"
      },
      "source": [
        "### Exercise\n",
        "\n",
        "In this chapter I said that tuples can be used as keys in dictionaries because they are hashable, and they are hashable because they are immutable.\n",
        "But that is not always true.\n",
        "\n",
        "If a tuple contains a mutable value, like a list or a dictionary, the tuple is no longer hashable because it contains elements that are not hashable. As an example, here's a tuple that contains two lists of integers."
      ]
    },
    {
      "cell_type": "code",
      "execution_count": 83,
      "id": "4416fe4a",
      "metadata": {
        "id": "4416fe4a",
        "outputId": "fa1b29ce-e4bf-4896-b965-f52b8260ee25",
        "colab": {
          "base_uri": "https://localhost:8080/"
        }
      },
      "outputs": [
        {
          "output_type": "execute_result",
          "data": {
            "text/plain": [
              "([1, 2, 3], [4, 5])"
            ]
          },
          "metadata": {},
          "execution_count": 83
        }
      ],
      "source": [
        "list0 = [1, 2, 3]\n",
        "list1 = [4, 5]\n",
        "\n",
        "t = (list0, list1)\n",
        "t"
      ]
    },
    {
      "cell_type": "markdown",
      "id": "02799077",
      "metadata": {
        "id": "02799077"
      },
      "source": [
        "Write a line of code that appends the value `6` to the end of the second list in `t`. If you display `t`, the result should be `([1, 2, 3], [4, 5, 6])`."
      ]
    },
    {
      "cell_type": "code",
      "execution_count": 84,
      "id": "e6eda0e4",
      "metadata": {
        "tags": [],
        "id": "e6eda0e4",
        "outputId": "8705e4cd-5f78-48e0-dcf0-0c7f92057f89",
        "colab": {
          "base_uri": "https://localhost:8080/"
        }
      },
      "outputs": [
        {
          "output_type": "execute_result",
          "data": {
            "text/plain": [
              "([1, 2, 3], [4, 5, 6])"
            ]
          },
          "metadata": {},
          "execution_count": 84
        }
      ],
      "source": [
        "# Solution goes here\n",
        "t[1].append(6)\n",
        "t"
      ]
    },
    {
      "cell_type": "markdown",
      "id": "644b1dfb",
      "metadata": {
        "id": "644b1dfb"
      },
      "source": [
        "Try to create a dictionary that maps from `t` to a string, and confirm that you get a `TypeError`."
      ]
    },
    {
      "cell_type": "code",
      "execution_count": 85,
      "id": "4fae1acc",
      "metadata": {
        "tags": [],
        "id": "4fae1acc",
        "outputId": "bf5fac59-5434-4325-abac-d2206957690f",
        "colab": {
          "base_uri": "https://localhost:8080/",
          "height": 193
        }
      },
      "outputs": [
        {
          "output_type": "error",
          "ename": "TypeError",
          "evalue": "unhashable type: 'list'",
          "traceback": [
            "\u001b[0;31m---------------------------------------------------------------------------\u001b[0m",
            "\u001b[0;31mTypeError\u001b[0m                                 Traceback (most recent call last)",
            "\u001b[0;32m<ipython-input-85-5494bd4ecbc7>\u001b[0m in \u001b[0;36m<cell line: 0>\u001b[0;34m()\u001b[0m\n\u001b[1;32m      1\u001b[0m \u001b[0;31m# Solution goes here\u001b[0m\u001b[0;34m\u001b[0m\u001b[0;34m\u001b[0m\u001b[0m\n\u001b[0;32m----> 2\u001b[0;31m \u001b[0md\u001b[0m\u001b[0;34m=\u001b[0m\u001b[0;34m{\u001b[0m\u001b[0mt\u001b[0m\u001b[0;34m:\u001b[0m \u001b[0;34m'ciao'\u001b[0m\u001b[0;34m}\u001b[0m\u001b[0;34m\u001b[0m\u001b[0;34m\u001b[0m\u001b[0m\n\u001b[0m        \u001b[0;36mglobal\u001b[0m \u001b[0;36md\u001b[0m \u001b[0;34m= {1: 'a', 2: 'b', 3: 'c'}\u001b[0m\u001b[0;34m\n        \u001b[0m\u001b[0;36mglobal\u001b[0m \u001b[0;36mt\u001b[0m \u001b[0;34m= ([1, 2, 3], [4, 5, 6])\u001b[0m\n",
            "\u001b[0;31mTypeError\u001b[0m: unhashable type: 'list'"
          ]
        }
      ],
      "source": [
        "# Solution goes here\n",
        "d={t: 'ciao'}"
      ]
    },
    {
      "cell_type": "markdown",
      "id": "fb77a352",
      "metadata": {
        "id": "fb77a352"
      },
      "source": [
        "For more on this topic, ask a virtual assistant, \"Are Python tuples always hashable?\""
      ]
    },
    {
      "cell_type": "markdown",
      "id": "bdfc8c27",
      "metadata": {
        "tags": [],
        "id": "bdfc8c27"
      },
      "source": [
        "### Exercise\n",
        "\n",
        "In this chapter we made a dictionary that maps from each letter to its index in the alphabet."
      ]
    },
    {
      "cell_type": "code",
      "execution_count": 89,
      "id": "855c7ed2",
      "metadata": {
        "id": "855c7ed2"
      },
      "outputs": [],
      "source": [
        "letters = 'abcdefghijklmnopqrstuvwxyz'\n",
        "numbers = range(len(letters))\n",
        "letter_map = dict(zip(letters, numbers))"
      ]
    },
    {
      "cell_type": "markdown",
      "id": "a8cd720b",
      "metadata": {
        "id": "a8cd720b"
      },
      "source": [
        "For example, the index of `'a'` is `0`."
      ]
    },
    {
      "cell_type": "code",
      "execution_count": 87,
      "id": "3c921f68",
      "metadata": {
        "id": "3c921f68",
        "outputId": "b76cfb34-6d8c-4215-b6cb-2bb1f2d52094",
        "colab": {
          "base_uri": "https://localhost:8080/"
        }
      },
      "outputs": [
        {
          "output_type": "execute_result",
          "data": {
            "text/plain": [
              "0"
            ]
          },
          "metadata": {},
          "execution_count": 87
        }
      ],
      "source": [
        "letter_map['a']"
      ]
    },
    {
      "cell_type": "markdown",
      "id": "a04c25db",
      "metadata": {
        "id": "a04c25db"
      },
      "source": [
        "To go in the other direction, we can use list indexing.\n",
        "For example, the letter at index `1` is `'b'`."
      ]
    },
    {
      "cell_type": "code",
      "execution_count": 88,
      "id": "b029b0da",
      "metadata": {
        "id": "b029b0da",
        "outputId": "dc61fd4a-2f2d-44f7-d9e9-d3fbb27c6ddf",
        "colab": {
          "base_uri": "https://localhost:8080/",
          "height": 35
        }
      },
      "outputs": [
        {
          "output_type": "execute_result",
          "data": {
            "text/plain": [
              "'b'"
            ],
            "application/vnd.google.colaboratory.intrinsic+json": {
              "type": "string"
            }
          },
          "metadata": {},
          "execution_count": 88
        }
      ],
      "source": [
        "letters[1]"
      ]
    },
    {
      "cell_type": "markdown",
      "id": "165ab770",
      "metadata": {
        "id": "165ab770"
      },
      "source": [
        "We can use `letter_map` and `letters` to encode and decode words using a Caesar cipher.\n",
        "\n",
        "A Caesar cipher is a weak form of encryption that involves shifting each letter\n",
        "by a fixed number of places in the alphabet, wrapping around to the beginning if necessary. For example, `'a'` shifted by 2 is `'c'` and `'z'` shifted by 1 is `'a'`.\n",
        "\n",
        "Write a function called `shift_word` that takes as parameters a string and an integer, and returns a new string that contains the letters from the string shifted by the given number of places.\n",
        "\n",
        "To test your function, confirm that \"cheer\" shifted by 7 is \"jolly\" and \"melon\" shifted by 16 is \"cubed\".\n",
        "\n",
        "Hints: Use the modulus operator to wrap around from `'z'` back to `'a'`.\n",
        "Loop through the letters of the word, shift each one, and append the result to a list of letters.\n",
        "Then use `join` to concatenate the letters into a string."
      ]
    },
    {
      "cell_type": "markdown",
      "id": "e7478b18",
      "metadata": {
        "tags": [],
        "id": "e7478b18"
      },
      "source": [
        "You can use this outline to get started."
      ]
    },
    {
      "cell_type": "code",
      "execution_count": 90,
      "id": "1cc07036",
      "metadata": {
        "tags": [],
        "id": "1cc07036"
      },
      "outputs": [],
      "source": [
        "def shift_word(word, n):\n",
        "    \"\"\"Shift the letters of `word` by `n` places.\n",
        "\n",
        "    >>> shift_word('cheer', 7)\n",
        "    'jolly'\n",
        "    >>> shift_word('melon', 16)\n",
        "    'cubed'\n",
        "    \"\"\"\n",
        "\n",
        "    return None"
      ]
    },
    {
      "cell_type": "code",
      "execution_count": 91,
      "id": "96560a0e",
      "metadata": {
        "id": "96560a0e"
      },
      "outputs": [],
      "source": [
        "# Solution goes here\n",
        "\n",
        "def shift_word(word, n):\n",
        "    \"\"\"Shift the letters of `word` by `n` places.\n",
        "\n",
        "    >>> shift_word('cheer', 7)\n",
        "    'jolly'\n",
        "    >>> shift_word('melon', 16)\n",
        "    'cubed'\n",
        "    \"\"\"\n",
        "\n",
        "    l = len(letters)\n",
        "    t = []\n",
        "    for letter in word:\n",
        "        index = (letter_map[letter] + n) % l\n",
        "        t.append(letters[index])\n",
        "    return ''.join(t)"
      ]
    },
    {
      "cell_type": "code",
      "execution_count": 92,
      "id": "c026c6d1",
      "metadata": {
        "tags": [],
        "id": "c026c6d1",
        "outputId": "bf944ae6-5115-44c7-faa2-e6465e487c67",
        "colab": {
          "base_uri": "https://localhost:8080/",
          "height": 35
        }
      },
      "outputs": [
        {
          "output_type": "execute_result",
          "data": {
            "text/plain": [
              "'jolly'"
            ],
            "application/vnd.google.colaboratory.intrinsic+json": {
              "type": "string"
            }
          },
          "metadata": {},
          "execution_count": 92
        }
      ],
      "source": [
        "shift_word('cheer', 7)"
      ]
    },
    {
      "cell_type": "code",
      "execution_count": 93,
      "id": "5814999d",
      "metadata": {
        "tags": [],
        "id": "5814999d",
        "outputId": "678f2dc1-ee76-4506-a5af-203ec0a844f4",
        "colab": {
          "base_uri": "https://localhost:8080/",
          "height": 35
        }
      },
      "outputs": [
        {
          "output_type": "execute_result",
          "data": {
            "text/plain": [
              "'cubed'"
            ],
            "application/vnd.google.colaboratory.intrinsic+json": {
              "type": "string"
            }
          },
          "metadata": {},
          "execution_count": 93
        }
      ],
      "source": [
        "shift_word('melon', 16)"
      ]
    },
    {
      "cell_type": "markdown",
      "id": "39a67af9",
      "metadata": {
        "tags": [],
        "id": "39a67af9"
      },
      "source": [
        "You can use `doctest` to test your function."
      ]
    },
    {
      "cell_type": "code",
      "execution_count": 95,
      "id": "9464d140",
      "metadata": {
        "tags": [],
        "id": "9464d140"
      },
      "outputs": [],
      "source": [
        "from doctest import run_docstring_examples\n",
        "\n",
        "def run_doctests(func):\n",
        "    run_docstring_examples(func, globals(), name=func.__name__)\n",
        "\n",
        "run_doctests(shift_word)"
      ]
    },
    {
      "cell_type": "markdown",
      "id": "779f13af",
      "metadata": {
        "id": "779f13af"
      },
      "source": [
        "### Exercise\n",
        "\n",
        "Write a function called `most_frequent_letters` that takes a string and prints the letters in decreasing order of frequency.\n",
        "\n",
        "To get the items in decreasing order, you can use `reversed` along with `sorted` or you can pass `reverse=True` as a keyword parameter to `sorted`."
      ]
    },
    {
      "cell_type": "markdown",
      "id": "d71923e6",
      "metadata": {
        "tags": [],
        "id": "d71923e6"
      },
      "source": [
        "You can use this outline of the function to get started."
      ]
    },
    {
      "cell_type": "code",
      "execution_count": 96,
      "id": "4309d0b5",
      "metadata": {
        "tags": [],
        "id": "4309d0b5"
      },
      "outputs": [],
      "source": [
        "def most_frequent_letters(string):\n",
        "    return None"
      ]
    },
    {
      "cell_type": "code",
      "execution_count": 105,
      "id": "52228828",
      "metadata": {
        "id": "52228828"
      },
      "outputs": [],
      "source": [
        "# Solution goes here\n",
        "def most_frequent_letters(string):\n",
        "    counter = value_counts(string)\n",
        "    pairs = sorted(counter.items(), key=second_element, reverse = True)\n",
        "    for let, num in pairs:\n",
        "        print(let, num)"
      ]
    },
    {
      "cell_type": "markdown",
      "id": "c6354c44",
      "metadata": {
        "tags": [],
        "id": "c6354c44"
      },
      "source": [
        "And this example to test your function."
      ]
    },
    {
      "cell_type": "code",
      "execution_count": 106,
      "id": "3bf2aa0d",
      "metadata": {
        "tags": [],
        "id": "3bf2aa0d",
        "outputId": "414d3bbb-0d32-443c-af2d-7273226bd314",
        "colab": {
          "base_uri": "https://localhost:8080/"
        }
      },
      "outputs": [
        {
          "output_type": "stream",
          "name": "stdout",
          "text": [
            "r 2\n",
            "o 2\n",
            "s 2\n",
            "u 2\n",
            "b 1\n",
            "n 1\n",
            "t 1\n",
            "a 1\n"
          ]
        }
      ],
      "source": [
        "most_frequent_letters('brontosaurus')"
      ]
    },
    {
      "cell_type": "markdown",
      "id": "2ca1e337",
      "metadata": {
        "tags": [],
        "id": "2ca1e337"
      },
      "source": [
        "Once your function is working, you can use the following code to print the most common letters in *Dracula*, which we can download from Project Gutenberg."
      ]
    },
    {
      "cell_type": "code",
      "execution_count": 107,
      "id": "e4fbf5d9",
      "metadata": {
        "tags": [],
        "id": "e4fbf5d9",
        "outputId": "54696f88-899b-419f-a3e5-05e851471247",
        "colab": {
          "base_uri": "https://localhost:8080/"
        }
      },
      "outputs": [
        {
          "output_type": "stream",
          "name": "stdout",
          "text": [
            "Downloaded pg345.txt\n"
          ]
        }
      ],
      "source": [
        "download('https://www.gutenberg.org/cache/epub/345/pg345.txt');"
      ]
    },
    {
      "cell_type": "code",
      "execution_count": 108,
      "id": "817ec689",
      "metadata": {
        "tags": [],
        "id": "817ec689",
        "outputId": "de35c9e4-ef28-4304-bdc3-3b3718ce343a",
        "colab": {
          "base_uri": "https://localhost:8080/"
        }
      },
      "outputs": [
        {
          "output_type": "stream",
          "name": "stdout",
          "text": [
            "  156405\n",
            "e 81286\n",
            "t 58252\n",
            "a 52551\n",
            "o 51613\n",
            "n 44551\n",
            "h 42406\n",
            "s 39619\n",
            "i 38338\n",
            "r 36121\n",
            "d 28667\n",
            "l 26080\n",
            "u 18479\n",
            "w 17432\n",
            "m 17171\n",
            "\n",
            " 15851\n",
            "f 14206\n",
            "c 13650\n",
            "y 12808\n",
            "g 12633\n",
            ", 11394\n",
            "p 9158\n",
            "b 8831\n",
            ". 8534\n",
            "k 6309\n",
            "I 5735\n",
            "v 5628\n",
            "- 3856\n",
            "T 1841\n",
            "; 1683\n",
            "H 1681\n",
            "’ 1553\n",
            "“ 1553\n",
            "” 1399\n",
            "A 1225\n",
            "W 1045\n",
            "M 1010\n",
            "_ 995\n",
            "S 980\n",
            "x 813\n",
            "! 752\n",
            "L 749\n",
            "* 662\n",
            ": 649\n",
            "C 587\n",
            "D 579\n",
            "P 546\n",
            "q 546\n",
            "G 542\n",
            "j 493\n",
            "? 492\n",
            "B 491\n",
            "E 454\n",
            "J 433\n",
            "V 431\n",
            "O 425\n",
            "N 389\n",
            "R 388\n",
            "Y 344\n",
            "z 277\n",
            "F 263\n",
            "1 160\n",
            "U 158\n",
            "2 98\n",
            "Q 95\n",
            "‘ 93\n",
            "K 74\n",
            "3 65\n",
            "0 61\n",
            "X 59\n",
            "™ 57\n",
            "( 48\n",
            ") 48\n",
            "5 46\n",
            "4 43\n",
            "7 37\n",
            "9 35\n",
            "8 34\n",
            "6 28\n",
            "& 21\n",
            "è 10\n",
            "æ 9\n",
            "ö 9\n",
            "/ 6\n",
            "Z 5\n",
            "• 4\n",
            "[ 3\n",
            "] 3\n",
            "— 3\n",
            "ë 3\n",
            "£ 3\n",
            "{ 3\n",
            "} 3\n",
            "é 3\n",
            "â 2\n",
            "ï 2\n",
            "$ 2\n",
            "﻿ 1\n",
            "# 1\n",
            "á 1\n",
            "ô 1\n",
            "à 1\n",
            "% 1\n"
          ]
        }
      ],
      "source": [
        "string = open('pg345.txt').read()\n",
        "most_frequent_letters(string)"
      ]
    },
    {
      "cell_type": "markdown",
      "id": "211c09c9",
      "metadata": {
        "tags": [],
        "id": "211c09c9"
      },
      "source": [
        "According to Zim's \"Codes and Secret Writing\", the sequence of letters in decreasing order of frequency in English starts with \"ETAONRISH\".\n",
        "How does this sequence compare with the results from *Dracula*?"
      ]
    },
    {
      "cell_type": "markdown",
      "id": "cbe9933e",
      "metadata": {
        "id": "cbe9933e"
      },
      "source": [
        "### Exercise\n",
        "\n",
        "In a previous exercise, we tested whether two strings are anagrams by sorting the letters in both words and checking whether the sorted letters are the same.\n",
        "Now let's make the problem a little more challenging.\n",
        "\n",
        "We'll write a program that takes a list of words and prints all the sets of words that are anagrams.\n",
        "Here is an example of what the output might look like:\n",
        "\n",
        "    ['deltas', 'desalt', 'lasted', 'salted', 'slated', 'staled']\n",
        "    ['retainers', 'ternaries']\n",
        "    ['generating', 'greatening']\n",
        "    ['resmelts', 'smelters', 'termless']\n",
        "\n",
        "Hint: For each word in the word list, sort the letters and join them back into a string. Make a dictionary that maps from this sorted string to a list of words that are anagrams of it."
      ]
    },
    {
      "cell_type": "markdown",
      "id": "4b9ed2a8",
      "metadata": {
        "tags": [],
        "id": "4b9ed2a8"
      },
      "source": [
        "The following cells download `words.txt` and read the words into a list."
      ]
    },
    {
      "cell_type": "code",
      "execution_count": 109,
      "id": "941719c1",
      "metadata": {
        "tags": [],
        "id": "941719c1",
        "outputId": "fec51ee0-5be1-4f97-8cc2-92cc8bd74ffc",
        "colab": {
          "base_uri": "https://localhost:8080/"
        }
      },
      "outputs": [
        {
          "output_type": "stream",
          "name": "stdout",
          "text": [
            "Downloaded words.txt\n"
          ]
        }
      ],
      "source": [
        "download('https://raw.githubusercontent.com/AllenDowney/ThinkPython/v3/words.txt');"
      ]
    },
    {
      "cell_type": "code",
      "execution_count": 135,
      "id": "d2ec641b",
      "metadata": {
        "tags": [],
        "id": "d2ec641b"
      },
      "outputs": [],
      "source": [
        "word_list = open('words.txt').read().split()"
      ]
    },
    {
      "cell_type": "markdown",
      "id": "e4cc2c8c",
      "metadata": {
        "tags": [],
        "id": "e4cc2c8c"
      },
      "source": [
        "Here's the `sort_word` function we've used before."
      ]
    },
    {
      "cell_type": "code",
      "execution_count": 136,
      "id": "7ae29f73",
      "metadata": {
        "tags": [],
        "id": "7ae29f73"
      },
      "outputs": [],
      "source": [
        "def sort_word(word):\n",
        "    return ''.join(sorted(word))"
      ]
    },
    {
      "cell_type": "code",
      "execution_count": 145,
      "id": "013819a5",
      "metadata": {
        "id": "013819a5"
      },
      "outputs": [],
      "source": [
        "# Solution goes here\n",
        "\n",
        "anagram_dict = {}\n",
        "for word in word_list:\n",
        "    key = sort_word(word)\n",
        "    if key not in anagram_dict:\n",
        "        anagram_dict[key] = [word]\n",
        "    else:\n",
        "        anagram_dict[key].append(word)"
      ]
    },
    {
      "cell_type": "markdown",
      "id": "70faa9f5",
      "metadata": {
        "tags": [],
        "id": "70faa9f5"
      },
      "source": [
        "To find the longest list of anagrams, you can use the following function, which takes a key-value pair where the key is a string and the value is a list of words.\n",
        "It returns the length of the list."
      ]
    },
    {
      "cell_type": "code",
      "execution_count": 146,
      "id": "fbf9ede3",
      "metadata": {
        "tags": [],
        "id": "fbf9ede3"
      },
      "outputs": [],
      "source": [
        "def value_length(pair):\n",
        "    key, value = pair\n",
        "    return len(value)"
      ]
    },
    {
      "cell_type": "markdown",
      "id": "dcda6e28",
      "metadata": {
        "tags": [],
        "id": "dcda6e28"
      },
      "source": [
        "We can use this function as a sort key to find the longest lists of anagrams."
      ]
    },
    {
      "cell_type": "code",
      "execution_count": 147,
      "id": "55435050",
      "metadata": {
        "tags": [],
        "id": "55435050",
        "outputId": "d5414d11-315f-450a-c9ab-fbfa2950ac85",
        "colab": {
          "base_uri": "https://localhost:8080/"
        }
      },
      "outputs": [
        {
          "output_type": "stream",
          "name": "stdout",
          "text": [
            "['carets', 'cartes', 'caster', 'caters', 'crates', 'reacts', 'recast', 'traces']\n",
            "['earings', 'erasing', 'gainers', 'reagins', 'regains', 'reginas', 'searing', 'seringa']\n",
            "['lapse', 'leaps', 'pales', 'peals', 'pleas', 'salep', 'sepal', 'spale']\n",
            "['palest', 'palets', 'pastel', 'petals', 'plates', 'pleats', 'septal', 'staple']\n",
            "['peris', 'piers', 'pries', 'prise', 'ripes', 'speir', 'spier', 'spire']\n",
            "['capers', 'crapes', 'escarp', 'pacers', 'parsec', 'recaps', 'scrape', 'secpar', 'spacer']\n",
            "['estrin', 'inerts', 'insert', 'inters', 'niters', 'nitres', 'sinter', 'triens', 'trines']\n",
            "['least', 'setal', 'slate', 'stale', 'steal', 'stela', 'taels', 'tales', 'teals', 'tesla']\n",
            "['alerts', 'alters', 'artels', 'estral', 'laster', 'ratels', 'salter', 'slater', 'staler', 'stelar', 'talers']\n",
            "['apers', 'asper', 'pares', 'parse', 'pears', 'prase', 'presa', 'rapes', 'reaps', 'spare', 'spear']\n"
          ]
        }
      ],
      "source": [
        "anagram_items = sorted(anagram_dict.items(), key=value_length)\n",
        "for key, value in anagram_items[-10:]:\n",
        "    print(value)"
      ]
    },
    {
      "cell_type": "markdown",
      "id": "0b6d5add",
      "metadata": {
        "tags": [],
        "id": "0b6d5add"
      },
      "source": [
        "If you want to know the longest words that have anagrams, you can use the following loop to print some of them."
      ]
    },
    {
      "cell_type": "code",
      "execution_count": 151,
      "id": "6a9320c2",
      "metadata": {
        "tags": [],
        "id": "6a9320c2",
        "outputId": "b2b6ba7d-502d-44d6-cc11-1f4fc9387c16",
        "colab": {
          "base_uri": "https://localhost:8080/"
        }
      },
      "outputs": [
        {
          "output_type": "stream",
          "name": "stdout",
          "text": [
            "['abasement', 'entamebas']\n",
            "['abreacting', 'acerbating']\n",
            "['altercations', 'intercoastal']\n",
            "['certification', 'rectification']\n",
            "['certifications', 'rectifications']\n",
            "['impressivenesses', 'permissivenesses']\n"
          ]
        }
      ],
      "source": [
        "longest = 7\n",
        "\n",
        "for key, value in anagram_items:\n",
        "    if len(value) > 1:\n",
        "        word_len = len(value[0])\n",
        "        if word_len > longest:\n",
        "            longest = word_len\n",
        "            print(value)"
      ]
    },
    {
      "cell_type": "markdown",
      "id": "4fbe939e",
      "metadata": {
        "id": "4fbe939e"
      },
      "source": [
        "### Exercise\n",
        "\n",
        "Write a function called `word_distance` that takes two words with the same length and returns the number of places where the two words differ.\n",
        "\n",
        "Hint: Use `zip` to loop through the corresponding letters of the words."
      ]
    },
    {
      "cell_type": "markdown",
      "id": "8b48dbdc",
      "metadata": {
        "tags": [],
        "id": "8b48dbdc"
      },
      "source": [
        "Here's an outline of the function with doctests you can use to check your function."
      ]
    },
    {
      "cell_type": "code",
      "execution_count": 152,
      "id": "3d5a75f8",
      "metadata": {
        "tags": [],
        "id": "3d5a75f8"
      },
      "outputs": [],
      "source": [
        "def word_distance(word1, word2):\n",
        "    \"\"\"Computes the number of places where two word differ.\n",
        "\n",
        "    >>> word_distance(\"hello\", \"hxllo\")\n",
        "    1\n",
        "    >>> word_distance(\"ample\", \"apply\")\n",
        "    2\n",
        "    >>> word_distance(\"kitten\", \"mutton\")\n",
        "    3\n",
        "    \"\"\"\n",
        "    return None"
      ]
    },
    {
      "cell_type": "code",
      "execution_count": 163,
      "id": "a9816dde",
      "metadata": {
        "id": "a9816dde"
      },
      "outputs": [],
      "source": [
        "# Solution goes here\n",
        "\n",
        "def word_distance(word1, word2):\n",
        "    \"\"\"Computes the number of places where two word differ.\n",
        "\n",
        "    >>> word_distance(\"hello\", \"hxllo\")\n",
        "    1\n",
        "    >>> word_distance(\"ample\", \"apply\")\n",
        "    2\n",
        "    >>> word_distance(\"kitten\", \"mutton\")\n",
        "    3\n",
        "    \"\"\"\n",
        "\n",
        "    assert len(word1)==len(word2)\n",
        "\n",
        "    count = 0\n",
        "    for a, b in zip(word1, word2):\n",
        "        if a != b:\n",
        "            count += 1\n",
        "    return count"
      ]
    },
    {
      "cell_type": "code",
      "execution_count": 164,
      "id": "753a23c1",
      "metadata": {
        "tags": [],
        "id": "753a23c1"
      },
      "outputs": [],
      "source": [
        "from doctest import run_docstring_examples\n",
        "\n",
        "def run_doctests(func):\n",
        "    run_docstring_examples(func, globals(), name=func.__name__)\n",
        "\n",
        "run_doctests(word_distance)"
      ]
    },
    {
      "cell_type": "markdown",
      "id": "066eec59",
      "metadata": {
        "id": "066eec59"
      },
      "source": [
        "### Exercise\n",
        "\n",
        "\"Metathesis\" is the transposition of letters in a word.\n",
        "Two words form a \"metathesis pair\" if you can transform one into the other by swapping two letters, like `converse` and `conserve`.\n",
        "Write a program that finds all of the metathesis pairs in the word list.\n",
        "\n",
        "Hint: The words in a metathesis pair must be anagrams of each other.\n",
        "\n",
        "Credit: This exercise is inspired by an example at <http://puzzlers.org>."
      ]
    },
    {
      "cell_type": "code",
      "execution_count": 166,
      "id": "57649075",
      "metadata": {
        "id": "57649075",
        "outputId": "537be9fd-e359-4a93-d6e9-76a500f9d50a",
        "colab": {
          "base_uri": "https://localhost:8080/"
        }
      },
      "outputs": [
        {
          "output_type": "stream",
          "name": "stdout",
          "text": [
            "aah aha\n",
            "aal ala\n",
            "aals alas\n",
            "aba baa\n",
            "abas baas\n",
            "abbe babe\n",
            "abbes babes\n",
            "bate beta\n",
            "beat beta\n",
            "bates betas\n",
            "bates tabes\n",
            "beast beats\n",
            "beats betas\n",
            "abide abied\n",
            "able bale\n",
            "bale blae\n",
            "abler baler\n",
            "ables bales\n",
            "abmho abohm\n",
            "abmhos abohms\n",
            "abode adobe\n",
            "abodes adobes\n",
            "tabu tuba\n",
            "tabus tubas\n",
            "aby bay\n",
            "abyed bayed\n",
            "abying baying\n",
            "abys bays\n",
            "accouter accoutre\n",
            "accouters accoutres\n",
            "cade dace\n",
            "acers acres\n",
            "acres cares\n",
            "cares carse\n",
            "cares races\n",
            "achier cahier\n",
            "acid caid\n",
            "cadi caid\n",
            "acids caids\n",
            "cadis caids\n",
            "acme came\n",
            "came mace\n",
            "acmes cames\n",
            "cames maces\n",
            "acne cane\n",
            "acned caned\n",
            "acnes canes\n",
            "acre care\n",
            "care race\n",
            "acred arced\n",
            "acred cared\n",
            "arced raced\n",
            "cared raced\n",
            "act cat\n",
            "actin antic\n",
            "actins antics\n",
            "action cation\n",
            "actions cations\n",
            "castor costar\n",
            "acts cats\n",
            "cast cats\n",
            "ad da\n",
            "add dad\n",
            "adds dads\n",
            "pated taped\n",
            "adman daman\n",
            "maned menad\n",
            "maned named\n",
            "adze daze\n",
            "adzes dazes\n",
            "aerologies areologies\n",
            "aerology areology\n",
            "hereat reheat\n",
            "aetheric hetaeric\n",
            "aft fat\n",
            "age gae\n",
            "aged egad\n",
            "aged gaed\n",
            "rages sager\n",
            "ages gaes\n",
            "agger eggar\n",
            "agger gager\n",
            "aggers eggars\n",
            "aggers gagers\n",
            "sagger seggar\n",
            "saggers seggars\n",
            "agin gain\n",
            "agonies agonise\n",
            "eager eagre\n",
            "eager ragee\n",
            "eagre ragee\n",
            "eagers eagres\n",
            "eagers ragees\n",
            "eagres ragees\n",
            "ah ha\n",
            "ahem haem\n",
            "haem hame\n",
            "aider aired\n",
            "daimen maiden\n",
            "dais said\n",
            "sadi said\n",
            "ailment aliment\n",
            "ailments aliments\n",
            "sail sial\n",
            "aim ami\n",
            "armies ramies\n",
            "aims amis\n",
            "aims sima\n",
            "ain ani\n",
            "ains anis\n",
            "arising raising\n",
            "resails serails\n",
            "serails serials\n",
            "rain rani\n",
            "naris ranis\n",
            "naris sarin\n",
            "rains ranis\n",
            "stair stria\n",
            "akin kain\n",
            "alan anal\n",
            "alb lab\n",
            "bal lab\n",
            "baals balas\n",
            "balas balsa\n",
            "balas basal\n",
            "albs labs\n",
            "bals labs\n",
            "alburnum laburnum\n",
            "alburnums laburnums\n",
            "alder lader\n",
            "alders laders\n",
            "aldol allod\n",
            "aldols allods\n",
            "alef flea\n",
            "feal leaf\n",
            "alefs fleas\n",
            "alter artel\n",
            "alter later\n",
            "artel ratel\n",
            "later ratel\n",
            "later taler\n",
            "realter relater\n",
            "alters artels\n",
            "artels ratels\n",
            "laster salter\n",
            "salter slater\n",
            "slater staler\n",
            "staler stelar\n",
            "lase sale\n",
            "leas seal\n",
            "veinal venial\n",
            "venial vineal\n",
            "releasing resealing\n",
            "algin align\n",
            "algins aligns\n",
            "algor argol\n",
            "algors argols\n",
            "algum almug\n",
            "algums almugs\n",
            "alien aline\n",
            "aline anile\n",
            "aliens alines\n",
            "saline silane\n",
            "dealing leading\n",
            "lati tali\n",
            "tail tali\n",
            "alkalies alkalise\n",
            "alma lama\n",
            "almas lamas\n",
            "alme lame\n",
            "lame male\n",
            "almes lames\n",
            "lames males\n",
            "alms lams\n",
            "aloft float\n",
            "float flota\n",
            "alone anole\n",
            "alow awol\n",
            "alp lap\n",
            "lap pal\n",
            "penial pineal\n",
            "alps laps\n",
            "laps pals\n",
            "pals salp\n",
            "salp slap\n",
            "alt lat\n",
            "altar artal\n",
            "artal ratal\n",
            "realters relaters\n",
            "loath lotah\n",
            "altitude latitude\n",
            "altitudes latitudes\n",
            "lota tola\n",
            "lotas tolas\n",
            "altruism ultraism\n",
            "altruisms ultraisms\n",
            "altruist ultraist\n",
            "altruists ultraists\n",
            "alts lats\n",
            "last lats\n",
            "last salt\n",
            "salt slat\n",
            "alumin alumni\n",
            "am ma\n",
            "amain amnia\n",
            "amnia mania\n",
            "amber embar\n",
            "ambers embars\n",
            "bedlam beldam\n",
            "marble ramble\n",
            "marbles rambles\n",
            "mane name\n",
            "name nema\n",
            "manes manse\n",
            "manes names\n",
            "manse mensa\n",
            "names nemas\n",
            "amid maid\n",
            "amids maids\n",
            "amigo imago\n",
            "amin main\n",
            "amine anime\n",
            "amines animes\n",
            "amins mains\n",
            "amir mair\n",
            "amirs mairs\n",
            "ammine immane\n",
            "amnic manic\n",
            "amp map\n",
            "map pam\n",
            "ample maple\n",
            "amps maps\n",
            "maps pams\n",
            "pams samp\n",
            "an na\n",
            "anas ansa\n",
            "anchor archon\n",
            "anchors archons\n",
            "ane nae\n",
            "leaden leaned\n",
            "ratines retinas\n",
            "retains retsina\n",
            "angel angle\n",
            "angels angles\n",
            "ranges sanger\n",
            "anil nail\n",
            "lain nail\n",
            "anils nails\n",
            "slain snail\n",
            "sanies sansei\n",
            "tetanies tetanise\n",
            "khans shank\n",
            "anna nana\n",
            "annas nanas\n",
            "anoxic axonic\n",
            "anserous arsenous\n",
            "antes nates\n",
            "antimonies antinomies\n",
            "antimony antinomy\n",
            "saint tains\n",
            "satin stain\n",
            "nival vinal\n",
            "any nay\n",
            "pare rape\n",
            "pear reap\n",
            "pares parse\n",
            "pares rapes\n",
            "parse prase\n",
            "pears reaps\n",
            "prase presa\n",
            "apes apse\n",
            "apse pase\n",
            "apse spae\n",
            "appal papal\n",
            "appel apple\n",
            "appels apples\n",
            "apses pases\n",
            "apses spaes\n",
            "pases passe\n",
            "apsis aspis\n",
            "apt pat\n",
            "pat tap\n",
            "apter pater\n",
            "pater taper\n",
            "aptly patly\n",
            "aptness patness\n",
            "aptnesses patnesses\n",
            "chares chaser\n",
            "arcing racing\n",
            "caring racing\n",
            "arcked racked\n",
            "carked racked\n",
            "dacker racked\n",
            "arcking racking\n",
            "carking racking\n",
            "arco orca\n",
            "causers saucers\n",
            "barde bared\n",
            "are era\n",
            "ear era\n",
            "ares arse\n",
            "ares eras\n",
            "arse rase\n",
            "ears eras\n",
            "sear sera\n",
            "seater teaser\n",
            "argal graal\n",
            "argals graals\n",
            "argil grail\n",
            "glair grail\n",
            "argils grails\n",
            "glairs grails\n",
            "argon organ\n",
            "groan organ\n",
            "argons organs\n",
            "groans organs\n",
            "gaurs guars\n",
            "aria raia\n",
            "arias raias\n",
            "arid raid\n",
            "arider raider\n",
            "resail serail\n",
            "serail serial\n",
            "treaties treatise\n",
            "aril rail\n",
            "lair liar\n",
            "lair rail\n",
            "liar lira\n",
            "liar rial\n",
            "rail rial\n",
            "ariled railed\n",
            "laired railed\n",
            "arils rails\n",
            "lairs liars\n",
            "lairs rails\n",
            "liars liras\n",
            "liars rials\n",
            "rails rials\n",
            "arise raise\n",
            "arises raises\n",
            "riatas tiaras\n",
            "arles rales\n",
            "earls lares\n",
            "lares laser\n",
            "lares rales\n",
            "lears reals\n",
            "arm ram\n",
            "mar ram\n",
            "armet ramet\n",
            "mater tamer\n",
            "ramet tamer\n",
            "armets ramets\n",
            "maters matres\n",
            "maters tamers\n",
            "ramets tamers\n",
            "armoires armories\n",
            "arms rams\n",
            "mars rams\n",
            "arrest rarest\n",
            "tarres terras\n",
            "ars ras\n",
            "arses rases\n",
            "art rat\n",
            "rat tar\n",
            "strait strati\n",
            "lasters salters\n",
            "salters slaters\n",
            "arts rats\n",
            "rats tars\n",
            "star tsar\n",
            "arty tray\n",
            "coast coats\n",
            "coats costa\n",
            "hassels hassles\n",
            "asker eskar\n",
            "asker saker\n",
            "rakes saker\n",
            "askers eskars\n",
            "askers sakers\n",
            "wakes wekas\n",
            "asp sap\n",
            "pas sap\n",
            "sap spa\n",
            "napes panes\n",
            "neaps peans\n",
            "sneap spean\n",
            "sneaps speans\n",
            "parses passer\n",
            "parses prases\n",
            "spares sparse\n",
            "paresis parises\n",
            "parises praises\n",
            "asps saps\n",
            "pass saps\n",
            "saps spas\n",
            "assert asters\n",
            "serrates terrases\n",
            "assertor assorter\n",
            "assertors assorters\n",
            "rates tares\n",
            "at ta\n",
            "ate eta\n",
            "ate tae\n",
            "eat eta\n",
            "eat tae\n",
            "eta tea\n",
            "tae tea\n",
            "ates etas\n",
            "east eats\n",
            "eats etas\n",
            "eats sate\n",
            "etas teas\n",
            "sate seta\n",
            "seat seta\n",
            "seat teas\n",
            "rattish tartish\n",
            "atlas talas\n",
            "osmatic somatic\n",
            "atomies atomise\n",
            "atoms stoma\n",
            "riata tiara\n",
            "nattered rattened\n",
            "aunt tuna\n",
            "aunts tunas\n",
            "urase ursae\n",
            "ureas ursae\n",
            "auric curia\n",
            "saliva salvia\n",
            "naves vanes\n",
            "raves saver\n",
            "save vase\n",
            "avo ova\n",
            "awe wae\n",
            "awes waes\n",
            "awn wan\n",
            "awned waned\n",
            "dawen dewan\n",
            "awning waning\n",
            "awns wans\n",
            "sawn swan\n",
            "snaw swan\n",
            "awny wany\n",
            "awry wary\n",
            "axel axle\n",
            "axels axles\n",
            "axemen examen\n",
            "ay ya\n",
            "ayes eyas\n",
            "eyas yeas\n",
            "babul bubal\n",
            "babuls bubals\n",
            "bad dab\n",
            "badger barged\n",
            "barged garbed\n",
            "bads dabs\n",
            "bag gab\n",
            "bags gabs\n",
            "baht bath\n",
            "bahts baths\n",
            "balded bladed\n",
            "ban nab\n",
            "bans nabs\n",
            "bar bra\n",
            "barbet rabbet\n",
            "barbets rabbets\n",
            "bard brad\n",
            "bard darb\n",
            "brad drab\n",
            "darb drab\n",
            "bards brads\n",
            "bards darbs\n",
            "brads drabs\n",
            "darbs drabs\n",
            "bare brae\n",
            "bear brae\n",
            "barege bargee\n",
            "bareges bargees\n",
            "barely barley\n",
            "barer barre\n",
            "bares baser\n",
            "bares braes\n",
            "baser saber\n",
            "bears braes\n",
            "saber sabre\n",
            "barging garbing\n",
            "baric rabic\n",
            "barked braked\n",
            "barkier brakier\n",
            "barkiest brakiest\n",
            "barking braking\n",
            "barky braky\n",
            "barn bran\n",
            "barns brans\n",
            "barret barter\n",
            "barrets barters\n",
            "barrette berretta\n",
            "barrettes berrettas\n",
            "bars bras\n",
            "bas sab\n",
            "base sabe\n",
            "based sabed\n",
            "bases sabes\n",
            "basest basset\n",
            "basset bastes\n",
            "basin sabin\n",
            "nabis sabin\n",
            "basins sabins\n",
            "basis bassi\n",
            "bass sabs\n",
            "bast bats\n",
            "bats tabs\n",
            "bat tab\n",
            "baud daub\n",
            "bauds daubs\n",
            "bayadeer bayadere\n",
            "bayadeers bayaderes\n",
            "beam bema\n",
            "beams bemas\n",
            "berate rebate\n",
            "berates rebates\n",
            "becrust becurst\n",
            "bed deb\n",
            "bedlams beldams\n",
            "bidder birded\n",
            "bedrug redbug\n",
            "bedrugged begrudged\n",
            "bedrugging begrudging\n",
            "bedrugs redbugs\n",
            "beds debs\n",
            "been bene\n",
            "beer bree\n",
            "beers brees\n",
            "belated bleated\n",
            "belt blet\n",
            "belts blets\n",
            "blest blets\n",
            "bemire berime\n",
            "berime bireme\n",
            "bemired berimed\n",
            "bemires berimes\n",
            "berimes biremes\n",
            "bemiring beriming\n",
            "ben neb\n",
            "bens nebs\n",
            "beraking breaking\n",
            "berated rebated\n",
            "debater rebated\n",
            "berating rebating\n",
            "beslime besmile\n",
            "beslimed besmiled\n",
            "beslimes besmiles\n",
            "besliming besmiling\n",
            "best bets\n",
            "bestir bister\n",
            "bister bistre\n",
            "bestirs bisters\n",
            "bisters bistres\n",
            "bestrid bistred\n",
            "bestud busted\n",
            "bey bye\n",
            "beys byes\n",
            "bibs sibb\n",
            "bicorn bicron\n",
            "bid dib\n",
            "bids dibs\n",
            "big gib\n",
            "bigly bilgy\n",
            "bike kibe\n",
            "bikes kibes\n",
            "biltong bolting\n",
            "limbate timbale\n",
            "bin nib\n",
            "bins nibs\n",
            "bionic niobic\n",
            "birder birred\n",
            "bis sib\n",
            "blankest blankets\n",
            "blast blats\n",
            "blot bolt\n",
            "blots bolts\n",
            "blouses boluses\n",
            "bluest bluets\n",
            "bustle subtle\n",
            "bluesy blueys\n",
            "umbels umbles\n",
            "blurs slurb\n",
            "boar bora\n",
            "boars boras\n",
            "boast boats\n",
            "bodies dobies\n",
            "body doby\n",
            "bog gob\n",
            "bogan goban\n",
            "bogans gobans\n",
            "bogies gobies\n",
            "bogs gobs\n",
            "bogy goby\n",
            "bolar lobar\n",
            "labor lobar\n",
            "bolder bordel\n",
            "bole lobe\n",
            "boles lobes\n",
            "bolo lobo\n",
            "bolos lobos\n",
            "bolster lobster\n",
            "bolsters lobsters\n",
            "bombed mobbed\n",
            "bomber mobber\n",
            "bombers mobbers\n",
            "bombing mobbing\n",
            "bonus bosun\n",
            "booger goober\n",
            "boogers goobers\n",
            "boor broo\n",
            "boors broos\n",
            "boost boots\n",
            "bore robe\n",
            "bored robed\n",
            "orbed robed\n",
            "bores robes\n",
            "robes sober\n",
            "boring robing\n",
            "orbing robing\n",
            "bos sob\n",
            "boss sobs\n",
            "botanies botanise\n",
            "unrobes unsober\n",
            "brag grab\n",
            "garb grab\n",
            "brags grabs\n",
            "garbs grabs\n",
            "brede breed\n",
            "bredes breeds\n",
            "dibber ribbed\n",
            "fiber fibre\n",
            "fibers fibres\n",
            "briskest briskets\n",
            "omber ombre\n",
            "ombers ombres\n",
            "somber sombre\n",
            "bromo broom\n",
            "bromos brooms\n",
            "brugh burgh\n",
            "brughs burghs\n",
            "bruin burin\n",
            "bruins burins\n",
            "buries busier\n",
            "buries rubies\n",
            "brunet burnet\n",
            "brunets burnets\n",
            "brunt burnt\n",
            "bud dub\n",
            "buds dubs\n",
            "bugle bulge\n",
            "bugled bulged\n",
            "bugler bulger\n",
            "buglers bulgers\n",
            "bugles bulges\n",
            "bugling bulging\n",
            "bun nub\n",
            "buns nubs\n",
            "bur rub\n",
            "unbar urban\n",
            "buras bursa\n",
            "burble rubble\n",
            "burbled rubbled\n",
            "burbles rubbles\n",
            "burblier rubblier\n",
            "burbliest rubbliest\n",
            "burbling rubbling\n",
            "burbly rubbly\n",
            "burden burned\n",
            "buried rubied\n",
            "burier rubier\n",
            "burkes busker\n",
            "burs rubs\n",
            "rebus rubes\n",
            "rubes suber\n",
            "bury ruby\n",
            "burying rubying\n",
            "bus sub\n",
            "buss subs\n",
            "bust buts\n",
            "buts tubs\n",
            "cubist cubits\n",
            "busy buys\n",
            "but tub\n",
            "cadaster cadastre\n",
            "cadasters cadastres\n",
            "cades cased\n",
            "cades daces\n",
            "sacred scared\n",
            "caestus cuestas\n",
            "cafe face\n",
            "cafes faces\n",
            "caliber calibre\n",
            "calibers calibres\n",
            "calk lack\n",
            "calked lacked\n",
            "calker lacker\n",
            "calkers lackers\n",
            "calking lacking\n",
            "calks lacks\n",
            "caller cellar\n",
            "callers cellars\n",
            "calm clam\n",
            "calms clams\n",
            "calque claque\n",
            "calques claques\n",
            "calve clave\n",
            "cam mac\n",
            "caramel ceramal\n",
            "cams macs\n",
            "discanted distanced\n",
            "caners casern\n",
            "canine cannie\n",
            "ceratins creatins\n",
            "cannot canton\n",
            "canst cants\n",
            "decanter recanted\n",
            "cantor carton\n",
            "carton craton\n",
            "cantors cartons\n",
            "cartons cratons\n",
            "cap pac\n",
            "cape pace\n",
            "caped paced\n",
            "caper pacer\n",
            "capers pacers\n",
            "capes paces\n",
            "scape space\n",
            "caps pacs\n",
            "caption paction\n",
            "captions pactions\n",
            "captor cartop\n",
            "caramels ceramals\n",
            "carbon corban\n",
            "carbons corbans\n",
            "triacids triadics\n",
            "carer racer\n",
            "carers racers\n",
            "caress carses\n",
            "carses crases\n",
            "caret carte\n",
            "caret cater\n",
            "carte crate\n",
            "crate trace\n",
            "carets cartes\n",
            "carets caters\n",
            "cartes caster\n",
            "cartes crates\n",
            "crates traces\n",
            "caries cerias\n",
            "cark rack\n",
            "carks racks\n",
            "carn narc\n",
            "carns narcs\n",
            "carol coral\n",
            "carols corals\n",
            "carp crap\n",
            "carped craped\n",
            "carpel parcel\n",
            "carpels parcels\n",
            "scarper scraper\n",
            "carping craping\n",
            "scarping scraping\n",
            "carps craps\n",
            "scarp scrap\n",
            "carted crated\n",
            "crated traced\n",
            "carter crater\n",
            "crater tracer\n",
            "carters craters\n",
            "craters tracers\n",
            "carting crating\n",
            "crating tracing\n",
            "carve crave\n",
            "carved craved\n",
            "carven craven\n",
            "carver craver\n",
            "carvers cravers\n",
            "carves craves\n",
            "carving craving\n",
            "carvings cravings\n",
            "cascabel cascable\n",
            "cascabels cascables\n",
            "cascade saccade\n",
            "cascades saccades\n",
            "chases chasse\n",
            "cask sack\n",
            "casked sacked\n",
            "casking sacking\n",
            "casks sacks\n",
            "casque sacque\n",
            "casques sacques\n",
            "cassock cossack\n",
            "cassocks cossacks\n",
            "caste cesta\n",
            "cates taces\n",
            "castes cestas\n",
            "castors costars\n",
            "casual causal\n",
            "casually causally\n",
            "casuals causals\n",
            "cate tace\n",
            "cerated created\n",
            "recrate retrace\n",
            "retrace terrace\n",
            "recrates retraces\n",
            "retraces terraces\n",
            "cause sauce\n",
            "caused sauced\n",
            "causer saucer\n",
            "causes sauces\n",
            "causing saucing\n",
            "ceder cered\n",
            "cered creed\n",
            "center centre\n",
            "decenter decentre\n",
            "centers centres\n",
            "cento conte\n",
            "centos contes\n",
            "cerate create\n",
            "cerates creates\n",
            "ceratin certain\n",
            "ceratin creatin\n",
            "cerci ceric\n",
            "ceruse recuse\n",
            "recuse secure\n",
            "cerite recite\n",
            "cerites recites\n",
            "cero core\n",
            "ceros cores\n",
            "cores corse\n",
            "course source\n",
            "certes terces\n",
            "certification rectification\n",
            "certifications rectifications\n",
            "certified rectified\n",
            "certifier rectifier\n",
            "certifiers rectifiers\n",
            "certifies rectifies\n",
            "certify rectify\n",
            "certifying rectifying\n",
            "certitude rectitude\n",
            "certitudes rectitudes\n",
            "ceruses recuses\n",
            "recuses secures\n",
            "cervices crevices\n",
            "cess secs\n",
            "latches satchel\n",
            "chams chasm\n",
            "chancres cranches\n",
            "snatcher stancher\n",
            "snatch stanch\n",
            "sachet taches\n",
            "snatches stanches\n",
            "chicle cliche\n",
            "chicles cliches\n",
            "chiel chile\n",
            "chiels chiles\n",
            "chiles chisel\n",
            "inched niched\n",
            "inches niches\n",
            "inching niching\n",
            "chopine phocine\n",
            "ocher ochre\n",
            "oraches roaches\n",
            "ochers ochres\n",
            "citherns cithrens\n",
            "cider dicer\n",
            "dicer riced\n",
            "ciders dicers\n",
            "cine nice\n",
            "cion coin\n",
            "cion icon\n",
            "coin coni\n",
            "cions coins\n",
            "cions icons\n",
            "cipolin picolin\n",
            "cipolins picolins\n",
            "cithern cithren\n",
            "tetracid tetradic\n",
            "citrin nitric\n",
            "clanged glanced\n",
            "clanging glancing\n",
            "claps clasp\n",
            "clematis climates\n",
            "clod cold\n",
            "clods colds\n",
            "closest closets\n",
            "clot colt\n",
            "clots colts\n",
            "cloy coly\n",
            "clutch cultch\n",
            "clutches cultches\n",
            "coal cola\n",
            "cola loca\n",
            "coals colas\n",
            "coax coxa\n",
            "cod doc\n",
            "codder corded\n",
            "code coed\n",
            "coden coned\n",
            "coder cored\n",
            "codes coeds\n",
            "codex coxed\n",
            "cods docs\n",
            "cohered ochered\n",
            "cohering ochering\n",
            "fico foci\n",
            "coinfer conifer\n",
            "coinfers conifers\n",
            "collide collied\n",
            "colonies colonise\n",
            "combat tombac\n",
            "combats tombacs\n",
            "comet comte\n",
            "comets comtes\n",
            "compeer compere\n",
            "compeers comperes\n",
            "compiled complied\n",
            "compiler complier\n",
            "compilers compliers\n",
            "compiles complies\n",
            "complaint compliant\n",
            "concent connect\n",
            "concents connects\n",
            "concerted concreted\n",
            "concerting concreting\n",
            "condoles consoled\n",
            "condor cordon\n",
            "condors cordons\n",
            "conk nock\n",
            "conked nocked\n",
            "conking nocking\n",
            "conks nocks\n",
            "conservation conversation\n",
            "conservations conversations\n",
            "conserve converse\n",
            "conserved conversed\n",
            "conserves converses\n",
            "conserving conversing\n",
            "copes copse\n",
            "copula cupola\n",
            "copulas cupolas\n",
            "cork rock\n",
            "corked rocked\n",
            "docker rocked\n",
            "corker rocker\n",
            "corkers rockers\n",
            "corkier rockier\n",
            "corkiest rockiest\n",
            "corking rocking\n",
            "corklike rocklike\n",
            "corks rocks\n",
            "corky rocky\n",
            "corny crony\n",
            "coroner crooner\n",
            "coroners crooners\n",
            "corps crops\n",
            "electors electros\n",
            "rectos sector\n",
            "coset cotes\n",
            "cost cots\n",
            "costumer customer\n",
            "costumers customers\n",
            "cosy coys\n",
            "coude douce\n",
            "courses sources\n",
            "couth touch\n",
            "couther toucher\n",
            "couthier touchier\n",
            "couthiest touchiest\n",
            "coves voces\n",
            "lascar rascal\n",
            "crafted fracted\n",
            "recrated retraced\n",
            "retraced terraced\n",
            "recrating retracing\n",
            "retracing terracing\n",
            "creep crepe\n",
            "creeps crepes\n",
            "creepy crepey\n",
            "crud curd\n",
            "cruds curds\n",
            "cruet curet\n",
            "cruet eruct\n",
            "curet cuter\n",
            "eruct truce\n",
            "cruets curets\n",
            "cruets eructs\n",
            "eructs truces\n",
            "rectus recuts\n",
            "crus curs\n",
            "cruse curse\n",
            "cures curse\n",
            "cruses curses\n",
            "curses cusser\n",
            "crust curst\n",
            "cud duc\n",
            "cuds ducs\n",
            "cumin mucin\n",
            "cumins mucins\n",
            "cups cusp\n",
            "curacao curacoa\n",
            "curacaos curacoas\n",
            "curdier curried\n",
            "curtesy curtsey\n",
            "cusk suck\n",
            "cusks sucks\n",
            "cutesy cuteys\n",
            "cylix xylic\n",
            "dabbler rabbled\n",
            "daddles saddled\n",
            "dafter rafted\n",
            "farted rafted\n",
            "dag gad\n",
            "dagger ragged\n",
            "dags gads\n",
            "dah had\n",
            "dahs dash\n",
            "dairies diaries\n",
            "dairy diary\n",
            "dairy yaird\n",
            "hankered harkened\n",
            "dale lade\n",
            "deal lead\n",
            "dales lades\n",
            "deals leads\n",
            "lades lased\n",
            "dalles ladles\n",
            "dallier rallied\n",
            "dallies sallied\n",
            "dam mad\n",
            "dame made\n",
            "dammer rammed\n",
            "demander remanded\n",
            "damper ramped\n",
            "dams mads\n",
            "monads nomads\n",
            "danger gander\n",
            "danger ranged\n",
            "gander garden\n",
            "dangered gandered\n",
            "gandered gardened\n",
            "dangering gandering\n",
            "gandering gardening\n",
            "dangers ganders\n",
            "ganders gardens\n",
            "danker darken\n",
            "danker ranked\n",
            "darken narked\n",
            "narked ranked\n",
            "dap pad\n",
            "dapper rapped\n",
            "daps pads\n",
            "dear read\n",
            "dears reads\n",
            "darling larding\n",
            "darn nard\n",
            "nard rand\n",
            "darns nards\n",
            "nards rands\n",
            "dart drat\n",
            "drat trad\n",
            "darts drats\n",
            "shader shared\n",
            "dashes sadhes\n",
            "dashes sashed\n",
            "sadhes sashed\n",
            "dater rated\n",
            "rated tared\n",
            "dates sated\n",
            "stade tsade\n",
            "doat toad\n",
            "doats toads\n",
            "daw wad\n",
            "dawdle waddle\n",
            "dawdled waddled\n",
            "dawdler waddler\n",
            "dawdlers waddlers\n",
            "dawdles waddles\n",
            "dawdling waddling\n",
            "dawed waded\n",
            "dawing wading\n",
            "daws wads\n",
            "deaden deaned\n",
            "dealer leader\n",
            "dealers leaders\n",
            "dealings leadings\n",
            "dearer reader\n",
            "dearer reared\n",
            "reader reared\n",
            "redear reread\n",
            "redates sedater\n",
            "dearies readies\n",
            "hardest hardset\n",
            "deary deray\n",
            "deary ready\n",
            "deceiver received\n",
            "decenters decentres\n",
            "deckel deckle\n",
            "deckels deckles\n",
            "decker recked\n",
            "decliner reclined\n",
            "recedes seceder\n",
            "radicel radicle\n",
            "radicels radicles\n",
            "dedans desand\n",
            "sadden sanded\n",
            "deuced educed\n",
            "deduces seduced\n",
            "deem deme\n",
            "deem meed\n",
            "deems demes\n",
            "deems meeds\n",
            "deep peed\n",
            "deer dere\n",
            "deer dree\n",
            "deer reed\n",
            "dere dree\n",
            "dere rede\n",
            "rede reed\n",
            "deers drees\n",
            "deers reeds\n",
            "redes reeds\n",
            "redes seder\n",
            "seder sered\n",
            "dees seed\n",
            "defacer refaced\n",
            "defer refed\n",
            "deferrer referred\n",
            "defiler refiled\n",
            "definer refined\n",
            "deflower reflowed\n",
            "deformer reformed\n",
            "degrader regraded\n",
            "regarded regraded\n",
            "dei die\n",
            "deification edification\n",
            "deifications edifications\n",
            "deified edified\n",
            "deifier edifier\n",
            "deifier reified\n",
            "deifies edifies\n",
            "deify edify\n",
            "deifying edifying\n",
            "signed singed\n",
            "deil deli\n",
            "deil diel\n",
            "diel lied\n",
            "deils delis\n",
            "idles isled\n",
            "diets dites\n",
            "dites sited\n",
            "dites tides\n",
            "sited stied\n",
            "del led\n",
            "eld led\n",
            "delayer relayed\n",
            "sleeted steeled\n",
            "listed silted\n",
            "deliver relived\n",
            "relived reviled\n",
            "silvered slivered\n",
            "lasted salted\n",
            "salted slated\n",
            "slated staled\n",
            "insouled unsoiled\n",
            "demies demise\n",
            "demo dome\n",
            "dome mode\n",
            "demos domes\n",
            "domes modes\n",
            "denes dense\n",
            "denotation detonation\n",
            "denotations detonations\n",
            "dens send\n",
            "send sned\n",
            "denser sender\n",
            "dent tend\n",
            "dented tended\n",
            "indent intend\n",
            "denting tending\n",
            "indents intends\n",
            "dents tends\n",
            "deny dyne\n",
            "parted prated\n",
            "deposer reposed\n",
            "podites posited\n",
            "posited sopited\n",
            "desired resided\n",
            "deviser revised\n",
            "derries redries\n",
            "derries serried\n",
            "desirer resider\n",
            "desirers residers\n",
            "derry redry\n",
            "desert deters\n",
            "discreet discrete\n",
            "deserver reserved\n",
            "reserved reversed\n",
            "desex dexes\n",
            "dexes sexed\n",
            "designer resigned\n",
            "desire reside\n",
            "desires resides\n",
            "desiring residing\n",
            "diploes dipoles\n",
            "detailer retailed\n",
            "detainer retained\n",
            "netted tented\n",
            "detester retested\n",
            "routed toured\n",
            "deuce educe\n",
            "deuces educes\n",
            "deucing educing\n",
            "devon doven\n",
            "devons dovens\n",
            "dew wed\n",
            "dews weds\n",
            "dey dye\n",
            "deys dyes\n",
            "dicker ricked\n",
            "diddler riddled\n",
            "didoes diodes\n",
            "dies ides\n",
            "ediles elides\n",
            "diet dite\n",
            "diet tied\n",
            "dite tide\n",
            "tide tied\n",
            "differ riffed\n",
            "dig gid\n",
            "digger rigged\n",
            "dignifies signified\n",
            "digs gids\n",
            "dim mid\n",
            "dimer rimed\n",
            "mired rimed\n",
            "dimmer rimmed\n",
            "dims mids\n",
            "dine nide\n",
            "dined nided\n",
            "dines nides\n",
            "dingles singled\n",
            "dining niding\n",
            "dink kind\n",
            "dinkly kindly\n",
            "dinks kinds\n",
            "diol idol\n",
            "diols idols\n",
            "sloid solid\n",
            "soldi solid\n",
            "diopter dioptre\n",
            "diopters dioptres\n",
            "diploe dipole\n",
            "dipper ripped\n",
            "dire ride\n",
            "direr drier\n",
            "direr rider\n",
            "direst driest\n",
            "dirge ridge\n",
            "dirges ridges\n",
            "discanting distancing\n",
            "dispel lisped\n",
            "sliped spiled\n",
            "dissention distension\n",
            "dissentions distensions\n",
            "dive vide\n",
            "vide vied\n",
            "diver rived\n",
            "do od\n",
            "dobber robbed\n",
            "dodder rodded\n",
            "dodged godded\n",
            "dodging godding\n",
            "doe ode\n",
            "redo rode\n",
            "doser rosed\n",
            "does dose\n",
            "does odes\n",
            "dog god\n",
            "doglike godlike\n",
            "dogs gods\n",
            "dole lode\n",
            "doles lodes\n",
            "doles soled\n",
            "dols sold\n",
            "dolt told\n",
            "dom mod\n",
            "domal modal\n",
            "doms mods\n",
            "don nod\n",
            "done node\n",
            "dongola gondola\n",
            "dongolas gondolas\n",
            "dons nods\n",
            "doom mood\n",
            "dooms moods\n",
            "door odor\n",
            "door rood\n",
            "doorless odorless\n",
            "doors odors\n",
            "doors roods\n",
            "doper roped\n",
            "pored roped\n",
            "dor rod\n",
            "dormancies mordancies\n",
            "dormancy mordancy\n",
            "dormant mordant\n",
            "dorp drop\n",
            "drop prod\n",
            "dorps drops\n",
            "drops prods\n",
            "dors rods\n",
            "dors sord\n",
            "dos ods\n",
            "dos sod\n",
            "doss sods\n",
            "sloids solids\n",
            "dost dots\n",
            "dots tods\n",
            "dot tod\n",
            "dottel dottle\n",
            "dottel lotted\n",
            "dottels dottles\n",
            "dotter rotted\n",
            "doty tody\n",
            "douser roused\n",
            "roused soured\n",
            "douses soused\n",
            "dowel lowed\n",
            "dower rowed\n",
            "dowries rowdies\n",
            "dowry rowdy\n",
            "rowdy wordy\n",
            "drabbest drabbets\n",
            "drag grad\n",
            "drags grads\n",
            "laird liard\n",
            "lairds liards\n",
            "pared raped\n",
            "spader spared\n",
            "warder warred\n",
            "rogued rouged\n",
            "drugged grudged\n",
            "drugging grudging\n",
            "drupe prude\n",
            "drupes prudes\n",
            "dubber rubbed\n",
            "ducker rucked\n",
            "duds sudd\n",
            "dues sued\n",
            "sued used\n",
            "duffel duffle\n",
            "duffel luffed\n",
            "duffels duffles\n",
            "duffer ruffed\n",
            "dune nude\n",
            "nude unde\n",
            "dunes nudes\n",
            "dunged nudged\n",
            "dunging nudging\n",
            "united untied\n",
            "duo oud\n",
            "duo udo\n",
            "duos ouds\n",
            "duos udos\n",
            "dup pud\n",
            "dups puds\n",
            "dure rude\n",
            "rude rued\n",
            "duster rusted\n",
            "dwindles swindled\n",
            "widen wined\n",
            "dyker ryked\n",
            "gelate legate\n",
            "gelates legates\n",
            "reagin regain\n",
            "reagins regains\n",
            "lear real\n",
            "leasers sealers\n",
            "earns nares\n",
            "theaters theatres\n",
            "seaters teasers\n",
            "teasers tessera\n",
            "seating teasing\n",
            "eath hate\n",
            "haet hate\n",
            "haet heat\n",
            "ebonies ebonise\n",
            "pedicels pedicles\n",
            "edile elide\n",
            "eel lee\n",
            "eels lees\n",
            "lees seel\n",
            "eery eyre\n",
            "eyer eyre\n",
            "eft fet\n",
            "efts fets\n",
            "egest geest\n",
            "egests geests\n",
            "regelate relegate\n",
            "regelates relegates\n",
            "eh he\n",
            "ekes skee\n",
            "seek skee\n",
            "elan lean\n",
            "elans leans\n",
            "leaviest vealiest\n",
            "elector electro\n",
            "electrode electroed\n",
            "elegies elegise\n",
            "elegist elegits\n",
            "elk lek\n",
            "elks leks\n",
            "eloin olein\n",
            "eloins oleins\n",
            "eludes leudes\n",
            "elver lever\n",
            "lever revel\n",
            "elvers levers\n",
            "levers revels\n",
            "em me\n",
            "seem seme\n",
            "regimes remiges\n",
            "mire rime\n",
            "mires miser\n",
            "mires rimes\n",
            "mite time\n",
            "emits smite\n",
            "metis mites\n",
            "mites times\n",
            "smite stime\n",
            "emprise imprese\n",
            "premies premise\n",
            "emprises impreses\n",
            "encoder encored\n",
            "endue undee\n",
            "endues ensued\n",
            "endures ensured\n",
            "energies energise\n",
            "enisle ensile\n",
            "enisled ensiled\n",
            "enisles ensiles\n",
            "enisling ensiling\n",
            "leno lone\n",
            "enologies neologies\n",
            "enology neology\n",
            "essoin ossein\n",
            "noesis noises\n",
            "enrol nerol\n",
            "enrols nerols\n",
            "terreen terrene\n",
            "terreens terrenes\n",
            "tenia tinea\n",
            "entires entries\n",
            "latrines ratlines\n",
            "eons noes\n",
            "eons sone\n",
            "noes nose\n",
            "noes ones\n",
            "nose sone\n",
            "phase shape\n",
            "epics spice\n",
            "epos opes\n",
            "peso pose\n",
            "epoxide epoxied\n",
            "er re\n",
            "ere ree\n",
            "goer gore\n",
            "gore ogre\n",
            "eros ores\n",
            "ores roes\n",
            "roes rose\n",
            "rose sore\n",
            "ers res\n",
            "res ser\n",
            "seers seres\n",
            "erst rest\n",
            "rest rets\n",
            "rogue rouge\n",
            "rogues rouges\n",
            "liver livre\n",
            "liver viler\n",
            "livers livres\n",
            "silver sliver\n",
            "eses sees\n",
            "lapises lipases\n",
            "sprite stripe\n",
            "sprites stripes\n",
            "stirpes stripes\n",
            "essoins osseins\n",
            "reest reset\n",
            "steer stere\n",
            "reests resets\n",
            "steers steres\n",
            "ptoses stopes\n",
            "insert inters\n",
            "inters niters\n",
            "niters nitres\n",
            "triens trines\n",
            "loiters toilers\n",
            "russet tusser\n",
            "etched teched\n",
            "there three\n",
            "theres threes\n",
            "shote those\n",
            "eulogies eulogise\n",
            "roues rouse\n",
            "eve vee\n",
            "neves seven\n",
            "ever veer\n",
            "revest revets\n",
            "verset verste\n",
            "every veery\n",
            "eves vees\n",
            "evil veil\n",
            "live vile\n",
            "eviler veiler\n",
            "relive revile\n",
            "lively vilely\n",
            "liveness vileness\n",
            "livenesses vilenesses\n",
            "evils veils\n",
            "ewe wee\n",
            "ewer weer\n",
            "weer were\n",
            "sewer sweer\n",
            "ewes wees\n",
            "example exempla\n",
            "except expect\n",
            "excepted expected\n",
            "excepting expecting\n",
            "excepts expects\n",
            "excides excised\n",
            "exist exits\n",
            "exploder explored\n",
            "eyen eyne\n",
            "eyers eyres\n",
            "fader fared\n",
            "fain naif\n",
            "fair fiar\n",
            "fairs fiars\n",
            "fakir kafir\n",
            "fakirs kafirs\n",
            "falcon flacon\n",
            "falcons flacons\n",
            "faltboat flatboat\n",
            "faltboats flatboats\n",
            "fare frae\n",
            "fear frae\n",
            "farmable framable\n",
            "farmed framed\n",
            "farmer framer\n",
            "farmers framers\n",
            "farming framing\n",
            "faro fora\n",
            "fart frat\n",
            "fart raft\n",
            "farting rafting\n",
            "farts frats\n",
            "farts rafts\n",
            "fast fats\n",
            "fate feta\n",
            "feat feta\n",
            "fates fetas\n",
            "feast feats\n",
            "feats fetas\n",
            "fealty featly\n",
            "reefed refeed\n",
            "feel flee\n",
            "feeling fleeing\n",
            "feels flees\n",
            "feet fete\n",
            "felid filed\n",
            "field filed\n",
            "filed flied\n",
            "felt left\n",
            "felts lefts\n",
            "femur fumer\n",
            "femurs fumers\n",
            "fer ref\n",
            "fere free\n",
            "feres frees\n",
            "ferine refine\n",
            "ferlies reflies\n",
            "refiles reflies\n",
            "ferly refly\n",
            "ferried refried\n",
            "refired refried\n",
            "ferries refries\n",
            "refires refries\n",
            "ferritic terrific\n",
            "ferry refry\n",
            "ferrying refrying\n",
            "fortes foster\n",
            "foster softer\n",
            "fief fife\n",
            "fiefs fifes\n",
            "fiend fined\n",
            "flair frail\n",
            "file life\n",
            "lief life\n",
            "filer flier\n",
            "filer lifer\n",
            "filers fliers\n",
            "filers lifers\n",
            "files flies\n",
            "filter lifter\n",
            "filters lifters\n",
            "fire rife\n",
            "fired fried\n",
            "firer frier\n",
            "firer rifer\n",
            "firers friers\n",
            "fires fries\n",
            "fries frise\n",
            "firth frith\n",
            "firths friths\n",
            "fist fits\n",
            "fist sift\n",
            "fisted sifted\n",
            "fisting sifting\n",
            "fists sifts\n",
            "flairs frails\n",
            "floats flotas\n",
            "flooder floored\n",
            "flour fluor\n",
            "flours fluors\n",
            "fluty fluyt\n",
            "foal loaf\n",
            "foaled loafed\n",
            "foaling loafing\n",
            "foals loafs\n",
            "focuses fucoses\n",
            "fodder forded\n",
            "foetor footer\n",
            "foetors footers\n",
            "fool loof\n",
            "fools loofs\n",
            "for fro\n",
            "foramen foreman\n",
            "fore froe\n",
            "fores froes\n",
            "form from\n",
            "forth froth\n",
            "forward froward\n",
            "infarct infract\n",
            "freer frere\n",
            "freers freres\n",
            "freshest freshets\n",
            "fret tref\n",
            "frumenties furmenties\n",
            "frumenty furmenty\n",
            "furs surf\n",
            "gaddi gadid\n",
            "gaddis gadids\n",
            "gaen gane\n",
            "gal lag\n",
            "gelatine legatine\n",
            "gallate galleta\n",
            "gallate tallage\n",
            "gallates galletas\n",
            "gallates tallages\n",
            "gals lags\n",
            "gam mag\n",
            "gambler gambrel\n",
            "gamblers gambrels\n",
            "game mage\n",
            "games mages\n",
            "gamic magic\n",
            "gamma magma\n",
            "gammas magmas\n",
            "gams mags\n",
            "gan nag\n",
            "ganged nagged\n",
            "ganger nagger\n",
            "gangers naggers\n",
            "ganging nagging\n",
            "gaol goal\n",
            "gaoled goaled\n",
            "gaoling goaling\n",
            "gaols goals\n",
            "gape page\n",
            "gaped paged\n",
            "gapes pages\n",
            "gaping paging\n",
            "gaps gasp\n",
            "gar rag\n",
            "gargle raggle\n",
            "gargles raggles\n",
            "garment margent\n",
            "garmented margented\n",
            "garmenting margenting\n",
            "garments margents\n",
            "garret garter\n",
            "garter grater\n",
            "garrets garters\n",
            "garters graters\n",
            "gars rags\n",
            "gas sag\n",
            "gases sages\n",
            "gast gats\n",
            "gats tags\n",
            "gat tag\n",
            "gateway getaway\n",
            "gateways getaways\n",
            "magus sagum\n",
            "gaun guan\n",
            "gaur guar\n",
            "gayer yager\n",
            "gel leg\n",
            "gelated legated\n",
            "gelating legating\n",
            "gelation legation\n",
            "gelations legations\n",
            "geld gled\n",
            "gelds gleds\n",
            "gels legs\n",
            "genets gentes\n",
            "genro negro\n",
            "sleeting steeling\n",
            "genus negus\n",
            "genuses neguses\n",
            "gerent regent\n",
            "gerents regents\n",
            "maligner malinger\n",
            "gest gets\n",
            "gets tegs\n",
            "get teg\n",
            "ghast ghats\n",
            "gilded glided\n",
            "gilder glider\n",
            "gilders gliders\n",
            "gilding gliding\n",
            "gingko ginkgo\n",
            "gingkoes ginkgoes\n",
            "gink king\n",
            "ginks kings\n",
            "gins sing\n",
            "sign sing\n",
            "gip pig\n",
            "gips pigs\n",
            "gird grid\n",
            "girded grided\n",
            "girding griding\n",
            "girds grids\n",
            "girn grin\n",
            "girns grins\n",
            "girt grit\n",
            "grit trig\n",
            "girth grith\n",
            "girths griths\n",
            "girts grits\n",
            "grist grits\n",
            "grits trigs\n",
            "glans slang\n",
            "glass slags\n",
            "glede gleed\n",
            "gledes gleeds\n",
            "singlet tingles\n",
            "gloss slogs\n",
            "glover grovel\n",
            "glovers grovels\n",
            "gluer gruel\n",
            "gluers gruels\n",
            "glues gules\n",
            "gules luges\n",
            "hangs sangh\n",
            "gnu gun\n",
            "gnus guns\n",
            "gnus snug\n",
            "guns sung\n",
            "snug sung\n",
            "godling lodging\n",
            "godlings lodgings\n",
            "goers gores\n",
            "gores gorse\n",
            "gores ogres\n",
            "goglets loggets\n",
            "goiter goitre\n",
            "goiters goitres\n",
            "gong nogg\n",
            "gonging nogging\n",
            "gongs noggs\n",
            "gory gyro\n",
            "got tog\n",
            "grandam grandma\n",
            "grandams grandmas\n",
            "targe terga\n",
            "rating taring\n",
            "grip prig\n",
            "grips prigs\n",
            "underdog undergod\n",
            "gurged rugged\n",
            "grummest grummets\n",
            "guides guised\n",
            "gul lug\n",
            "guls lugs\n",
            "gum mug\n",
            "gums mugs\n",
            "gunless gunsels\n",
            "gurging rugging\n",
            "gush sugh\n",
            "hugs sugh\n",
            "gushed sughed\n",
            "gushing sughing\n",
            "gust guts\n",
            "guts tugs\n",
            "gustier gutsier\n",
            "gustiest gutsiest\n",
            "gusty gutsy\n",
            "gut tug\n",
            "gutless tugless\n",
            "hade haed\n",
            "haed head\n",
            "haems hames\n",
            "haets haste\n",
            "haets hates\n",
            "haets heats\n",
            "hahs hash\n",
            "hallo holla\n",
            "halloed hollaed\n",
            "halloing hollaing\n",
            "halloo holloa\n",
            "hallooed holloaed\n",
            "hallooing holloaing\n",
            "halloos holloas\n",
            "hallos hollas\n",
            "handles handsel\n",
            "handless handsels\n",
            "hanker harken\n",
            "hankerer harkener\n",
            "hankerers harkeners\n",
            "hankering harkening\n",
            "hankers harkens\n",
            "hap pah\n",
            "haps hasp\n",
            "hasp pash\n",
            "haptene heptane\n",
            "haptenes heptanes\n",
            "hardier harried\n",
            "rheas shear\n",
            "haslets hatless\n",
            "hasped pashed\n",
            "phased shaped\n",
            "hasping pashing\n",
            "phasing shaping\n",
            "hassel hassle\n",
            "hast hats\n",
            "hay yah\n",
            "rochet tocher\n",
            "rochets tochers\n",
            "rotches torches\n",
            "torches troches\n",
            "hegari hegira\n",
            "hegaris hegiras\n",
            "shier shire\n",
            "helios holies\n",
            "henequin heniquen\n",
            "henequins heniquens\n",
            "shent thens\n",
            "pastiche pistache\n",
            "sherd shred\n",
            "hereto hetero\n",
            "shoer shore\n",
            "hey yeh\n",
            "hide hied\n",
            "hider hired\n",
            "shriek shrike\n",
            "hins hisn\n",
            "hins sinh\n",
            "phis ship\n",
            "hirsel hirsle\n",
            "hirsels hirsles\n",
            "shiers shires\n",
            "hist hits\n",
            "hits sith\n",
            "hitter tither\n",
            "hitters tithers\n",
            "hitting tithing\n",
            "ho oh\n",
            "hoar hora\n",
            "hoars horas\n",
            "hoed ohed\n",
            "hoes hose\n",
            "holes hosel\n",
            "homage ohmage\n",
            "homages ohmages\n",
            "hones hosen\n",
            "hones nohes\n",
            "hoop pooh\n",
            "hooped poohed\n",
            "hooping poohing\n",
            "hoops poohs\n",
            "hoots sooth\n",
            "hop poh\n",
            "hops soph\n",
            "posh soph\n",
            "hordes horsed\n",
            "shoers shores\n",
            "host hots\n",
            "host tosh\n",
            "hots soth\n",
            "soth tosh\n",
            "hotter tother\n",
            "huddler hurdled\n",
            "hurtles hustler\n",
            "hurtless hustlers\n",
            "shut thus\n",
            "pythonic typhonic\n",
            "icecap ipecac\n",
            "icecaps ipecacs\n",
            "idly idyl\n",
            "kino oink\n",
            "kinos oinks\n",
            "ileus lieus\n",
            "illicit illitic\n",
            "illy lily\n",
            "lily yill\n",
            "impetus imputes\n",
            "impure umpire\n",
            "incest insect\n",
            "incest nicest\n",
            "incests insects\n",
            "incudes incused\n",
            "incudes induces\n",
            "indented intended\n",
            "indenter intender\n",
            "indenters intenders\n",
            "indenting intending\n",
            "indues undies\n",
            "nudies undies\n",
            "ruinated urinated\n",
            "inter niter\n",
            "niter nitre\n",
            "infarcts infracts\n",
            "reinform reniform\n",
            "signers singers\n",
            "pouring rouping\n",
            "kins sink\n",
            "reinsert reinters\n",
            "rusine ursine\n",
            "minister misinter\n",
            "intro nitro\n",
            "intros nitros\n",
            "untired untried\n",
            "rise sire\n",
            "irides irised\n",
            "irks kris\n",
            "is si\n",
            "sanities sanitise\n",
            "leis lies\n",
            "ism sim\n",
            "mis sim\n",
            "isms sims\n",
            "miss sims\n",
            "theories theorise\n",
            "it ti\n",
            "its tis\n",
            "sit tis\n",
            "jar raj\n",
            "jato jota\n",
            "jatos jotas\n",
            "jeered jereed\n",
            "jest jets\n",
            "jollity joltily\n",
            "just juts\n",
            "kae kea\n",
            "kaes keas\n",
            "kale lake\n",
            "kales lakes\n",
            "kame make\n",
            "kames makes\n",
            "kames samek\n",
            "skean sneak\n",
            "kaon koan\n",
            "kaons koans\n",
            "karn nark\n",
            "nark rank\n",
            "karns narks\n",
            "knars snark\n",
            "narks ranks\n",
            "karst karts\n",
            "kay yak\n",
            "kays yaks\n",
            "keel leek\n",
            "keels leeks\n",
            "keen knee\n",
            "keening kneeing\n",
            "keens knees\n",
            "skeen skene\n",
            "keep peek\n",
            "peek peke\n",
            "keeping peeking\n",
            "keeps peeks\n",
            "peeks pekes\n",
            "skeet steek\n",
            "keir kier\n",
            "keirs kiers\n",
            "siker skier\n",
            "keister kiester\n",
            "keisters kiesters\n",
            "kenotic ketonic\n",
            "reeky rekey\n",
            "kilting kitling\n",
            "kiltings kitlings\n",
            "skip spik\n",
            "kist kits\n",
            "kite tike\n",
            "kites tikes\n",
            "kittel kittle\n",
            "kleig klieg\n",
            "skint stink\n",
            "knops knosp\n",
            "koa oka\n",
            "oak oka\n",
            "koas okas\n",
            "koas soak\n",
            "oaks okas\n",
            "krait traik\n",
            "kraits traiks\n",
            "kue uke\n",
            "kues ukes\n",
            "kyte tyke\n",
            "kytes tykes\n",
            "lacey lycea\n",
            "ladder larded\n",
            "raddles saddler\n",
            "ladron lardon\n",
            "ladrons lardons\n",
            "lairing railing\n",
            "lameness maleness\n",
            "lameness nameless\n",
            "maleness maneless\n",
            "maneless nameless\n",
            "lamenesses malenesses\n",
            "mantel mantle\n",
            "mantel mental\n",
            "mantels mantles\n",
            "plasm psalm\n",
            "lapper rappel\n",
            "lappers rappels\n",
            "leaps peals\n",
            "pales salep\n",
            "lapsing sapling\n",
            "las sal\n",
            "lascars rascals\n",
            "lases sales\n",
            "lass sals\n",
            "lasting salting\n",
            "salting slating\n",
            "slating staling\n",
            "lasts salts\n",
            "salts slats\n",
            "late tale\n",
            "tael tale\n",
            "tael teal\n",
            "tale tela\n",
            "teal tela\n",
            "latent talent\n",
            "latents talents\n",
            "laterite literate\n",
            "laterites literates\n",
            "latrine ratline\n",
            "lave leva\n",
            "lave vale\n",
            "leva vela\n",
            "vale vela\n",
            "veal vela\n",
            "leaver vealer\n",
            "leavers vealers\n",
            "laver ravel\n",
            "lavers ravels\n",
            "salver slaver\n",
            "serval versal\n",
            "laves vales\n",
            "salve slave\n",
            "salve valse\n",
            "vales valse\n",
            "lawed waled\n",
            "lawing waling\n",
            "leap peal\n",
            "leaped pealed\n",
            "leaping pealing\n",
            "leasable sealable\n",
            "leased sealed\n",
            "leaser sealer\n",
            "reales sealer\n",
            "leasing sealing\n",
            "setal steal\n",
            "slate stale\n",
            "stale stela\n",
            "steal stela\n",
            "taels tales\n",
            "taels teals\n",
            "teals tesla\n",
            "slates stales\n",
            "leaved vealed\n",
            "leavier vealier\n",
            "leaving vealing\n",
            "leavy vealy\n",
            "leer reel\n",
            "leered reeled\n",
            "sleetier steelier\n",
            "leering reeling\n",
            "leers reels\n",
            "sleet steel\n",
            "steel stele\n",
            "legist legits\n",
            "mangel mangle\n",
            "lei lie\n",
            "lemon melon\n",
            "lemons melons\n",
            "lenes lense\n",
            "lenis lines\n",
            "liens lines\n",
            "lenses lessen\n",
            "lentil lintel\n",
            "lentils lintels\n",
            "leper repel\n",
            "lepers repels\n",
            "less sels\n",
            "lest lets\n",
            "levered reveled\n",
            "levering reveling\n",
            "leviable liveable\n",
            "relives reviles\n",
            "levin liven\n",
            "levins livens\n",
            "levo love\n",
            "love vole\n",
            "lewd weld\n",
            "lewder welder\n",
            "ley lye\n",
            "leys lyes\n",
            "lyes lyse\n",
            "sild slid\n",
            "lien line\n",
            "lienable lineable\n",
            "lienal lineal\n",
            "lier lire\n",
            "lier riel\n",
            "lire rile\n",
            "riel rile\n",
            "liers riels\n",
            "riels riles\n",
            "lilt till\n",
            "lilted tilled\n",
            "lilting tilling\n",
            "lilts tills\n",
            "lime mile\n",
            "limes miles\n",
            "slime smile\n",
            "limestone milestone\n",
            "limestones milestones\n",
            "limitary military\n",
            "limo milo\n",
            "limos milos\n",
            "rimples simpler\n",
            "limpest limpets\n",
            "limpsy simply\n",
            "lin nil\n",
            "lino lion\n",
            "lion loin\n",
            "loin noil\n",
            "linos lions\n",
            "lions loins\n",
            "loins noils\n",
            "lins nils\n",
            "lips lisp\n",
            "sliping spiling\n",
            "list lits\n",
            "list silt\n",
            "lits tils\n",
            "silt slit\n",
            "silt tils\n",
            "liters litres\n",
            "liters tilers\n",
            "listing silting\n",
            "lists silts\n",
            "silts slits\n",
            "lit til\n",
            "liter litre\n",
            "liter tiler\n",
            "litter tilter\n",
            "litters tilters\n",
            "livest vilest\n",
            "salon solan\n",
            "loden olden\n",
            "loess loses\n",
            "loses soles\n",
            "sloes soles\n",
            "loiter toiler\n",
            "melton molten\n",
            "loom mool\n",
            "looms mools\n",
            "nolos solon\n",
            "loop pool\n",
            "polo pool\n",
            "looped pooled\n",
            "looping pooling\n",
            "loops pools\n",
            "polos pools\n",
            "sloop spool\n",
            "loot tool\n",
            "looted tooled\n",
            "looter tooler\n",
            "looters toolers\n",
            "looting tooling\n",
            "loots lotos\n",
            "loots tools\n",
            "lotos sotol\n",
            "sotol stool\n",
            "lop pol\n",
            "lope pole\n",
            "loped poled\n",
            "loper poler\n",
            "lopers polers\n",
            "lopes poles\n",
            "loping poling\n",
            "lops pols\n",
            "lore role\n",
            "orle role\n",
            "lores loser\n",
            "lores roles\n",
            "lores sorel\n",
            "orles roles\n",
            "lose sole\n",
            "sloe sole\n",
            "losing soling\n",
            "loss sols\n",
            "lost lots\n",
            "lotus louts\n",
            "lotus tolus\n",
            "louder loured\n",
            "loused souled\n",
            "louver louvre\n",
            "louvers louvres\n",
            "loved voled\n",
            "loves voles\n",
            "loving voling\n",
            "lower rowel\n",
            "lowered roweled\n",
            "lowering roweling\n",
            "lowers rowels\n",
            "lowes lowse\n",
            "nuclear unclear\n",
            "plums slump\n",
            "luna ulna\n",
            "ulan ulna\n",
            "lunar ulnar\n",
            "lunas ulnas\n",
            "ulans ulnas\n",
            "lure rule\n",
            "lured ruled\n",
            "lurer ruler\n",
            "lurers rulers\n",
            "lures rules\n",
            "luring ruling\n",
            "luster lustre\n",
            "luster ulster\n",
            "lustre rustle\n",
            "lusters lustres\n",
            "lusters ulsters\n",
            "lustres rustles\n",
            "lustred rustled\n",
            "lustring rustling\n",
            "lute tule\n",
            "lutes tules\n",
            "mutuel mutule\n",
            "macaber macabre\n",
            "macerate racemate\n",
            "macerates racemates\n",
            "macho mocha\n",
            "machos mochas\n",
            "maligners malingers\n",
            "manege menage\n",
            "maneges menages\n",
            "mangels mangles\n",
            "ramson ransom\n",
            "manos mason\n",
            "manos monas\n",
            "moans monas\n",
            "monas nomas\n",
            "manses mensas\n",
            "mensas messan\n",
            "many myna\n",
            "mapper pamper\n",
            "mappers pampers\n",
            "marbled rambled\n",
            "marbler rambler\n",
            "marblers ramblers\n",
            "marbling rambling\n",
            "mares marse\n",
            "mares maser\n",
            "marital martial\n",
            "marques masquer\n",
            "marquess masquers\n",
            "mast mats\n",
            "mats tams\n",
            "mat tam\n",
            "mate meta\n",
            "mate tame\n",
            "meat meta\n",
            "meat team\n",
            "mated tamed\n",
            "mateless tameless\n",
            "mates satem\n",
            "mates tames\n",
            "meats teams\n",
            "mating taming\n",
            "mauger maugre\n",
            "may yam\n",
            "mays yams\n",
            "meager meagre\n",
            "meagerly meagrely\n",
            "misdeal mislead\n",
            "meet mete\n",
            "meet teem\n",
            "meeter teemer\n",
            "meeters teemers\n",
            "meeting teeming\n",
            "meets metes\n",
            "meets teems\n",
            "melodies melodise\n",
            "memo mome\n",
            "memos momes\n",
            "mense mesne\n",
            "meters metres\n",
            "meters retems\n",
            "merises remises\n",
            "merit remit\n",
            "miter mitre\n",
            "miter timer\n",
            "merits remits\n",
            "miters mitres\n",
            "miters timers\n",
            "meter metre\n",
            "meter retem\n",
            "remet retem\n",
            "mho ohm\n",
            "mhos ohms\n",
            "ohms shmo\n",
            "midden minded\n",
            "midspaces misspaced\n",
            "mien mine\n",
            "miens mines\n",
            "mildness mindless\n",
            "millimho milliohm\n",
            "millimhos milliohms\n",
            "ministers misinters\n",
            "teaming tegmina\n",
            "minuet minute\n",
            "minuets minutes\n",
            "unmiter unmitre\n",
            "mir rim\n",
            "mirex mixer\n",
            "mirier rimier\n",
            "miriest rimiest\n",
            "miring riming\n",
            "mirs rims\n",
            "miry rimy\n",
            "misdealing misleading\n",
            "misdeals misleads\n",
            "samites tamises\n",
            "miserly misrely\n",
            "misfield misfiled\n",
            "slimed smiled\n",
            "slimes smiles\n",
            "mitten titmen\n",
            "molar moral\n",
            "molarities moralities\n",
            "molarity morality\n",
            "molars morals\n",
            "mon nom\n",
            "monacid monadic\n",
            "monadic nomadic\n",
            "monad nomad\n",
            "monadism nomadism\n",
            "monadisms nomadisms\n",
            "monarch nomarch\n",
            "monarchies nomarchies\n",
            "monarchs nomarchs\n",
            "monarchy nomarchy\n",
            "monetize zonetime\n",
            "monetizes zonetimes\n",
            "monger morgen\n",
            "mongers morgens\n",
            "monism nomism\n",
            "monisms nomisms\n",
            "monistic nomistic\n",
            "mono moon\n",
            "monogram nomogram\n",
            "monograms nomograms\n",
            "monologies nomologies\n",
            "monology nomology\n",
            "monos moons\n",
            "monos nomos\n",
            "mons noms\n",
            "moor room\n",
            "moored roomed\n",
            "moorier roomier\n",
            "mooriest roomiest\n",
            "mooring rooming\n",
            "moors rooms\n",
            "moory roomy\n",
            "moot toom\n",
            "mope pome\n",
            "poem pome\n",
            "mopes pomes\n",
            "poems pomes\n",
            "moraine romaine\n",
            "moraines romaines\n",
            "morn norm\n",
            "morns norms\n",
            "most mots\n",
            "mots toms\n",
            "motes tomes\n",
            "mot tom\n",
            "mote tome\n",
            "motet motte\n",
            "motet totem\n",
            "motets mottes\n",
            "motets totems\n",
            "moues mouse\n",
            "mouses mousse\n",
            "mover vomer\n",
            "movers vomers\n",
            "mucor mucro\n",
            "mures muser\n",
            "mus sum\n",
            "muss sums\n",
            "must muts\n",
            "smut stum\n",
            "smuts stums\n",
            "mutuels mutules\n",
            "mutular tumular\n",
            "naevi naive\n",
            "sang snag\n",
            "naiver vainer\n",
            "naives navies\n",
            "naivest vainest\n",
            "nap pan\n",
            "nape pane\n",
            "neap pean\n",
            "napper rappen\n",
            "naps pans\n",
            "snap span\n",
            "narking ranking\n",
            "nary yarn\n",
            "natter ratten\n",
            "nattering rattening\n",
            "natters rattens\n",
            "nave vane\n",
            "vane vena\n",
            "neep peen\n",
            "neeps peens\n",
            "peens penes\n",
            "nereis serein\n",
            "nerts rents\n",
            "nerts terns\n",
            "nervier vernier\n",
            "nesses senses\n",
            "nest nets\n",
            "nest sent\n",
            "nets tens\n",
            "sent tens\n",
            "noters toners\n",
            "tenors toners\n",
            "net ten\n",
            "nett tent\n",
            "netter tenter\n",
            "netters tenters\n",
            "nettier tentier\n",
            "nettiest tentiest\n",
            "netting tenting\n",
            "netts tents\n",
            "netty tenty\n",
            "new wen\n",
            "news sewn\n",
            "news wens\n",
            "weiners wieners\n",
            "newt went\n",
            "nickel nickle\n",
            "nickels nickles\n",
            "nip pin\n",
            "nipa pina\n",
            "pain pian\n",
            "pian pina\n",
            "nipas pinas\n",
            "pains pians\n",
            "pians pinas\n",
            "nips pins\n",
            "snip spin\n",
            "nisus sinus\n",
            "nit tin\n",
            "nits tins\n",
            "no on\n",
            "nodes nosed\n",
            "nonrival nonviral\n",
            "nooser sooner\n",
            "noosers sooners\n",
            "nope pone\n",
            "thorning throning\n",
            "nos ons\n",
            "nos son\n",
            "noses sones\n",
            "not ton\n",
            "notal tonal\n",
            "talon tolan\n",
            "tolan tonal\n",
            "note tone\n",
            "noted toned\n",
            "noteless toneless\n",
            "noter toner\n",
            "tenor toner\n",
            "notes tones\n",
            "steno stone\n",
            "noting toning\n",
            "nous onus\n",
            "nouses onuses\n",
            "now won\n",
            "own won\n",
            "nows sown\n",
            "nows wons\n",
            "owns wons\n",
            "nowt town\n",
            "nowt wont\n",
            "nowts towns\n",
            "nowts wonts\n",
            "nu un\n",
            "nuder under\n",
            "nuns sunn\n",
            "nus sun\n",
            "nus uns\n",
            "nut tun\n",
            "nuts tuns\n",
            "oar ora\n",
            "osar soar\n",
            "soar sora\n",
            "oasis ossia\n",
            "oast oats\n",
            "oats taos\n",
            "oat tao\n",
            "observe obverse\n",
            "observes obverses\n",
            "ocherous ochreous\n",
            "yodel yodle\n",
            "yodels yodles\n",
            "oes ose\n",
            "oho ooh\n",
            "oils silo\n",
            "silo soli\n",
            "soil soli\n",
            "stenos stones\n",
            "oot too\n",
            "opt pot\n",
            "pot top\n",
            "option potion\n",
            "options potions\n",
            "opts pots\n",
            "post pots\n",
            "pots tops\n",
            "spot stop\n",
            "orach roach\n",
            "orb rob\n",
            "orbs robs\n",
            "orc roc\n",
            "orcs rocs\n",
            "ore roe\n",
            "ort rot\n",
            "rot tor\n",
            "orts rots\n",
            "rots tors\n",
            "sort tors\n",
            "os so\n",
            "otter toter\n",
            "otters toters\n",
            "sought toughs\n",
            "oust outs\n",
            "routes souter\n",
            "ousting outsing\n",
            "outer outre\n",
            "routing touring\n",
            "outguns outsung\n",
            "output putout\n",
            "outputs putouts\n",
            "outrides outsider\n",
            "outslept outspelt\n",
            "overbusy overbuys\n",
            "overdoes overdose\n",
            "servo verso\n",
            "ow wo\n",
            "owe woe\n",
            "owes owse\n",
            "owes woes\n",
            "rewon rowen\n",
            "ozonides ozonised\n",
            "padri pardi\n",
            "pail pial\n",
            "pairs paris\n",
            "palest palets\n",
            "palmary palmyra\n",
            "palter plater\n",
            "palters platers\n",
            "plaster psalter\n",
            "paltry partly\n",
            "partly raptly\n",
            "paly play\n",
            "panel penal\n",
            "plane plena\n",
            "panne penna\n",
            "panted pentad\n",
            "par rap\n",
            "parer raper\n",
            "parers rapers\n",
            "paring raping\n",
            "pars raps\n",
            "raps rasp\n",
            "part prat\n",
            "part rapt\n",
            "part tarp\n",
            "prat trap\n",
            "tarp trap\n",
            "partan tarpan\n",
            "tarpan trapan\n",
            "partans tarpans\n",
            "tarpans trapans\n",
            "parties pastier\n",
            "piaster piastre\n",
            "parting prating\n",
            "parton patron\n",
            "parton tarpon\n",
            "partons patrons\n",
            "partons tarpons\n",
            "parts prats\n",
            "parts tarps\n",
            "prats traps\n",
            "sprat strap\n",
            "tarps traps\n",
            "phases shapes\n",
            "past pats\n",
            "pats taps\n",
            "pates tapes\n",
            "tapes tepas\n",
            "paters tapers\n",
            "prates trapes\n",
            "spates stapes\n",
            "pastiches pistaches\n",
            "pasties patsies\n",
            "piasters piastres\n",
            "pasty patsy\n",
            "pate tape\n",
            "tape tepa\n",
            "patios patois\n",
            "patulent petulant\n",
            "pavid vapid\n",
            "paw wap\n",
            "paws waps\n",
            "waps wasp\n",
            "pay pya\n",
            "pay yap\n",
            "pays pyas\n",
            "pays yaps\n",
            "peckier pickeer\n",
            "pedicel pedicle\n",
            "peel pele\n",
            "sleeping speeling\n",
            "peels peles\n",
            "sleep speel\n",
            "peer pere\n",
            "peer pree\n",
            "pere pree\n",
            "peering preeing\n",
            "peers peres\n",
            "peers prees\n",
            "peres perse\n",
            "peres prees\n",
            "perse prese\n",
            "prees prese\n",
            "speer spree\n",
            "pees seep\n",
            "peins penis\n",
            "penis pines\n",
            "snipe spine\n",
            "peltry pertly\n",
            "slept spelt\n",
            "pennate pentane\n",
            "pepo pope\n",
            "pepos popes\n",
            "per rep\n",
            "percent precent\n",
            "percents precents\n",
            "percept precept\n",
            "percepts precepts\n",
            "perfect prefect\n",
            "perfects prefects\n",
            "perform preform\n",
            "performed preformed\n",
            "performing preforming\n",
            "performs preforms\n",
            "pries prise\n",
            "speir spier\n",
            "spier spire\n",
            "plasters psalters\n",
            "speers sprees\n",
            "pertest pretest\n",
            "purees rupees\n",
            "pervious previous\n",
            "pesos poses\n",
            "poses posse\n",
            "pest pets\n",
            "pest sept\n",
            "pests septs\n",
            "petit petti\n",
            "plastery psaltery\n",
            "philter philtre\n",
            "philters philtres\n",
            "python typhon\n",
            "pythons typhons\n",
            "pile plie\n",
            "piled plied\n",
            "piles plies\n",
            "slipe spile\n",
            "speil spiel\n",
            "spiel spile\n",
            "pilus pulis\n",
            "pintos piston\n",
            "piston postin\n",
            "pis psi\n",
            "pis sip\n",
            "piss psis\n",
            "piss sips\n",
            "pistons postins\n",
            "pit tip\n",
            "pits tips\n",
            "pixys pyxis\n",
            "plaint pliant\n",
            "plaiter platier\n",
            "planate platane\n",
            "planet platen\n",
            "planets platens\n",
            "plasmic psalmic\n",
            "plasms psalms\n",
            "slipes spiles\n",
            "speils spiels\n",
            "spiels spiles\n",
            "ploy poly\n",
            "ploys polys\n",
            "plus puls\n",
            "pluses pulses\n",
            "poises posies\n",
            "snoopier spoonier\n",
            "snoop spoon\n",
            "pore rope\n",
            "pores poser\n",
            "pores ropes\n",
            "poring roping\n",
            "portend protend\n",
            "portended protended\n",
            "portending protending\n",
            "portends protends\n",
            "positing sopiting\n",
            "spots stops\n",
            "potful topful\n",
            "potstone topstone\n",
            "potstones topstones\n",
            "pour roup\n",
            "poured rouped\n",
            "pours roups\n",
            "spout stoup\n",
            "pow wop\n",
            "pows wops\n",
            "prao proa\n",
            "praos proas\n",
            "precis prices\n",
            "presetting pretesting\n",
            "speired spiered\n",
            "pride pried\n",
            "prides prised\n",
            "spider spired\n",
            "prims prism\n",
            "speirs spiers\n",
            "spiers spires\n",
            "propenes propense\n",
            "sopor spoor\n",
            "sopors spoors\n",
            "pules pulse\n",
            "puree rupee\n",
            "pus sup\n",
            "pus ups\n",
            "puses supes\n",
            "spues supes\n",
            "puss sups\n",
            "put tup\n",
            "puts tups\n",
            "quais quasi\n",
            "quarte quatre\n",
            "quartes quatres\n",
            "questionnaire questionniare\n",
            "questionnaires questionniares\n",
            "quickest quickset\n",
            "quiet quite\n",
            "quinnat quintan\n",
            "quinnats quintans\n",
            "racket tacker\n",
            "rackets tackers\n",
            "ragtag tagrag\n",
            "ragtags tagrags\n",
            "rallies sallier\n",
            "ramsons ransoms\n",
            "randies sandier\n",
            "tarns trans\n",
            "rate tare\n",
            "tarre terra\n",
            "ratine retina\n",
            "rato rota\n",
            "rato taro\n",
            "rota tora\n",
            "taro tora\n",
            "ratos rotas\n",
            "ratos taros\n",
            "rotas toras\n",
            "taros toras\n",
            "rattan tartan\n",
            "rattans tartans\n",
            "ratted tarted\n",
            "ratter tarter\n",
            "ratting tarting\n",
            "rattly tartly\n",
            "ravages savager\n",
            "raw war\n",
            "rawer warer\n",
            "tawers waters\n",
            "raws wars\n",
            "ray rya\n",
            "ray yar\n",
            "rays ryas\n",
            "redears rereads\n",
            "saltier saltire\n",
            "saltier slatier\n",
            "saltiers saltires\n",
            "scepter sceptre\n",
            "scepter specter\n",
            "sceptre spectre\n",
            "specter spectre\n",
            "recourse resource\n",
            "recourses resources\n",
            "recused secured\n",
            "reduces seducer\n",
            "recusing securing\n",
            "scarped scraped\n",
            "redden rended\n",
            "rees seer\n",
            "seer sere\n",
            "reeved veered\n",
            "reeving veering\n",
            "regarding regrading\n",
            "regelated relegated\n",
            "regelating relegating\n",
            "renigs resign\n",
            "signer singer\n",
            "resin risen\n",
            "resin serin\n",
            "risen siren\n",
            "serin siren\n",
            "reiver riever\n",
            "reivers rievers\n",
            "released resealed\n",
            "reliving reviling\n",
            "renews resewn\n",
            "rennet tenner\n",
            "rennets tenners\n",
            "repertoires repertories\n",
            "repin ripen\n",
            "repined ripened\n",
            "repiner ripener\n",
            "repiners ripeners\n",
            "repining ripening\n",
            "repins ripens\n",
            "serries sirrees\n",
            "sawer sewar\n",
            "sewar swear\n",
            "sawers sewars\n",
            "sewars swears\n",
            "reserve reverse\n",
            "reveres reverse\n",
            "reveres severer\n",
            "reserver reverser\n",
            "reservers reversers\n",
            "reserves reverses\n",
            "reserving reversing\n",
            "resetting retesting\n",
            "silverer sliverer\n",
            "silverers sliverers\n",
            "resins serins\n",
            "serins sirens\n",
            "roster sorter\n",
            "rosters sorters\n",
            "resow serow\n",
            "resows serows\n",
            "scepters sceptres\n",
            "scepters specters\n",
            "sceptres spectres\n",
            "specters spectres\n",
            "retrains terrains\n",
            "retail retial\n",
            "setter tester\n",
            "setters testers\n",
            "retired retried\n",
            "retires retries\n",
            "retries terries\n",
            "retrain terrain\n",
            "retry terry\n",
            "server verser\n",
            "versets verstes\n",
            "rhesus rhuses\n",
            "ribbon robbin\n",
            "ribbons robbins\n",
            "rickets tickers\n",
            "ridden rinded\n",
            "rilles siller\n",
            "rillet tiller\n",
            "rillets tillers\n",
            "ringlet tingler\n",
            "ringlets tinglers\n",
            "tiro tori\n",
            "tiro trio\n",
            "tiros trios\n",
            "trios trois\n",
            "ripplet tippler\n",
            "ripplets tipplers\n",
            "rises sires\n",
            "rising siring\n",
            "rite tire\n",
            "tier tire\n",
            "rites tires\n",
            "tiers tires\n",
            "tires tries\n",
            "rival viral\n",
            "rives siver\n",
            "rives vires\n",
            "viers vires\n",
            "roguing rouging\n",
            "roost roots\n",
            "roots rotos\n",
            "rotos toros\n",
            "toros torso\n",
            "root roto\n",
            "roto toro\n",
            "rootlet tootler\n",
            "rootlets tootlers\n",
            "roser sorer\n",
            "roses sores\n",
            "roset rotes\n",
            "rotes tores\n",
            "tores torse\n",
            "torses tosser\n",
            "sorites sorties\n",
            "rotch torch\n",
            "rote tore\n",
            "rotten torten\n",
            "rouser sourer\n",
            "rousing souring\n",
            "roust routs\n",
            "routs tours\n",
            "torus tours\n",
            "routers tourers\n",
            "rout tour\n",
            "router tourer\n",
            "rowdier wordier\n",
            "wordier worried\n",
            "rowdiest wordiest\n",
            "rowdily wordily\n",
            "rowdiness wordiness\n",
            "rowdinesses wordinesses\n",
            "rowth worth\n",
            "worth wroth\n",
            "rowths worths\n",
            "rues ruse\n",
            "rues suer\n",
            "ruse sure\n",
            "suer sure\n",
            "suer user\n",
            "ruffes suffer\n",
            "ruinate urinate\n",
            "uranite urinate\n",
            "ruinates urinates\n",
            "uranites urinates\n",
            "ruinating urinating\n",
            "ruinous urinous\n",
            "run urn\n",
            "runs urns\n",
            "suers users\n",
            "russets tussers\n",
            "rust ruts\n",
            "tory troy\n",
            "tory tyro\n",
            "story stroy\n",
            "sabers sabres\n",
            "sadis saids\n",
            "sae sea\n",
            "sails sials\n",
            "satins stains\n",
            "salines silanes\n",
            "salivas salvias\n",
            "salons solans\n",
            "salps slaps\n",
            "saltiest slatiest\n",
            "salty slaty\n",
            "salutes taluses\n",
            "salved slaved\n",
            "salvers slavers\n",
            "salves slaves\n",
            "salves valses\n",
            "salving slaving\n",
            "sanity satiny\n",
            "talons tolans\n",
            "sat tas\n",
            "satirist sitarist\n",
            "satirists sitarists\n",
            "saves vases\n",
            "saw was\n",
            "sawyer swayer\n",
            "sawyers swayers\n",
            "scaped spaced\n",
            "scapes spaces\n",
            "scaping spacing\n",
            "scarpers scrapers\n",
            "scarps scraps\n",
            "sceptral spectral\n",
            "schemer schmeer\n",
            "schemers schmeers\n",
            "seated teased\n",
            "seeking skeeing\n",
            "seeks skees\n",
            "seems semes\n",
            "segni sengi\n",
            "sengi singe\n",
            "series sirees\n",
            "sends sneds\n",
            "sennit tennis\n",
            "sepulcher sepulchre\n",
            "sepulchers sepulchres\n",
            "servant versant\n",
            "servants versants\n",
            "serve verse\n",
            "served versed\n",
            "servers versers\n",
            "serves verses\n",
            "serving versing\n",
            "servos versos\n",
            "sestet testes\n",
            "settee testee\n",
            "settees testees\n",
            "setting testing\n",
            "sherds shreds\n",
            "shout thous\n",
            "shrieks shrikes\n",
            "tushes tusseh\n",
            "signing singing\n",
            "signs sings\n",
            "sikes skies\n",
            "silly slily\n",
            "silly yills\n",
            "vails vials\n",
            "silvering slivering\n",
            "silvers slivers\n",
            "sinew wines\n",
            "siped spied\n",
            "sipes spies\n",
            "sir sri\n",
            "sirs sris\n",
            "sites sties\n",
            "titers titres\n",
            "six xis\n",
            "skate stake\n",
            "skated staked\n",
            "skates stakes\n",
            "skating staking\n",
            "skeans sneaks\n",
            "skeens skenes\n",
            "skeets steeks\n",
            "skips spiks\n",
            "skirret skirter\n",
            "skirrets skirters\n",
            "skirt stirk\n",
            "skirts stirks\n",
            "sleeps speels\n",
            "sleetiest steeliest\n",
            "sleets steels\n",
            "steels steles\n",
            "sleety steely\n",
            "sliming smiling\n",
            "slipt spilt\n",
            "spilt split\n",
            "slitted stilted\n",
            "slitting stilting\n",
            "sloops spools\n",
            "slowness snowless\n",
            "smites stimes\n",
            "snapless spanless\n",
            "snaps spans\n",
            "snatched stanched\n",
            "snatchers stanchers\n",
            "snatching stanching\n",
            "snaws swans\n",
            "sneaped speaned\n",
            "sneaping speaning\n",
            "sniped spined\n",
            "snipes spines\n",
            "snips spins\n",
            "snooped spooned\n",
            "snoopiest spooniest\n",
            "snoopily spoonily\n",
            "snooping spooning\n",
            "snoops spoons\n",
            "snoopy spoony\n",
            "snye syne\n",
            "soars soras\n",
            "soldier solider\n",
            "solitaires solitaries\n",
            "solus souls\n",
            "somberly sombrely\n",
            "sonnet tonnes\n",
            "sorus sours\n",
            "sotols stools\n",
            "sots toss\n",
            "sow wos\n",
            "spade spaed\n",
            "speeder speered\n",
            "speiled spieled\n",
            "speiling spieling\n",
            "speiring spiering\n",
            "spirt sprit\n",
            "spirt stirp\n",
            "sprit strip\n",
            "stirp strip\n",
            "spirts sprits\n",
            "spirts stirps\n",
            "sprits strips\n",
            "stirps strips\n",
            "spite stipe\n",
            "spited stiped\n",
            "spites stipes\n",
            "spotlight stoplight\n",
            "spotlights stoplights\n",
            "spouts stoups\n",
            "sprats straps\n",
            "spue supe\n",
            "sputa stupa\n",
            "staccato stoccata\n",
            "staccatos stoccatas\n",
            "stades tsades\n",
            "stardom tsardom\n",
            "stardoms tsardoms\n",
            "starets staters\n",
            "stars tsars\n",
            "trass tsars\n",
            "taste testa\n",
            "teats testa\n",
            "tasset tastes\n",
            "staw swat\n",
            "swat twas\n",
            "taws twas\n",
            "taws wats\n",
            "wast wats\n",
            "tews wets\n",
            "west wets\n",
            "stey stye\n",
            "telos toles\n",
            "storying stroying\n",
            "stow swot\n",
            "swot twos\n",
            "tows twos\n",
            "tows wots\n",
            "wost wots\n",
            "stows swots\n",
            "strongly strongyl\n",
            "worst worts\n",
            "strut sturt\n",
            "struts sturts\n",
            "tumblers tumbrels\n",
            "suable usable\n",
            "suably usably\n",
            "subbed subdeb\n",
            "sue use\n",
            "sues uses\n",
            "suing using\n",
            "suit tuis\n",
            "thaws whats\n",
            "ways yaws\n",
            "weest weets\n",
            "wildness windless\n",
            "whist whits\n",
            "tactic tictac\n",
            "tactics tictacs\n",
            "tailles tallies\n",
            "tango tonga\n",
            "tangos tongas\n",
            "tantara tartana\n",
            "tantaras tartanas\n",
            "tardier tarried\n",
            "tarries tarsier\n",
            "tartlet tattler\n",
            "tartlets tattlers\n",
            "tav vat\n",
            "tavs vats\n",
            "vast vats\n",
            "taw twa\n",
            "taw wat\n",
            "tawer water\n",
            "taxes texas\n",
            "teazel teazle\n",
            "teazels teazles\n",
            "tenias tineas\n",
            "unites unties\n",
            "unmiters unmitres\n",
            "termor tremor\n",
            "termors tremors\n",
            "tew wet\n",
            "tewed tweed\n",
            "thaw what\n",
            "theater theatre\n",
            "thew whet\n",
            "thews whets\n",
            "thickest thickets\n",
            "thickest thickset\n",
            "thorned throned\n",
            "tilde tiled\n",
            "tilted titled\n",
            "tilting titling\n",
            "timber timbre\n",
            "timbers timbres\n",
            "tired tried\n",
            "titer titre\n",
            "toady today\n",
            "tort trot\n",
            "torts trots\n",
            "tost tots\n",
            "tow two\n",
            "tow wot\n",
            "trail trial\n",
            "trails trials\n",
            "triacid triadic\n",
            "trying tyring\n",
            "tumbler tumbrel\n",
            "twist twits\n",
            "unburden unburned\n",
            "uncrated untraced\n",
            "underdogs undergods\n",
            "ungual ungula\n",
            "unite untie\n",
            "unleased unsealed\n",
            "unlit until\n",
            "unmated untamed\n",
            "unserved unversed\n",
            "unspilt unsplit\n",
            "untilted untitled\n",
            "vail vial\n",
            "vailed vialed\n",
            "vailing vialing\n",
            "valor volar\n",
            "verst verts\n",
            "vest vets\n",
            "veto vote\n",
            "vies vise\n",
            "wadder warded\n",
            "wader wared\n",
            "waist waits\n",
            "waiver wavier\n",
            "waives wavies\n",
            "wake weka\n",
            "weak weka\n",
            "wander warden\n",
            "warden warned\n",
            "wanders wardens\n",
            "warner warren\n",
            "warners warrens\n",
            "warp wrap\n",
            "warps wraps\n",
            "warstle wrastle\n",
            "warstled wrastled\n",
            "warstles wrastles\n",
            "warstling wrastling\n",
            "way yaw\n",
            "weiner wiener\n",
            "weird wried\n",
            "wider wired\n",
            "wired wried\n",
            "weirs wries\n",
            "wires wiser\n",
            "wires wries\n",
            "whoso woosh\n",
            "wides wised\n",
            "wield wiled\n",
            "wilting witling\n",
            "wirer wrier\n",
            "wist wits\n",
            "worthful wrothful\n",
            "wrist writs\n",
            "zaffer zaffre\n",
            "zaffers zaffres\n"
          ]
        }
      ],
      "source": [
        "# Solution goes here\n",
        "\n",
        "def is_meta(word1, word2):\n",
        "    if word1 < word2 and word_distance(word1, word2) == 2:\n",
        "        return True\n",
        "    return False\n",
        "\n",
        "\n",
        "for anagrams in anagram_dict.values():\n",
        "    for word1 in anagrams:\n",
        "        for word2 in anagrams:\n",
        "            if is_meta(word1, word2):\n",
        "                print(word1, word2)"
      ]
    },
    {
      "cell_type": "markdown",
      "id": "6a028806",
      "metadata": {
        "tags": [],
        "id": "6a028806"
      },
      "source": [
        "### Exercise\n",
        "\n",
        "This is a bonus exercise that is not in the book.\n",
        "It is more challenging than the other exercises in this chapter, so you might want to ask a virtual assistant for help, or come back to it after you've read a few more chapters.\n",
        "\n",
        "Here's another Car Talk Puzzler\n",
        "(<http://www.cartalk.com/content/puzzlers>):\n",
        "\n",
        "> What is the longest English word, that remains a valid English word,\n",
        "> as you remove its letters one at a time?\n",
        ">\n",
        "> Now, letters can be removed from either end, or the middle, but you\n",
        "> can't rearrange any of the letters. Every time you drop a letter, you\n",
        "> wind up with another English word. If you do that, you're eventually\n",
        "> going to wind up with one letter and that too is going to be an\n",
        "> English word---one that's found in the dictionary. I want to know\n",
        "> what's the longest word and how many letters does it have?\n",
        ">\n",
        "> I'm going to give you a little modest example: Sprite. Ok? You start\n",
        "> off with sprite, you take a letter off, one from the interior of the\n",
        "> word, take the r away, and we're left with the word spite, then we\n",
        "> take the e off the end, we're left with spit, we take the s off, we're\n",
        "> left with pit, it, and I.\n",
        "\n",
        "Write a program to find all words that can be reduced in this way, and\n",
        "then find the longest one.\n",
        "\n",
        "This exercise is a little more challenging than most, so here are some\n",
        "suggestions:\n",
        "\n",
        "1.  You might want to write a function that takes a word and computes a\n",
        "    list of all the words that can be formed by removing one letter.\n",
        "    These are the \"children\" of the word.\n",
        "\n",
        "2.  Recursively, a word is reducible if any of its children are\n",
        "    reducible. As a base case, you can consider the empty string\n",
        "    reducible.\n",
        "\n",
        "3.  The word list we've been using doesn't contain single letter\n",
        "    words. So you might have to add \"I\" and \"a\".\n",
        "\n",
        "4.  To improve the performance of your program, you might want to\n",
        "    memoize the words that are known to be reducible."
      ]
    },
    {
      "cell_type": "code",
      "execution_count": 238,
      "id": "c19bf833",
      "metadata": {
        "id": "c19bf833",
        "outputId": "53049d7a-7292-437b-e1ea-6567e34ad52c",
        "colab": {
          "base_uri": "https://localhost:8080/"
        }
      },
      "outputs": [
        {
          "output_type": "stream",
          "name": "stdout",
          "text": [
            "wranglers -> wanglers -> anglers -> angers -> agers -> ages -> age -> ae -> a\n",
            "wrappings -> wrapping -> rapping -> raping -> aping -> ping -> pig -> pi -> i\n",
            "carrousels -> carousels -> carouses -> arouses -> arouse -> arose -> arse -> are -> ae -> a\n",
            "completing -> competing -> compting -> comping -> coping -> oping -> ping -> pig -> pi -> i\n",
            "insolating -> isolating -> solating -> slating -> sating -> sting -> ting -> tin -> in -> i\n",
            "restarting -> restating -> estating -> stating -> sating -> sting -> ting -> tin -> in -> i\n",
            "staunchest -> stanchest -> stanches -> stances -> stanes -> sanes -> anes -> ane -> ae -> a\n",
            "stranglers -> strangers -> stranger -> strange -> strang -> stang -> tang -> tag -> ta -> a\n",
            "twitchiest -> witchiest -> withiest -> withies -> withes -> wites -> wits -> its -> is -> i\n",
            "complecting -> completing -> competing -> compting -> comping -> coping -> oping -> ping -> pig -> pi -> i\n"
          ]
        }
      ],
      "source": [
        "# Solution goes here\n",
        "\n"
      ]
    },
    {
      "cell_type": "code",
      "execution_count": 175,
      "id": "2d9764d6",
      "metadata": {
        "id": "2d9764d6"
      },
      "outputs": [],
      "source": [
        "# Solution goes here\n",
        "def children(word):\n",
        "    res = []\n",
        "    for i in range(len(word)):\n",
        "        wrd = word[:i] + word[i+1:]\n",
        "        if wrd in word_dict:\n",
        "            res.append(wrd)\n",
        "    return res"
      ]
    },
    {
      "cell_type": "code",
      "execution_count": 228,
      "id": "5e4f5d8e",
      "metadata": {
        "id": "5e4f5d8e",
        "outputId": "05c5cff9-aa2a-447f-8995-29700ea6aa5d",
        "colab": {
          "base_uri": "https://localhost:8080/"
        }
      },
      "outputs": [
        {
          "output_type": "execute_result",
          "data": {
            "text/plain": [
              "['sprite', 'spite', 'site', 'sit', 'it', 'i']"
            ]
          },
          "metadata": {},
          "execution_count": 228
        }
      ],
      "source": [
        "# Solution goes here\n",
        "\n",
        "\"\"\"creo dizionario di parole -> ad ogni parola associo i figli riducibili\"\"\"\n",
        "\n",
        "reducible = {}\n",
        "reducible['']=['']    #caso base\n",
        "\n",
        "\n",
        "def reduce(word):\n",
        "\n",
        "    \"\"\"stampa lista di figli riducibili e aggiunge word al dizionario se questa non è vuota\"\"\"\n",
        "    if word in reducible:\n",
        "        return reducible[word]\n",
        "    res = []\n",
        "    for child in children(word):\n",
        "        if len(reduce(child)) > 0:\n",
        "            res.append(child)\n",
        "    reducible[word]=res\n",
        "    return res\n",
        "\n",
        "\n",
        "def ex_red():\n",
        "    \"\"\"estrai riducibili\"\"\"\n",
        "    res = []\n",
        "    for word in word_dict:\n",
        "        t = reduce(word)\n",
        "        if len(t)>0:\n",
        "            res.append(word)\n",
        "    return res\n",
        "\n",
        "\n",
        "    \"\"\"trova (una) sequenza di riduzione\"\"\"\n",
        "def seq(word):\n",
        "    if word == '':\n",
        "        return []\n",
        "    if len(reduce(word))>0:\n",
        "        return [word] + seq(reduce(word)[0])\n",
        "    else:\n",
        "        return [word]\n"
      ]
    },
    {
      "cell_type": "code",
      "execution_count": 229,
      "id": "27d311dd",
      "metadata": {
        "id": "27d311dd"
      },
      "outputs": [],
      "source": [
        "# Solution goes here\n",
        "\n",
        "word_dict = {}\n",
        "for word in word_list:\n",
        "    word_dict[word] = 1\n",
        "for word in ['a', 'i', '']:\n",
        "    word_dict[word]=1\n",
        "\n",
        "reducibles = ex_red()\n",
        "sorted_red =sorted(reducibles, key=len)\n",
        "\n",
        "\"\"\"stampa le dieci parole riducibili più lunghe e la loro seguenza\"\"\"\n",
        "\n",
        "for word in sorted_red[-10:]:\n",
        "    t = seq(word)\n",
        "    print(*t, sep = ' -> ')\n"
      ]
    },
    {
      "cell_type": "code",
      "execution_count": null,
      "id": "68c27c7e",
      "metadata": {
        "id": "68c27c7e"
      },
      "outputs": [],
      "source": [
        "# Solution goes here"
      ]
    },
    {
      "cell_type": "markdown",
      "id": "a7f4edf8",
      "metadata": {
        "tags": [],
        "id": "a7f4edf8"
      },
      "source": [
        "[Think Python: 3rd Edition](https://allendowney.github.io/ThinkPython/index.html)\n",
        "\n",
        "Copyright 2024 [Allen B. Downey](https://allendowney.com)\n",
        "\n",
        "Code license: [MIT License](https://mit-license.org/)\n",
        "\n",
        "Text license: [Creative Commons Attribution-NonCommercial-ShareAlike 4.0 International](https://creativecommons.org/licenses/by-nc-sa/4.0/)"
      ]
    }
  ],
  "metadata": {
    "celltoolbar": "Tags",
    "kernelspec": {
      "display_name": "Python 3 (ipykernel)",
      "language": "python",
      "name": "python3"
    },
    "language_info": {
      "codemirror_mode": {
        "name": "ipython",
        "version": 3
      },
      "file_extension": ".py",
      "mimetype": "text/x-python",
      "name": "python",
      "nbconvert_exporter": "python",
      "pygments_lexer": "ipython3",
      "version": "3.10.11"
    },
    "colab": {
      "provenance": []
    }
  },
  "nbformat": 4,
  "nbformat_minor": 5
}