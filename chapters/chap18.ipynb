{
  "cells": [
    {
      "cell_type": "markdown",
      "id": "1331faa1",
      "metadata": {
        "id": "1331faa1"
      },
      "source": [
        "You can order print and ebook versions of *Think Python 3e* from\n",
        "[Bookshop.org](https://bookshop.org/a/98697/9781098155438) and\n",
        "[Amazon](https://www.amazon.com/_/dp/1098155432?smid=ATVPDKIKX0DER&_encoding=UTF8&tag=oreilly20-20&_encoding=UTF8&tag=greenteapre01-20&linkCode=ur2&linkId=e2a529f94920295d27ec8a06e757dc7c&camp=1789&creative=9325)."
      ]
    },
    {
      "cell_type": "code",
      "execution_count": 1,
      "id": "260216be",
      "metadata": {
        "tags": [],
        "id": "260216be",
        "outputId": "650cdd80-a16b-4529-8e4d-f88633a2ae65",
        "colab": {
          "base_uri": "https://localhost:8080/"
        }
      },
      "outputs": [
        {
          "output_type": "stream",
          "name": "stdout",
          "text": [
            "Downloaded thinkpython.py\n",
            "Downloaded diagram.py\n"
          ]
        }
      ],
      "source": [
        "from os.path import basename, exists\n",
        "\n",
        "def download(url):\n",
        "    filename = basename(url)\n",
        "    if not exists(filename):\n",
        "        from urllib.request import urlretrieve\n",
        "\n",
        "        local, _ = urlretrieve(url, filename)\n",
        "        print(\"Downloaded \" + str(local))\n",
        "    return filename\n",
        "\n",
        "download('https://github.com/AllenDowney/ThinkPython/raw/v3/thinkpython.py');\n",
        "download('https://github.com/AllenDowney/ThinkPython/raw/v3/diagram.py');\n",
        "\n",
        "import thinkpython"
      ]
    },
    {
      "cell_type": "markdown",
      "id": "f5cb253c",
      "metadata": {
        "tags": [],
        "id": "f5cb253c"
      },
      "source": [
        "Here are versions of the `Card`, `Deck`, and `Hand` classes from Chapter 17, which we will use in some examples in this chapter."
      ]
    },
    {
      "cell_type": "code",
      "execution_count": 3,
      "id": "ad0da137",
      "metadata": {
        "tags": [],
        "id": "ad0da137"
      },
      "outputs": [],
      "source": [
        "class Card:\n",
        "    suit_names = ['Clubs', 'Diamonds', 'Hearts', 'Spades']\n",
        "    rank_names = [None, 'Ace', '2', '3', '4', '5', '6', '7',\n",
        "                  '8', '9', '10', 'Jack', 'Queen', 'King', 'Ace']\n",
        "\n",
        "    def __init__(self, suit, rank):\n",
        "        self.suit = suit\n",
        "        self.rank = rank\n",
        "\n",
        "    def __str__(self):\n",
        "        rank_name = Card.rank_names[self.rank]\n",
        "        suit_name = Card.suit_names[self.suit]\n",
        "        return f'{rank_name} of {suit_name}'"
      ]
    },
    {
      "cell_type": "code",
      "execution_count": 4,
      "id": "8b00461b",
      "metadata": {
        "tags": [],
        "id": "8b00461b"
      },
      "outputs": [],
      "source": [
        "import random\n",
        "\n",
        "class Deck:\n",
        "    def __init__(self, cards):\n",
        "        self.cards = cards\n",
        "\n",
        "    def __str__(self):\n",
        "        res = []\n",
        "        for card in self.cards:\n",
        "            res.append(str(card))\n",
        "        return '\\n'.join(res)\n",
        "\n",
        "    def make_cards():\n",
        "        cards = []\n",
        "        for suit in range(4):\n",
        "            for rank in range(2, 15):\n",
        "                card = Card(suit, rank)\n",
        "                cards.append(card)\n",
        "        return cards\n",
        "\n",
        "    def shuffle(self):\n",
        "        random.shuffle(self.cards)\n",
        "\n",
        "    def pop_card(self):\n",
        "        return self.cards.pop()\n",
        "\n",
        "    def add_card(self, card):\n",
        "        self.cards.append(card)"
      ]
    },
    {
      "cell_type": "code",
      "execution_count": 5,
      "id": "737b8979",
      "metadata": {
        "tags": [],
        "id": "737b8979"
      },
      "outputs": [],
      "source": [
        "class Hand(Deck):\n",
        "    def __init__(self, label=''):\n",
        "        self.label = label\n",
        "        self.cards = []"
      ]
    },
    {
      "cell_type": "markdown",
      "id": "27e8d827",
      "metadata": {
        "id": "27e8d827"
      },
      "source": [
        "# Python Extras\n",
        "\n",
        "One of my goals for this book has been to teach you as little Python as possible.\n",
        "When there were two ways to do something, I picked one and avoided mentioning the other.\n",
        "Or sometimes I put the second one into an exercise.\n",
        "\n",
        "Now I want to go back for some of the good bits that got left behind.\n",
        "Python provides a number of features that are not really necessary -- you can write good code without them -- but with them you can write code that's more concise, readable, or efficient, and sometimes all three."
      ]
    },
    {
      "cell_type": "markdown",
      "id": "7ddcece8",
      "metadata": {
        "id": "7ddcece8"
      },
      "source": [
        "## Sets\n",
        "\n",
        "Python provides a class called `set` that represents a collection of unique elements.\n",
        "To create an empty set, we can use the class object like a function."
      ]
    },
    {
      "cell_type": "code",
      "execution_count": 6,
      "id": "77f98242",
      "metadata": {
        "id": "77f98242",
        "outputId": "14514435-16ff-40af-8176-d620832fd86d",
        "colab": {
          "base_uri": "https://localhost:8080/"
        }
      },
      "outputs": [
        {
          "output_type": "execute_result",
          "data": {
            "text/plain": [
              "set()"
            ]
          },
          "metadata": {},
          "execution_count": 6
        }
      ],
      "source": [
        "s1 = set()\n",
        "s1"
      ]
    },
    {
      "cell_type": "markdown",
      "id": "904e2071",
      "metadata": {
        "id": "904e2071"
      },
      "source": [
        "We can use the `add` method to add elements."
      ]
    },
    {
      "cell_type": "code",
      "execution_count": 7,
      "id": "85157902",
      "metadata": {
        "id": "85157902",
        "outputId": "e02aff02-7ee5-4885-a137-0bd72e7e2be5",
        "colab": {
          "base_uri": "https://localhost:8080/"
        }
      },
      "outputs": [
        {
          "output_type": "execute_result",
          "data": {
            "text/plain": [
              "{'a', 'b'}"
            ]
          },
          "metadata": {},
          "execution_count": 7
        }
      ],
      "source": [
        "s1.add('a')\n",
        "s1.add('b')\n",
        "s1"
      ]
    },
    {
      "cell_type": "markdown",
      "id": "beee02fc",
      "metadata": {
        "id": "beee02fc"
      },
      "source": [
        "Or we can pass any kind of sequence to `set`."
      ]
    },
    {
      "cell_type": "code",
      "execution_count": 8,
      "id": "b470e34a",
      "metadata": {
        "id": "b470e34a",
        "outputId": "da6a81bf-a58e-4a49-995c-f45604f95757",
        "colab": {
          "base_uri": "https://localhost:8080/"
        }
      },
      "outputs": [
        {
          "output_type": "execute_result",
          "data": {
            "text/plain": [
              "{'a', 'c', 'd'}"
            ]
          },
          "metadata": {},
          "execution_count": 8
        }
      ],
      "source": [
        "s2 = set('acd')\n",
        "s2"
      ]
    },
    {
      "cell_type": "markdown",
      "id": "42f99153",
      "metadata": {
        "id": "42f99153"
      },
      "source": [
        "An element can only appear once in a `set`.\n",
        "If you add an element that's already there, it has no effect."
      ]
    },
    {
      "cell_type": "code",
      "execution_count": 9,
      "id": "e6a2d78b",
      "metadata": {
        "id": "e6a2d78b",
        "outputId": "e7e7a6d5-e5dc-44e4-f1a6-911a03fe52c0",
        "colab": {
          "base_uri": "https://localhost:8080/"
        }
      },
      "outputs": [
        {
          "output_type": "execute_result",
          "data": {
            "text/plain": [
              "{'a', 'b'}"
            ]
          },
          "metadata": {},
          "execution_count": 9
        }
      ],
      "source": [
        "s1.add('a')\n",
        "s1"
      ]
    },
    {
      "cell_type": "markdown",
      "id": "9b0a82ee",
      "metadata": {
        "id": "9b0a82ee"
      },
      "source": [
        "Or if you create a set with a sequence that contains duplicates, the result contains only unique elements."
      ]
    },
    {
      "cell_type": "code",
      "execution_count": 10,
      "id": "a4f5ff4f",
      "metadata": {
        "id": "a4f5ff4f",
        "outputId": "2de806e7-266a-4977-8f97-d8d0a3bab563",
        "colab": {
          "base_uri": "https://localhost:8080/"
        }
      },
      "outputs": [
        {
          "output_type": "execute_result",
          "data": {
            "text/plain": [
              "{'a', 'b', 'n'}"
            ]
          },
          "metadata": {},
          "execution_count": 10
        }
      ],
      "source": [
        "set('banana')"
      ]
    },
    {
      "cell_type": "markdown",
      "id": "328e2009",
      "metadata": {
        "id": "328e2009"
      },
      "source": [
        "Some of the exercises in this book can be done concisely and efficiently with sets.\n",
        "For example, here is a solution to an exercise in Chapter 11 that uses a dictionary to check whether there are any duplicate elements in a sequence."
      ]
    },
    {
      "cell_type": "code",
      "execution_count": 11,
      "id": "483046f2",
      "metadata": {
        "id": "483046f2"
      },
      "outputs": [],
      "source": [
        "def has_duplicates(t):\n",
        "    d = {}\n",
        "    for x in t:\n",
        "        d[x] = True\n",
        "    return len(d) < len(t)"
      ]
    },
    {
      "cell_type": "markdown",
      "id": "0b250e58",
      "metadata": {
        "id": "0b250e58"
      },
      "source": [
        "This version adds the element of `t` as keys in a dictionary, and then checks whether there are fewer keys than elements.\n",
        "Using sets, we can write the same function like this."
      ]
    },
    {
      "cell_type": "code",
      "execution_count": 12,
      "id": "fe22c739",
      "metadata": {
        "id": "fe22c739"
      },
      "outputs": [],
      "source": [
        "def has_duplicates(t):\n",
        "    s = set(t)\n",
        "    return len(s) < len(t)"
      ]
    },
    {
      "cell_type": "code",
      "execution_count": 13,
      "id": "3bbd3b72",
      "metadata": {
        "tags": [],
        "id": "3bbd3b72",
        "outputId": "4d512ee1-bc72-4d0e-e895-eaba1dc270af",
        "colab": {
          "base_uri": "https://localhost:8080/"
        }
      },
      "outputs": [
        {
          "output_type": "execute_result",
          "data": {
            "text/plain": [
              "True"
            ]
          },
          "metadata": {},
          "execution_count": 13
        }
      ],
      "source": [
        "has_duplicates('abba')"
      ]
    },
    {
      "cell_type": "markdown",
      "id": "30cf3158",
      "metadata": {
        "id": "30cf3158"
      },
      "source": [
        "An element can only appear in a set once, so if an element in `t` appears more than once, the set will be smaller than `t`.\n",
        "If there are no duplicates, the set will be the same size as `t`.\n",
        "\n",
        "`set` objects provide methods that perform set operations.\n",
        "For example, `union` computes the union of two sets, which is a new set that contains all elements that appear in either set."
      ]
    },
    {
      "cell_type": "code",
      "execution_count": 14,
      "id": "0a8234b1",
      "metadata": {
        "id": "0a8234b1",
        "outputId": "24f09b76-5edd-480e-f97c-fa02da56f85b",
        "colab": {
          "base_uri": "https://localhost:8080/"
        }
      },
      "outputs": [
        {
          "output_type": "execute_result",
          "data": {
            "text/plain": [
              "{'a', 'b', 'c', 'd'}"
            ]
          },
          "metadata": {},
          "execution_count": 14
        }
      ],
      "source": [
        "s1.union(s2)"
      ]
    },
    {
      "cell_type": "markdown",
      "id": "57b1d50c",
      "metadata": {
        "id": "57b1d50c"
      },
      "source": [
        "Some arithmetic operators work with sets.\n",
        "For example, the `-` operator performs set subtraction -- the result is a new set that contains all elements from the first set that are _not_ in the second set."
      ]
    },
    {
      "cell_type": "code",
      "execution_count": 15,
      "id": "5b81bb56",
      "metadata": {
        "id": "5b81bb56",
        "outputId": "05a3cdbc-f887-4491-ad4b-e50c90b577ec",
        "colab": {
          "base_uri": "https://localhost:8080/"
        }
      },
      "outputs": [
        {
          "output_type": "execute_result",
          "data": {
            "text/plain": [
              "{'b'}"
            ]
          },
          "metadata": {},
          "execution_count": 15
        }
      ],
      "source": [
        "s1 - s2"
      ]
    },
    {
      "cell_type": "markdown",
      "id": "5099226c",
      "metadata": {
        "id": "5099226c"
      },
      "source": [
        "In [Chapter 12](section_dictionary_subtraction) we used dictionaries to find the words that appear in a document but not in a word list.\n",
        "We used the following function, which takes two dictionaries and returns a new dictionary that contains only the keys from the first that don't appear in the second."
      ]
    },
    {
      "cell_type": "code",
      "execution_count": 16,
      "id": "06a94266",
      "metadata": {
        "id": "06a94266"
      },
      "outputs": [],
      "source": [
        "def subtract(d1, d2):\n",
        "    res = {}\n",
        "    for key in d1:\n",
        "        if key not in d2:\n",
        "            res[key] = d1[key]\n",
        "    return res"
      ]
    },
    {
      "cell_type": "markdown",
      "id": "455c3e34",
      "metadata": {
        "id": "455c3e34"
      },
      "source": [
        "With sets, we don't have to write this function ourselves.\n",
        "If `word_counter` is a dictionary that contains the unique words in the document and `word_list` is a list of valid words, we can compute the set difference like this."
      ]
    },
    {
      "cell_type": "code",
      "execution_count": 17,
      "id": "3f303544",
      "metadata": {
        "tags": [],
        "id": "3f303544"
      },
      "outputs": [],
      "source": [
        "# this cell creates a small example so we can run the following\n",
        "# cell without loading the actual data\n",
        "\n",
        "word_counter = {'word': 1}\n",
        "word_list = ['word']"
      ]
    },
    {
      "cell_type": "code",
      "execution_count": 18,
      "id": "b200cbc2",
      "metadata": {
        "tags": [],
        "id": "b200cbc2",
        "outputId": "8a60bf7c-23e4-4266-cf73-115ae9ee5ee8",
        "colab": {
          "base_uri": "https://localhost:8080/"
        }
      },
      "outputs": [
        {
          "output_type": "execute_result",
          "data": {
            "text/plain": [
              "set()"
            ]
          },
          "metadata": {},
          "execution_count": 18
        }
      ],
      "source": [
        "set(word_counter) - set(word_list)"
      ]
    },
    {
      "cell_type": "markdown",
      "id": "91efe708",
      "metadata": {
        "id": "91efe708"
      },
      "source": [
        "The result is a set that contains the words in the document that don't appear in the word list.\n",
        "\n",
        "The relational operators work with sets.\n",
        "For example, `<=` checks whether one set is a subset of another, including the possibility that they are equal."
      ]
    },
    {
      "cell_type": "code",
      "execution_count": 19,
      "id": "15919aca",
      "metadata": {
        "id": "15919aca",
        "outputId": "a0c5d426-987c-4cba-e326-d84037208e62",
        "colab": {
          "base_uri": "https://localhost:8080/"
        }
      },
      "outputs": [
        {
          "output_type": "execute_result",
          "data": {
            "text/plain": [
              "True"
            ]
          },
          "metadata": {},
          "execution_count": 19
        }
      ],
      "source": [
        "set('ab') <= set('abc')"
      ]
    },
    {
      "cell_type": "markdown",
      "id": "74d4d824",
      "metadata": {
        "id": "74d4d824"
      },
      "source": [
        "With these operators, we can use sets to do some of the exercises in Chapter 7.\n",
        "For example, here's a version of `uses_only` that uses a loop."
      ]
    },
    {
      "cell_type": "code",
      "execution_count": 20,
      "id": "21940f25",
      "metadata": {
        "id": "21940f25"
      },
      "outputs": [],
      "source": [
        "def uses_only(word, available):\n",
        "    for letter in word:\n",
        "        if letter not in available:\n",
        "            return False\n",
        "    return True"
      ]
    },
    {
      "cell_type": "markdown",
      "id": "58c1da26",
      "metadata": {
        "id": "58c1da26"
      },
      "source": [
        "`uses_only` checks whether all letters in `word` are in `available`.\n",
        "With sets, we can rewrite it like this."
      ]
    },
    {
      "cell_type": "code",
      "execution_count": 21,
      "id": "5769968e",
      "metadata": {
        "id": "5769968e"
      },
      "outputs": [],
      "source": [
        "def uses_only(word, available):\n",
        "    return set(word) <= set(available)"
      ]
    },
    {
      "cell_type": "markdown",
      "id": "01ce8cff",
      "metadata": {
        "id": "01ce8cff"
      },
      "source": [
        "If the letters in `word` are a subset of the letters in `available`, that means that `word` uses only letters in `available`."
      ]
    },
    {
      "cell_type": "markdown",
      "id": "d7c22ef5",
      "metadata": {
        "id": "d7c22ef5"
      },
      "source": [
        "## Counters\n",
        "\n",
        "A `Counter` is like a set, except that if an element appears more than once, the `Counter` keeps track of how many times it appears.\n",
        "If you are familiar with the mathematical idea of a \"multiset\", a `Counter` is a\n",
        "natural way to represent a multiset.\n",
        "\n",
        "The `Counter` class is defined in a module called `collections`, so you have to import it.\n",
        "Then you can use the class object as a function and pass as an argument a string, list, or any other kind of sequence."
      ]
    },
    {
      "cell_type": "code",
      "execution_count": 22,
      "id": "1baff39a",
      "metadata": {
        "id": "1baff39a",
        "outputId": "e61dbf96-af7f-4955-82a5-35c03dfbc74a",
        "colab": {
          "base_uri": "https://localhost:8080/"
        }
      },
      "outputs": [
        {
          "output_type": "execute_result",
          "data": {
            "text/plain": [
              "Counter({'b': 1, 'a': 3, 'n': 2})"
            ]
          },
          "metadata": {},
          "execution_count": 22
        }
      ],
      "source": [
        "from collections import Counter\n",
        "\n",
        "counter = Counter('banana')\n",
        "counter"
      ]
    },
    {
      "cell_type": "code",
      "execution_count": 23,
      "id": "14d5aee5",
      "metadata": {
        "id": "14d5aee5",
        "outputId": "dde1b83e-168e-4ece-bda5-82532d5eb1af",
        "colab": {
          "base_uri": "https://localhost:8080/"
        }
      },
      "outputs": [
        {
          "output_type": "execute_result",
          "data": {
            "text/plain": [
              "Counter({1: 3, 2: 2, 3: 1})"
            ]
          },
          "metadata": {},
          "execution_count": 23
        }
      ],
      "source": [
        "from collections import Counter\n",
        "\n",
        "t = (1, 1, 1, 2, 2, 3)\n",
        "counter = Counter(t)\n",
        "counter"
      ]
    },
    {
      "cell_type": "markdown",
      "id": "8da28fe5",
      "metadata": {
        "id": "8da28fe5"
      },
      "source": [
        "A `Counter` object is like a dictionary that maps from each key to the number of times it appears.\n",
        "As in dictionaries, the keys have to be hashable.\n",
        "\n",
        "Unlike dictionaries, `Counter` objects don't raise an exception if you access an\n",
        "element that doesn't appear.\n",
        "Instead, they return `0`."
      ]
    },
    {
      "cell_type": "code",
      "execution_count": 24,
      "id": "28eb9235",
      "metadata": {
        "id": "28eb9235",
        "outputId": "c3ad76fa-8b42-486f-9bda-9003f53c2e74",
        "colab": {
          "base_uri": "https://localhost:8080/"
        }
      },
      "outputs": [
        {
          "output_type": "execute_result",
          "data": {
            "text/plain": [
              "0"
            ]
          },
          "metadata": {},
          "execution_count": 24
        }
      ],
      "source": [
        "counter['d']"
      ]
    },
    {
      "cell_type": "markdown",
      "id": "9bb2b650",
      "metadata": {
        "id": "9bb2b650"
      },
      "source": [
        "We can use `Counter` objects to solve one of the exercises from Chapter 10, which asks for a function that takes two words and checks whether they are anagrams -- that is, whether the letters from one can be rearranged to spell the other.\n",
        "\n",
        "Here's a solution using `Counter` objects."
      ]
    },
    {
      "cell_type": "code",
      "execution_count": 26,
      "id": "67aadb0b",
      "metadata": {
        "id": "67aadb0b"
      },
      "outputs": [],
      "source": [
        "def is_anagram(word1, word2):\n",
        "    return Counter(word1) == Counter(word2)"
      ]
    },
    {
      "cell_type": "markdown",
      "id": "6907f368",
      "metadata": {
        "id": "6907f368"
      },
      "source": [
        "If two words are anagrams, they contain the same letters with the same counts, so their `Counter` objects are equivalent.\n",
        "\n",
        "`Counter` provides a method called `most_common` that returns a list of value-frequency pairs, sorted from most common to least."
      ]
    },
    {
      "cell_type": "code",
      "execution_count": 27,
      "id": "0c771fb9",
      "metadata": {
        "id": "0c771fb9",
        "outputId": "b256924c-9d89-4666-a0b6-2bdfa713d5f5",
        "colab": {
          "base_uri": "https://localhost:8080/"
        }
      },
      "outputs": [
        {
          "output_type": "execute_result",
          "data": {
            "text/plain": [
              "[(1, 3), (2, 2), (3, 1)]"
            ]
          },
          "metadata": {},
          "execution_count": 27
        }
      ],
      "source": [
        "counter.most_common()"
      ]
    },
    {
      "cell_type": "markdown",
      "id": "b02b7dff",
      "metadata": {
        "id": "b02b7dff"
      },
      "source": [
        "They also provide methods and operators to perform set-like operations, including addition, subtraction, union and intersection.\n",
        "For example, the `+` operator combines two `Counter` objects and creates a new `Counter` that contains the keys from both and the sums of the counts.\n",
        "\n",
        "We can test it by making a `Counter` with the letters from `'bans'` and adding it to the letters from `'banana'`."
      ]
    },
    {
      "cell_type": "code",
      "execution_count": 28,
      "id": "38a511cc",
      "metadata": {
        "id": "38a511cc",
        "outputId": "767c0091-acbc-4b9b-c594-5fcaa4e1861e",
        "colab": {
          "base_uri": "https://localhost:8080/"
        }
      },
      "outputs": [
        {
          "output_type": "execute_result",
          "data": {
            "text/plain": [
              "Counter({1: 3, 2: 2, 3: 1, 'b': 1, 'a': 1, 'n': 1, 's': 1})"
            ]
          },
          "metadata": {},
          "execution_count": 28
        }
      ],
      "source": [
        "counter2 = Counter('bans')\n",
        "counter + counter2"
      ]
    },
    {
      "cell_type": "markdown",
      "id": "5461328e",
      "metadata": {
        "id": "5461328e"
      },
      "source": [
        "You'll have a chance to explore other `Counter` operations in the exercises at the end of this chapter."
      ]
    },
    {
      "cell_type": "markdown",
      "id": "7cf47e67",
      "metadata": {
        "id": "7cf47e67"
      },
      "source": [
        "## defaultdict\n",
        "\n",
        "The `collections` module also provides `defaultdict`, which is like a dictionary except that if you access a key that doesn't exist, it generates a new value automatically.\n",
        "\n",
        "When you create a `defaultdict`, you provide a function that's used to create new values.\n",
        "A function that create objects is sometimes called a **factory**.\n",
        "The built-in functions that create lists, sets, and other types can be used as factories.\n",
        "\n",
        "For example, here's a `defaultdict` that creates a new `list` when needed."
      ]
    },
    {
      "cell_type": "code",
      "execution_count": 29,
      "id": "5303812d",
      "metadata": {
        "id": "5303812d",
        "outputId": "21c61e17-9ba7-4a9c-db2c-2947ceb09f8e",
        "colab": {
          "base_uri": "https://localhost:8080/"
        }
      },
      "outputs": [
        {
          "output_type": "execute_result",
          "data": {
            "text/plain": [
              "defaultdict(list, {})"
            ]
          },
          "metadata": {},
          "execution_count": 29
        }
      ],
      "source": [
        "from collections import defaultdict\n",
        "\n",
        "d = defaultdict(list)\n",
        "d"
      ]
    },
    {
      "cell_type": "markdown",
      "id": "9f43d537",
      "metadata": {
        "id": "9f43d537"
      },
      "source": [
        "Notice that the argument is `list`, which is a class object, not `list()`, which is a function call that creates a new list.\n",
        "The factory function doesn't get called unless we access a key that doesn't exist."
      ]
    },
    {
      "cell_type": "code",
      "execution_count": 30,
      "id": "4955b14f",
      "metadata": {
        "id": "4955b14f",
        "outputId": "20392af3-b70b-4cea-92a1-c687b6986c17",
        "colab": {
          "base_uri": "https://localhost:8080/"
        }
      },
      "outputs": [
        {
          "output_type": "execute_result",
          "data": {
            "text/plain": [
              "[]"
            ]
          },
          "metadata": {},
          "execution_count": 30
        }
      ],
      "source": [
        "t = d['new key']\n",
        "t"
      ]
    },
    {
      "cell_type": "markdown",
      "id": "01f87415",
      "metadata": {
        "id": "01f87415"
      },
      "source": [
        "The new list, which we're calling `t`, is also added to the dictionary.\n",
        "So if we modify `t`, the change appears in `d`:"
      ]
    },
    {
      "cell_type": "code",
      "execution_count": 31,
      "id": "d6a771af",
      "metadata": {
        "id": "d6a771af",
        "outputId": "712a8d28-8a8e-4146-8f58-700ea0afc741",
        "colab": {
          "base_uri": "https://localhost:8080/"
        }
      },
      "outputs": [
        {
          "output_type": "execute_result",
          "data": {
            "text/plain": [
              "['new value']"
            ]
          },
          "metadata": {},
          "execution_count": 31
        }
      ],
      "source": [
        "t.append('new value')\n",
        "d['new key']"
      ]
    },
    {
      "cell_type": "markdown",
      "id": "3e5d0151",
      "metadata": {
        "id": "3e5d0151"
      },
      "source": [
        "If you are making a dictionary of lists, you can often write simpler\n",
        "code using `defaultdict`.\n",
        "\n",
        "In one of the exercises in [Chapter 11](chapter_tuples), I made a dictionary that maps from a sorted string of letters to the list of words that can be spelled with those letters.\n",
        "For example, the string `'opst'` maps to the list `['opts', 'post', 'pots', 'spot', 'stop', 'tops']`.\n",
        "Here's the original code."
      ]
    },
    {
      "cell_type": "code",
      "execution_count": 32,
      "id": "9c4166e4",
      "metadata": {
        "id": "9c4166e4"
      },
      "outputs": [],
      "source": [
        "def all_anagrams(filename):\n",
        "    d = {}\n",
        "    for line in open(filename):\n",
        "        word = line.strip().lower()\n",
        "        t = signature(word)\n",
        "        if t not in d:\n",
        "            d[t] = [word]\n",
        "        else:\n",
        "            d[t].append(word)\n",
        "    return d"
      ]
    },
    {
      "cell_type": "markdown",
      "id": "8e9a0a2b",
      "metadata": {
        "id": "8e9a0a2b"
      },
      "source": [
        "And here's a simpler version using a `defaultdict`."
      ]
    },
    {
      "cell_type": "code",
      "execution_count": 34,
      "id": "e908188e",
      "metadata": {
        "id": "e908188e"
      },
      "outputs": [],
      "source": [
        "def all_anagrams(filename):\n",
        "    d = defaultdict(list)\n",
        "    for line in open(filename):\n",
        "        word = line.strip().lower()\n",
        "        t = signature(word)\n",
        "        d[t].append(word)\n",
        "    return d"
      ]
    },
    {
      "cell_type": "markdown",
      "id": "cccdd46c",
      "metadata": {
        "id": "cccdd46c"
      },
      "source": [
        "In the exercises at the end of the chapter, you'll have a chance to practice using `defaultdict` objects."
      ]
    },
    {
      "cell_type": "code",
      "execution_count": 35,
      "id": "4e1e35f7",
      "metadata": {
        "id": "4e1e35f7",
        "outputId": "ac859cab-6851-4f92-ff8d-0424ddb1e4a3",
        "colab": {
          "base_uri": "https://localhost:8080/"
        }
      },
      "outputs": [
        {
          "output_type": "execute_result",
          "data": {
            "text/plain": [
              "['woods']"
            ]
          },
          "metadata": {},
          "execution_count": 35
        }
      ],
      "source": [
        "from collections import defaultdict\n",
        "\n",
        "d = defaultdict(list)\n",
        "key = ('into', 'the')\n",
        "d[key].append('woods')\n",
        "d[key]"
      ]
    },
    {
      "cell_type": "markdown",
      "id": "610359c1",
      "metadata": {
        "id": "610359c1"
      },
      "source": [
        "## Conditional expressions\n",
        "\n",
        "Conditional statements are often used to choose one of two values, like this:"
      ]
    },
    {
      "cell_type": "code",
      "execution_count": 42,
      "id": "25ff32b9",
      "metadata": {
        "tags": [],
        "id": "25ff32b9"
      },
      "outputs": [],
      "source": [
        "import math\n",
        "x = 5"
      ]
    },
    {
      "cell_type": "code",
      "execution_count": 43,
      "id": "11676b80",
      "metadata": {
        "id": "11676b80"
      },
      "outputs": [],
      "source": [
        "if x > 0:\n",
        "    y = math.log(x)\n",
        "else:\n",
        "    y = float('nan')"
      ]
    },
    {
      "cell_type": "code",
      "execution_count": 44,
      "id": "0249c4c8",
      "metadata": {
        "tags": [],
        "id": "0249c4c8",
        "outputId": "ee1309a0-19ec-4330-e8a0-ae8ca116e85d",
        "colab": {
          "base_uri": "https://localhost:8080/"
        }
      },
      "outputs": [
        {
          "output_type": "execute_result",
          "data": {
            "text/plain": [
              "1.6094379124341003"
            ]
          },
          "metadata": {},
          "execution_count": 44
        }
      ],
      "source": [
        "y"
      ]
    },
    {
      "cell_type": "markdown",
      "id": "2c5fc3dd",
      "metadata": {
        "id": "2c5fc3dd"
      },
      "source": [
        "This statement checks whether `x` is positive. If so, it computes its logarithm.\n",
        "If not, `math.log` would raise a ValueError.\n",
        "To avoid stopping the program, we generate a `NaN`, which is a special floating-point value that represents \"Not a Number\".\n",
        "\n",
        "We can write this statement more concisely using a **conditional expression**."
      ]
    },
    {
      "cell_type": "code",
      "execution_count": 45,
      "id": "803a39c4",
      "metadata": {
        "id": "803a39c4"
      },
      "outputs": [],
      "source": [
        "y = math.log(x) if x > 0 else float('nan')"
      ]
    },
    {
      "cell_type": "code",
      "execution_count": 46,
      "id": "03b1afa9",
      "metadata": {
        "tags": [],
        "id": "03b1afa9",
        "outputId": "f611e9b0-0a9e-4f05-aaf3-c40fcb470490",
        "colab": {
          "base_uri": "https://localhost:8080/"
        }
      },
      "outputs": [
        {
          "output_type": "execute_result",
          "data": {
            "text/plain": [
              "1.6094379124341003"
            ]
          },
          "metadata": {},
          "execution_count": 46
        }
      ],
      "source": [
        "y"
      ]
    },
    {
      "cell_type": "markdown",
      "id": "6a7cf27b",
      "metadata": {
        "id": "6a7cf27b"
      },
      "source": [
        "You can almost read this line like English: \"`y` gets log-`x` if `x` is greater than 0; otherwise it gets `NaN`\".\n",
        "\n",
        "Recursive functions can sometimes be written concisely using conditional expressions.\n",
        "For example, here is a version of `factorial` with a conditional _statement_."
      ]
    },
    {
      "cell_type": "code",
      "execution_count": 47,
      "id": "73d3e7e9",
      "metadata": {
        "id": "73d3e7e9"
      },
      "outputs": [],
      "source": [
        "def factorial(n):\n",
        "    if n == 0:\n",
        "        return 1\n",
        "    else:\n",
        "        return n * factorial(n-1)"
      ]
    },
    {
      "cell_type": "markdown",
      "id": "56052b5c",
      "metadata": {
        "id": "56052b5c"
      },
      "source": [
        "And here's a version with a conditional _expression_."
      ]
    },
    {
      "cell_type": "code",
      "execution_count": 48,
      "id": "d14e82df",
      "metadata": {
        "id": "d14e82df"
      },
      "outputs": [],
      "source": [
        "def factorial(n):\n",
        "    return 1 if n == 0 else n * factorial(n-1)"
      ]
    },
    {
      "cell_type": "markdown",
      "id": "d53fbc15",
      "metadata": {
        "id": "d53fbc15"
      },
      "source": [
        "Another use of conditional expressions is handling optional arguments.\n",
        "For example, here is class definition with an `__init__` method that uses a conditional statement to check a parameter with a default value."
      ]
    },
    {
      "cell_type": "code",
      "execution_count": 49,
      "id": "aa8fcfe5",
      "metadata": {
        "id": "aa8fcfe5"
      },
      "outputs": [],
      "source": [
        "class Kangaroo:\n",
        "    def __init__(self, name, contents=None):\n",
        "        self.name = name\n",
        "        if contents is None:\n",
        "            contents = []\n",
        "        self.contents = contents"
      ]
    },
    {
      "cell_type": "markdown",
      "id": "655bfc46",
      "metadata": {
        "id": "655bfc46"
      },
      "source": [
        "Here's a version that uses a conditional expression."
      ]
    },
    {
      "cell_type": "code",
      "execution_count": 50,
      "id": "fcb67453",
      "metadata": {
        "id": "fcb67453"
      },
      "outputs": [],
      "source": [
        "def __init__(self, name, contents=None):\n",
        "    self.name = name\n",
        "    self.contents = [] if contents is None else contents"
      ]
    },
    {
      "cell_type": "markdown",
      "id": "fef85229",
      "metadata": {
        "id": "fef85229"
      },
      "source": [
        "In general, you can replace a conditional statement with a conditional expression if both branches contain a single expression and no statements."
      ]
    },
    {
      "cell_type": "markdown",
      "id": "45d3b306",
      "metadata": {
        "id": "45d3b306"
      },
      "source": [
        "## List comprehensions\n",
        "\n",
        "In previous chapters, we've seen a few examples where we start with an empty list and add elements, one at a time, using the `append` method.\n",
        "For example, suppose we have a string that contains the title of a movie, and we want to capitalize all of the words."
      ]
    },
    {
      "cell_type": "code",
      "execution_count": 51,
      "id": "a1d31625",
      "metadata": {
        "id": "a1d31625"
      },
      "outputs": [],
      "source": [
        "title = 'monty python and the holy grail'"
      ]
    },
    {
      "cell_type": "markdown",
      "id": "9eeb45a6",
      "metadata": {
        "id": "9eeb45a6"
      },
      "source": [
        "We can split it into a list of strings, loop through the strings, capitalize them, and append them to a list."
      ]
    },
    {
      "cell_type": "code",
      "execution_count": 52,
      "id": "595cdbc8",
      "metadata": {
        "id": "595cdbc8",
        "outputId": "b2f67ba6-64f1-4d0d-fdf5-6c4672a6d158",
        "colab": {
          "base_uri": "https://localhost:8080/",
          "height": 34
        }
      },
      "outputs": [
        {
          "output_type": "execute_result",
          "data": {
            "text/plain": [
              "'Monty Python And The Holy Grail'"
            ],
            "application/vnd.google.colaboratory.intrinsic+json": {
              "type": "string"
            }
          },
          "metadata": {},
          "execution_count": 52
        }
      ],
      "source": [
        "t = []\n",
        "for word in title.split():\n",
        "    t.append(word.capitalize())\n",
        "\n",
        "' '.join(t)"
      ]
    },
    {
      "cell_type": "markdown",
      "id": "b96197c2",
      "metadata": {
        "id": "b96197c2"
      },
      "source": [
        "We can do the same thing more concisely using a **list comprehension**:"
      ]
    },
    {
      "cell_type": "code",
      "execution_count": 53,
      "id": "ac327d75",
      "metadata": {
        "id": "ac327d75",
        "outputId": "3b175c8d-cf6f-46eb-cb2b-6921dd989666",
        "colab": {
          "base_uri": "https://localhost:8080/",
          "height": 34
        }
      },
      "outputs": [
        {
          "output_type": "execute_result",
          "data": {
            "text/plain": [
              "'Monty Python And The Holy Grail'"
            ],
            "application/vnd.google.colaboratory.intrinsic+json": {
              "type": "string"
            }
          },
          "metadata": {},
          "execution_count": 53
        }
      ],
      "source": [
        "t = [word.capitalize() for word in title.split()]\n",
        "\n",
        "' '.join(t)"
      ]
    },
    {
      "cell_type": "markdown",
      "id": "e5b565ad",
      "metadata": {
        "id": "e5b565ad"
      },
      "source": [
        "The bracket operators indicate that we are constructing a new list.\n",
        "The expression inside the brackets specifies the elements of the list, and the `for` clause indicates what sequence we are looping through.\n",
        "\n",
        "The syntax of a list comprehension might seem strange, because the loop variable -- `word` in this example -- appears in the expression before we get to its definition.\n",
        "But you get used to it.\n",
        "\n",
        "As another example, in [Chapter 9](section_word_list) we used this loop to read words from a file and append them to a list."
      ]
    },
    {
      "cell_type": "code",
      "execution_count": 54,
      "id": "036ec803",
      "metadata": {
        "tags": [],
        "id": "036ec803",
        "outputId": "60ef5de3-33ae-4d98-c000-00238c63e4f2",
        "colab": {
          "base_uri": "https://localhost:8080/"
        }
      },
      "outputs": [
        {
          "output_type": "stream",
          "name": "stdout",
          "text": [
            "Downloaded words.txt\n"
          ]
        }
      ],
      "source": [
        "download('https://raw.githubusercontent.com/AllenDowney/ThinkPython2/master/code/words.txt');"
      ]
    },
    {
      "cell_type": "code",
      "execution_count": 55,
      "id": "1437f1f1",
      "metadata": {
        "id": "1437f1f1"
      },
      "outputs": [],
      "source": [
        "word_list = []\n",
        "\n",
        "for line in open('words.txt'):\n",
        "    word = line.strip()\n",
        "    word_list.append(word)"
      ]
    },
    {
      "cell_type": "code",
      "execution_count": 56,
      "id": "c9c2a932",
      "metadata": {
        "tags": [],
        "id": "c9c2a932",
        "outputId": "3c75b95d-5e0c-4ca4-866f-aaaa3c3a14b6",
        "colab": {
          "base_uri": "https://localhost:8080/"
        }
      },
      "outputs": [
        {
          "output_type": "execute_result",
          "data": {
            "text/plain": [
              "113783"
            ]
          },
          "metadata": {},
          "execution_count": 56
        }
      ],
      "source": [
        "len(word_list)"
      ]
    },
    {
      "cell_type": "markdown",
      "id": "2d1df49b",
      "metadata": {
        "id": "2d1df49b"
      },
      "source": [
        "Here's how we can write that as a list comprehension."
      ]
    },
    {
      "cell_type": "code",
      "execution_count": 57,
      "id": "d4f854c6",
      "metadata": {
        "id": "d4f854c6"
      },
      "outputs": [],
      "source": [
        "word_list = [line.strip() for line in open('words.txt')]"
      ]
    },
    {
      "cell_type": "code",
      "execution_count": 58,
      "id": "3d797346",
      "metadata": {
        "tags": [],
        "id": "3d797346",
        "outputId": "deffec47-c63a-430f-8c44-8c08f172a7bb",
        "colab": {
          "base_uri": "https://localhost:8080/"
        }
      },
      "outputs": [
        {
          "output_type": "execute_result",
          "data": {
            "text/plain": [
              "113783"
            ]
          },
          "metadata": {},
          "execution_count": 58
        }
      ],
      "source": [
        "len(word_list)"
      ]
    },
    {
      "cell_type": "markdown",
      "id": "92d856ba",
      "metadata": {
        "id": "92d856ba"
      },
      "source": [
        "A list comprehension can also have an `if` clause that determines which elements are included in the list.\n",
        "For example, here's a `for` loop we used in [Chapter 10](section_palindrome_list) to make a list of only the words in `word_list` that are palindromes."
      ]
    },
    {
      "cell_type": "code",
      "execution_count": 59,
      "id": "d476e43c",
      "metadata": {
        "tags": [],
        "id": "d476e43c"
      },
      "outputs": [],
      "source": [
        "def is_palindrome(word):\n",
        "    return list(reversed(word)) == list(word)"
      ]
    },
    {
      "cell_type": "code",
      "execution_count": 60,
      "id": "6b295593",
      "metadata": {
        "id": "6b295593"
      },
      "outputs": [],
      "source": [
        "palindromes = []\n",
        "\n",
        "for word in word_list:\n",
        "    if is_palindrome(word):\n",
        "        palindromes.append(word)"
      ]
    },
    {
      "cell_type": "code",
      "execution_count": 61,
      "id": "f7b1cd91",
      "metadata": {
        "tags": [],
        "id": "f7b1cd91",
        "outputId": "ec69738f-4616-461a-9e00-002065f9b2e4",
        "colab": {
          "base_uri": "https://localhost:8080/"
        }
      },
      "outputs": [
        {
          "output_type": "execute_result",
          "data": {
            "text/plain": [
              "['aa', 'aba', 'aga', 'aha', 'ala', 'alula', 'ama', 'ana', 'anna', 'ava']"
            ]
          },
          "metadata": {},
          "execution_count": 61
        }
      ],
      "source": [
        "palindromes[:10]"
      ]
    },
    {
      "cell_type": "markdown",
      "id": "151621d8",
      "metadata": {
        "id": "151621d8"
      },
      "source": [
        "Here's how we can do the same thing with an list comprehension."
      ]
    },
    {
      "cell_type": "code",
      "execution_count": 62,
      "id": "c356d9fb",
      "metadata": {
        "id": "c356d9fb"
      },
      "outputs": [],
      "source": [
        "palindromes = [word for word in word_list if is_palindrome(word)]"
      ]
    },
    {
      "cell_type": "code",
      "execution_count": 63,
      "id": "52e32b33",
      "metadata": {
        "tags": [],
        "id": "52e32b33",
        "outputId": "da73b2d6-7e8a-451b-8af9-9272f126be4f",
        "colab": {
          "base_uri": "https://localhost:8080/"
        }
      },
      "outputs": [
        {
          "output_type": "execute_result",
          "data": {
            "text/plain": [
              "['aa', 'aba', 'aga', 'aha', 'ala', 'alula', 'ama', 'ana', 'anna', 'ava']"
            ]
          },
          "metadata": {},
          "execution_count": 63
        }
      ],
      "source": [
        "palindromes[:10]"
      ]
    },
    {
      "cell_type": "markdown",
      "id": "5fc4eab1",
      "metadata": {
        "id": "5fc4eab1"
      },
      "source": [
        "When a list comprehension is used as an argument to a function, we can often omit the brackets.\n",
        "For example, suppose we want to add up $1 / 2^n$ for values of $n$ from 0 to 9.\n",
        "We can use a list comprehension like this."
      ]
    },
    {
      "cell_type": "code",
      "execution_count": 64,
      "id": "dcf239d7",
      "metadata": {
        "id": "dcf239d7",
        "outputId": "c2a83a55-c3ba-4349-d568-7d87339c03f1",
        "colab": {
          "base_uri": "https://localhost:8080/"
        }
      },
      "outputs": [
        {
          "output_type": "execute_result",
          "data": {
            "text/plain": [
              "1.998046875"
            ]
          },
          "metadata": {},
          "execution_count": 64
        }
      ],
      "source": [
        "sum([1/2**n for n in range(10)])"
      ]
    },
    {
      "cell_type": "markdown",
      "id": "2ee312e0",
      "metadata": {
        "id": "2ee312e0"
      },
      "source": [
        "Or we can leave out the brackets like this."
      ]
    },
    {
      "cell_type": "code",
      "execution_count": 65,
      "id": "b9bdec8d",
      "metadata": {
        "id": "b9bdec8d",
        "outputId": "b4ecbc16-f861-4451-c507-6069c89e0226",
        "colab": {
          "base_uri": "https://localhost:8080/"
        }
      },
      "outputs": [
        {
          "output_type": "execute_result",
          "data": {
            "text/plain": [
              "1.998046875"
            ]
          },
          "metadata": {},
          "execution_count": 65
        }
      ],
      "source": [
        "sum(1/2**n for n in range(10))"
      ]
    },
    {
      "cell_type": "markdown",
      "id": "3d56d584",
      "metadata": {
        "id": "3d56d584"
      },
      "source": [
        "In this example, the argument is technically a **generator expression**, not a list comprehension, and it never actually makes a list.\n",
        "But other than that, the behavior is the same.\n",
        "\n",
        "List comprehensions and generator expressions are concise and easy to read, at least for simple expressions.\n",
        "And they are usually faster than the equivalent for loops, sometimes much faster.\n",
        "So if you are mad at me for not mentioning them earlier, I understand.\n",
        "\n",
        "But, in my defense, list comprehensions are harder to debug because you can't put a print statement inside the loop.\n",
        "I suggest you use them only if the computation is simple enough that you are likely to get it\n",
        "right the first time.\n",
        "Or consider writing and debugging a `for` loop and then converting it to a list comprehension."
      ]
    },
    {
      "cell_type": "markdown",
      "id": "f9fac860",
      "metadata": {
        "id": "f9fac860"
      },
      "source": [
        "## `any` and `all`\n",
        "\n",
        "Python provides a built-in function, `any`, that takes a sequence of boolean values and returns `True` if any of the values are `True`."
      ]
    },
    {
      "cell_type": "code",
      "execution_count": 66,
      "id": "81a15164",
      "metadata": {
        "id": "81a15164",
        "outputId": "efc1b81a-7285-4eca-e09a-7291c2b4e8e2",
        "colab": {
          "base_uri": "https://localhost:8080/"
        }
      },
      "outputs": [
        {
          "output_type": "execute_result",
          "data": {
            "text/plain": [
              "True"
            ]
          },
          "metadata": {},
          "execution_count": 66
        }
      ],
      "source": [
        "any([False, False, True])"
      ]
    },
    {
      "cell_type": "markdown",
      "id": "43217186",
      "metadata": {
        "id": "43217186"
      },
      "source": [
        "`any` is often used with generator expressions."
      ]
    },
    {
      "cell_type": "code",
      "execution_count": 67,
      "id": "7756c9ea",
      "metadata": {
        "id": "7756c9ea",
        "outputId": "cd01ee15-07ea-4cab-dfcd-1d32591cf6a1",
        "colab": {
          "base_uri": "https://localhost:8080/"
        }
      },
      "outputs": [
        {
          "output_type": "execute_result",
          "data": {
            "text/plain": [
              "True"
            ]
          },
          "metadata": {},
          "execution_count": 67
        }
      ],
      "source": [
        "any(letter == 't' for letter in 'monty')"
      ]
    },
    {
      "cell_type": "markdown",
      "id": "22395487",
      "metadata": {
        "id": "22395487"
      },
      "source": [
        "That example isn't very useful because it does the same thing as the `in` operator.\n",
        "But we could use `any` to write concise solutions to some of the exercises in [Chapter 7](chapter_search). For example, we can write `uses_none` like this."
      ]
    },
    {
      "cell_type": "code",
      "execution_count": 68,
      "id": "70133073",
      "metadata": {
        "id": "70133073"
      },
      "outputs": [],
      "source": [
        "def uses_none(word, forbidden):\n",
        "    \"\"\"Checks whether a word avoids forbidden letters.\"\"\"\n",
        "    return not any(letter in forbidden for letter in word)"
      ]
    },
    {
      "cell_type": "code",
      "execution_count": 69,
      "id": "aec0523b",
      "metadata": {
        "tags": [],
        "id": "aec0523b",
        "outputId": "d24a5166-02a8-45f4-d8f2-696de850e3b2",
        "colab": {
          "base_uri": "https://localhost:8080/"
        }
      },
      "outputs": [
        {
          "output_type": "execute_result",
          "data": {
            "text/plain": [
              "True"
            ]
          },
          "metadata": {},
          "execution_count": 69
        }
      ],
      "source": [
        "uses_none('banana', 'xyz')"
      ]
    },
    {
      "cell_type": "code",
      "execution_count": 70,
      "id": "863252da",
      "metadata": {
        "tags": [],
        "id": "863252da",
        "outputId": "6690de33-e93e-49a2-836e-ea33ce775ad1",
        "colab": {
          "base_uri": "https://localhost:8080/"
        }
      },
      "outputs": [
        {
          "output_type": "execute_result",
          "data": {
            "text/plain": [
              "False"
            ]
          },
          "metadata": {},
          "execution_count": 70
        }
      ],
      "source": [
        "uses_none('apple', 'efg')"
      ]
    },
    {
      "cell_type": "markdown",
      "id": "fbefe3c1",
      "metadata": {
        "id": "fbefe3c1"
      },
      "source": [
        "This function loops through the letters in `word` and checks whether any of them are in `forbidden`.\n",
        "Using `any` with a generator expression is efficient because it stops immediately if it finds a `True` value, so it doesn't have to loop through the whole sequence.\n",
        "\n",
        "Python provides another built-in function, `all`, that returns `True` if every element of the sequence is `True`.\n",
        "We can use it to write a concise version of `uses_all`."
      ]
    },
    {
      "cell_type": "code",
      "execution_count": 71,
      "id": "4b4046aa",
      "metadata": {
        "id": "4b4046aa"
      },
      "outputs": [],
      "source": [
        "def uses_all(word, required):\n",
        "    \"\"\"Check whether a word uses all required letters.\"\"\"\n",
        "    return all(letter in word for letter in required)"
      ]
    },
    {
      "cell_type": "code",
      "execution_count": 72,
      "id": "5c6addfb",
      "metadata": {
        "tags": [],
        "id": "5c6addfb",
        "outputId": "e982b60a-e88d-4d32-94c6-3c311b7c8f97",
        "colab": {
          "base_uri": "https://localhost:8080/"
        }
      },
      "outputs": [
        {
          "output_type": "execute_result",
          "data": {
            "text/plain": [
              "True"
            ]
          },
          "metadata": {},
          "execution_count": 72
        }
      ],
      "source": [
        "uses_all('banana', 'ban')"
      ]
    },
    {
      "cell_type": "code",
      "execution_count": 73,
      "id": "54df18a1",
      "metadata": {
        "tags": [],
        "id": "54df18a1",
        "outputId": "3718d707-82ff-4fd1-f033-2e4ef32b4d12",
        "colab": {
          "base_uri": "https://localhost:8080/"
        }
      },
      "outputs": [
        {
          "output_type": "execute_result",
          "data": {
            "text/plain": [
              "False"
            ]
          },
          "metadata": {},
          "execution_count": 73
        }
      ],
      "source": [
        "uses_all('apple', 'api')"
      ]
    },
    {
      "cell_type": "markdown",
      "id": "8d9f7364",
      "metadata": {
        "id": "8d9f7364"
      },
      "source": [
        "Expressions using `any` and `all` can be concise, efficient, and easy to read."
      ]
    },
    {
      "cell_type": "markdown",
      "id": "911857a3",
      "metadata": {
        "id": "911857a3"
      },
      "source": [
        "## Named tuples\n",
        "\n",
        "The `collections` module provides a function called `namedtuple` that can be used to create simple classes.\n",
        "For example, the `Point` object in [Chapter 16](section_create_point) has only two attributes, `x` and `y`.\n",
        "Here's how we defined it."
      ]
    },
    {
      "cell_type": "code",
      "execution_count": 74,
      "id": "3550c5a4",
      "metadata": {
        "id": "3550c5a4"
      },
      "outputs": [],
      "source": [
        "class Point:\n",
        "    \"\"\"Represents a point in 2-D space.\"\"\"\n",
        "\n",
        "    def __init__(self, x, y):\n",
        "        self.x = x\n",
        "        self.y = y\n",
        "\n",
        "    def __str__(self):\n",
        "        return f'({self.x}, {self.y})'"
      ]
    },
    {
      "cell_type": "markdown",
      "id": "36f08927",
      "metadata": {
        "id": "36f08927"
      },
      "source": [
        "That's a lot of code to convey a small amount of information.\n",
        "`namedtuple` provides a more concise way to define classes like this."
      ]
    },
    {
      "cell_type": "code",
      "execution_count": 75,
      "id": "4852da0c",
      "metadata": {
        "id": "4852da0c"
      },
      "outputs": [],
      "source": [
        "from collections import namedtuple\n",
        "\n",
        "Point = namedtuple('Point', ['x', 'y'])"
      ]
    },
    {
      "cell_type": "markdown",
      "id": "942a0877",
      "metadata": {
        "id": "942a0877"
      },
      "source": [
        "The first argument is the name of the class you want to create. The\n",
        "second is a list of the attributes `Point` objects should have.\n",
        "The result is a class object, which is why it is assigned to a capitalized variable name.\n",
        "\n",
        "A class created with `namedtuple` provides an `__init__` method that assigns values to the attributes and a `__str__` that displays the object in a readable form.\n",
        "So we can create and display a `Point` object like this."
      ]
    },
    {
      "cell_type": "code",
      "execution_count": 76,
      "id": "8acb172d",
      "metadata": {
        "id": "8acb172d",
        "outputId": "16286737-2d98-4c1e-9db2-332a5bb7acdd",
        "colab": {
          "base_uri": "https://localhost:8080/"
        }
      },
      "outputs": [
        {
          "output_type": "execute_result",
          "data": {
            "text/plain": [
              "Point(x=1, y=2)"
            ]
          },
          "metadata": {},
          "execution_count": 76
        }
      ],
      "source": [
        "p = Point(1, 2)\n",
        "p"
      ]
    },
    {
      "cell_type": "markdown",
      "id": "b42ee9a2",
      "metadata": {
        "id": "b42ee9a2"
      },
      "source": [
        "`Point` also provides an `__eq__` method that checks whether two `Point` objects are equivalent -- that is, whether their attributes are the same."
      ]
    },
    {
      "cell_type": "code",
      "execution_count": 77,
      "id": "494b78ac",
      "metadata": {
        "id": "494b78ac",
        "outputId": "235d3448-32c4-4e34-e340-576ff589d669",
        "colab": {
          "base_uri": "https://localhost:8080/"
        }
      },
      "outputs": [
        {
          "output_type": "execute_result",
          "data": {
            "text/plain": [
              "True"
            ]
          },
          "metadata": {},
          "execution_count": 77
        }
      ],
      "source": [
        "p == Point(1, 2)"
      ]
    },
    {
      "cell_type": "markdown",
      "id": "9bcf275a",
      "metadata": {
        "id": "9bcf275a"
      },
      "source": [
        "You can access the elements of a named tuple by name or by index."
      ]
    },
    {
      "cell_type": "code",
      "execution_count": 78,
      "id": "f59e85f4",
      "metadata": {
        "id": "f59e85f4",
        "outputId": "5962f893-b4ce-4ce9-85ab-5b540c5e99e5",
        "colab": {
          "base_uri": "https://localhost:8080/"
        }
      },
      "outputs": [
        {
          "output_type": "execute_result",
          "data": {
            "text/plain": [
              "(1, 2)"
            ]
          },
          "metadata": {},
          "execution_count": 78
        }
      ],
      "source": [
        "p.x, p.y"
      ]
    },
    {
      "cell_type": "code",
      "execution_count": 79,
      "id": "742795a9",
      "metadata": {
        "id": "742795a9",
        "outputId": "ababc7f4-1298-4a89-b164-3734032eb5f1",
        "colab": {
          "base_uri": "https://localhost:8080/"
        }
      },
      "outputs": [
        {
          "output_type": "execute_result",
          "data": {
            "text/plain": [
              "(1, 2)"
            ]
          },
          "metadata": {},
          "execution_count": 79
        }
      ],
      "source": [
        "p[0], p[1]"
      ]
    },
    {
      "cell_type": "markdown",
      "id": "0768ff41",
      "metadata": {
        "id": "0768ff41"
      },
      "source": [
        "You can also treat a named tuple as a tuple, as in this assignment."
      ]
    },
    {
      "cell_type": "code",
      "execution_count": 80,
      "id": "df42d98a",
      "metadata": {
        "id": "df42d98a",
        "outputId": "b9128394-53cf-45b4-d419-713518066ad6",
        "colab": {
          "base_uri": "https://localhost:8080/"
        }
      },
      "outputs": [
        {
          "output_type": "execute_result",
          "data": {
            "text/plain": [
              "(1, 2)"
            ]
          },
          "metadata": {},
          "execution_count": 80
        }
      ],
      "source": [
        "x, y = p\n",
        "x, y"
      ]
    },
    {
      "cell_type": "markdown",
      "id": "964aa3bd",
      "metadata": {
        "id": "964aa3bd"
      },
      "source": [
        "But `namedtuple` objects are immutable.\n",
        "After the attributes are initialized, they can't be changed."
      ]
    },
    {
      "cell_type": "code",
      "execution_count": 81,
      "id": "e61693ba",
      "metadata": {
        "tags": [],
        "id": "e61693ba",
        "outputId": "95816c12-c9cb-414f-847a-604d332bc5b5",
        "colab": {
          "base_uri": "https://localhost:8080/",
          "height": 54
        }
      },
      "outputs": [
        {
          "output_type": "error",
          "ename": "TypeError",
          "evalue": "'Point' object does not support item assignment",
          "traceback": [
            "\u001b[0;31mTypeError\u001b[0m\u001b[0;31m:\u001b[0m 'Point' object does not support item assignment\n"
          ]
        }
      ],
      "source": [
        "%%expect TypeError\n",
        "\n",
        "p[0] = 3"
      ]
    },
    {
      "cell_type": "code",
      "execution_count": 82,
      "id": "871dafae",
      "metadata": {
        "tags": [],
        "id": "871dafae",
        "outputId": "ca316749-6c61-4828-fcd2-d9605f8f236d",
        "colab": {
          "base_uri": "https://localhost:8080/",
          "height": 54
        }
      },
      "outputs": [
        {
          "output_type": "error",
          "ename": "AttributeError",
          "evalue": "can't set attribute",
          "traceback": [
            "\u001b[0;31mAttributeError\u001b[0m\u001b[0;31m:\u001b[0m can't set attribute\n"
          ]
        }
      ],
      "source": [
        "%%expect AttributeError\n",
        "\n",
        "p.x = 3"
      ]
    },
    {
      "cell_type": "markdown",
      "id": "f2db7783",
      "metadata": {
        "id": "f2db7783"
      },
      "source": [
        "`namedtuple` provides a quick way to define simple classes.\n",
        "The drawback is that simple classes don't always stay simple.\n",
        "You might decide later that you want to add methods to a named tuple.\n",
        "In that case, you can define a new class that inherits from the named tuple."
      ]
    },
    {
      "cell_type": "code",
      "execution_count": 83,
      "id": "586d8c51",
      "metadata": {
        "id": "586d8c51"
      },
      "outputs": [],
      "source": [
        "class Pointier(Point):\n",
        "    \"\"\"This class inherits from Point\"\"\""
      ]
    },
    {
      "cell_type": "markdown",
      "id": "805475ce",
      "metadata": {
        "id": "805475ce"
      },
      "source": [
        "Or at that point you could switch to a conventional class definition."
      ]
    },
    {
      "cell_type": "markdown",
      "id": "4f3713a0",
      "metadata": {
        "id": "4f3713a0"
      },
      "source": [
        "## Packing keyword arguments\n",
        "\n",
        "In [Chapter 11](section_argument_pack), we wrote a function that packs its arguments into a tuple."
      ]
    },
    {
      "cell_type": "code",
      "execution_count": 84,
      "id": "6de26a32",
      "metadata": {
        "id": "6de26a32"
      },
      "outputs": [],
      "source": [
        "def mean(*args):\n",
        "    return sum(args) / len(args)"
      ]
    },
    {
      "cell_type": "markdown",
      "id": "71e3b049",
      "metadata": {
        "id": "71e3b049"
      },
      "source": [
        "You can call this function with any number of arguments."
      ]
    },
    {
      "cell_type": "code",
      "execution_count": 85,
      "id": "ecb6a9fa",
      "metadata": {
        "id": "ecb6a9fa",
        "outputId": "96d36156-0528-486f-ce14-8a9c1334a892",
        "colab": {
          "base_uri": "https://localhost:8080/"
        }
      },
      "outputs": [
        {
          "output_type": "execute_result",
          "data": {
            "text/plain": [
              "2.0"
            ]
          },
          "metadata": {},
          "execution_count": 85
        }
      ],
      "source": [
        "mean(1, 2, 3)"
      ]
    },
    {
      "cell_type": "markdown",
      "id": "486a690f",
      "metadata": {
        "id": "486a690f"
      },
      "source": [
        "But the `*` operator doesn't pack keyword arguments.\n",
        "So calling this function with a keyword argument causes an error."
      ]
    },
    {
      "cell_type": "code",
      "execution_count": 86,
      "id": "5871229d",
      "metadata": {
        "tags": [],
        "id": "5871229d",
        "outputId": "ffb6ff00-8069-4c1b-c625-17285af23cd5",
        "colab": {
          "base_uri": "https://localhost:8080/",
          "height": 54
        }
      },
      "outputs": [
        {
          "output_type": "error",
          "ename": "TypeError",
          "evalue": "mean() got an unexpected keyword argument 'start'",
          "traceback": [
            "\u001b[0;31mTypeError\u001b[0m\u001b[0;31m:\u001b[0m mean() got an unexpected keyword argument 'start'\n"
          ]
        }
      ],
      "source": [
        "%%expect TypeError\n",
        "\n",
        "mean(1, 2, start=3)"
      ]
    },
    {
      "cell_type": "markdown",
      "id": "eb7f9281",
      "metadata": {
        "id": "eb7f9281"
      },
      "source": [
        "To pack keyword arguments, we can use the `**` operator:"
      ]
    },
    {
      "cell_type": "code",
      "execution_count": 88,
      "id": "b274db6a",
      "metadata": {
        "id": "b274db6a"
      },
      "outputs": [],
      "source": [
        "def mean(*args, **kwargs):\n",
        "    print(kwargs)\n",
        "    return sum(args) / len(args)"
      ]
    },
    {
      "cell_type": "markdown",
      "id": "067bf7c4",
      "metadata": {
        "id": "067bf7c4"
      },
      "source": [
        "The keyword-packing parameter can have any name, but `kwargs` is a common choice.\n",
        "The result is a dictionary that maps from keywords to values."
      ]
    },
    {
      "cell_type": "code",
      "execution_count": 89,
      "id": "3a1b131c",
      "metadata": {
        "id": "3a1b131c",
        "outputId": "5f7c643a-81b0-4eda-f7e7-9ca15d685fbc",
        "colab": {
          "base_uri": "https://localhost:8080/"
        }
      },
      "outputs": [
        {
          "output_type": "stream",
          "name": "stdout",
          "text": [
            "{'start': 3}\n"
          ]
        },
        {
          "output_type": "execute_result",
          "data": {
            "text/plain": [
              "1.5"
            ]
          },
          "metadata": {},
          "execution_count": 89
        }
      ],
      "source": [
        "mean(1, 2, start=3)"
      ]
    },
    {
      "cell_type": "markdown",
      "id": "07be77f3",
      "metadata": {
        "id": "07be77f3"
      },
      "source": [
        "In this example, the value of `kwargs` is printed, but otherwise is has no effect.\n",
        "\n",
        "But the `**` operator can also be used in an argument list to unpack a dictionary.\n",
        "For example, here's a version of `mean` that packs any keyword arguments it gets and then unpacks them as keyword arguments for `sum`."
      ]
    },
    {
      "cell_type": "code",
      "execution_count": 90,
      "id": "a0305500",
      "metadata": {
        "id": "a0305500"
      },
      "outputs": [],
      "source": [
        "def mean(*args, **kwargs):\n",
        "    return sum(args, **kwargs) / len(args)"
      ]
    },
    {
      "cell_type": "markdown",
      "id": "ba00858c",
      "metadata": {
        "id": "ba00858c"
      },
      "source": [
        "Now if we call `mean` with `start` as a keyword argument, it gets passed along to sum, which uses it as the starting point of the summation.\n",
        "In the following example `start=3` adds `3` to the sum before computing the mean, so the sum is `6` and the result is `3`."
      ]
    },
    {
      "cell_type": "code",
      "execution_count": 91,
      "id": "457d5610",
      "metadata": {
        "id": "457d5610",
        "outputId": "604dcaf0-e227-47a7-e696-11438f3ec5d1",
        "colab": {
          "base_uri": "https://localhost:8080/"
        }
      },
      "outputs": [
        {
          "output_type": "execute_result",
          "data": {
            "text/plain": [
              "3.0"
            ]
          },
          "metadata": {},
          "execution_count": 91
        }
      ],
      "source": [
        "mean(1, 2, start=3)"
      ]
    },
    {
      "cell_type": "markdown",
      "id": "949a2ca3",
      "metadata": {
        "id": "949a2ca3"
      },
      "source": [
        "As another example, if we have a dictionary with keys `x` and `y`, we can use it with the unpack operator to create a `Point` object."
      ]
    },
    {
      "cell_type": "code",
      "execution_count": 92,
      "id": "020c1243",
      "metadata": {
        "id": "020c1243",
        "outputId": "a7b4ab83-704d-4bce-bac5-d4e9e952992f",
        "colab": {
          "base_uri": "https://localhost:8080/"
        }
      },
      "outputs": [
        {
          "output_type": "execute_result",
          "data": {
            "text/plain": [
              "Point(x=1, y=2)"
            ]
          },
          "metadata": {},
          "execution_count": 92
        }
      ],
      "source": [
        "d = dict(x=1, y=2)\n",
        "Point(**d)"
      ]
    },
    {
      "cell_type": "markdown",
      "id": "8aaf128a",
      "metadata": {
        "id": "8aaf128a"
      },
      "source": [
        "Without the unpack operator, `d` is treated as a single positional argument, so it gets assigned to `x`, and we get a `TypeError` because there's no second argument to assign to `y`."
      ]
    },
    {
      "cell_type": "code",
      "execution_count": 93,
      "id": "ba91298b",
      "metadata": {
        "tags": [],
        "id": "ba91298b",
        "outputId": "ca0b1cb2-6912-418c-da65-df8b6d7d7d30",
        "colab": {
          "base_uri": "https://localhost:8080/",
          "height": 54
        }
      },
      "outputs": [
        {
          "output_type": "error",
          "ename": "TypeError",
          "evalue": "Point.__new__() missing 1 required positional argument: 'y'",
          "traceback": [
            "\u001b[0;31mTypeError\u001b[0m\u001b[0;31m:\u001b[0m Point.__new__() missing 1 required positional argument: 'y'\n"
          ]
        }
      ],
      "source": [
        "%%expect TypeError\n",
        "\n",
        "d = dict(x=1, y=2)\n",
        "Point(d)"
      ]
    },
    {
      "cell_type": "markdown",
      "id": "e8acb958",
      "metadata": {
        "id": "e8acb958"
      },
      "source": [
        "When you are working with functions that have a large number of keyword arguments, it is often useful to create and pass around dictionaries that specify frequently used options."
      ]
    },
    {
      "cell_type": "code",
      "execution_count": 94,
      "id": "1b36b5ed",
      "metadata": {
        "id": "1b36b5ed",
        "outputId": "9c08487b-1e66-4b82-f33b-4f7dacc41d2f",
        "colab": {
          "base_uri": "https://localhost:8080/"
        }
      },
      "outputs": [
        {
          "output_type": "stream",
          "name": "stdout",
          "text": [
            "{'a': 1, 'b': 2}\n"
          ]
        }
      ],
      "source": [
        "def pack_and_print(**kwargs):\n",
        "    print(kwargs)\n",
        "\n",
        "pack_and_print(a=1, b=2)"
      ]
    },
    {
      "cell_type": "markdown",
      "id": "e046e382",
      "metadata": {
        "id": "e046e382"
      },
      "source": [
        "## Debugging\n",
        "\n",
        "In previous chapters, we used `doctest` to test functions.\n",
        "For example, here's a function called `add` that takes two numbers and returns their sum.\n",
        "In includes a doctest that checks whether `2 + 2` is `4`."
      ]
    },
    {
      "cell_type": "code",
      "execution_count": 95,
      "id": "e1366e43",
      "metadata": {
        "id": "e1366e43"
      },
      "outputs": [],
      "source": [
        "def add(a, b):\n",
        "    '''Add two numbers.\n",
        "\n",
        "    >>> add(2, 2)\n",
        "    4\n",
        "    '''\n",
        "    return a + b"
      ]
    },
    {
      "cell_type": "markdown",
      "id": "a5e332d3",
      "metadata": {
        "id": "a5e332d3"
      },
      "source": [
        "This function takes a function object and runs its doctests."
      ]
    },
    {
      "cell_type": "code",
      "execution_count": 96,
      "id": "13802dc4",
      "metadata": {
        "id": "13802dc4"
      },
      "outputs": [],
      "source": [
        "from doctest import run_docstring_examples\n",
        "\n",
        "def run_doctests(func):\n",
        "    run_docstring_examples(func, globals(), name=func.__name__)"
      ]
    },
    {
      "cell_type": "markdown",
      "id": "2d752a40",
      "metadata": {
        "id": "2d752a40"
      },
      "source": [
        "So we can test `add` like this."
      ]
    },
    {
      "cell_type": "code",
      "execution_count": 98,
      "id": "2136083a",
      "metadata": {
        "id": "2136083a"
      },
      "outputs": [],
      "source": [
        "run_doctests(add)"
      ]
    },
    {
      "cell_type": "markdown",
      "id": "77d36e9b",
      "metadata": {
        "id": "77d36e9b"
      },
      "source": [
        "There's no output, which means all tests passed.\n",
        "\n",
        "Python provides another tool for running automated tests, called `unittest`.\n",
        "It is a little more complicated to use, but here's an example."
      ]
    },
    {
      "cell_type": "code",
      "execution_count": 99,
      "id": "d6bc8bae",
      "metadata": {
        "id": "d6bc8bae"
      },
      "outputs": [],
      "source": [
        "from unittest import TestCase\n",
        "\n",
        "class TestExample(TestCase):\n",
        "\n",
        "    def test_add(self):\n",
        "        result = add(2, 2)\n",
        "        self.assertEqual(result, 4)"
      ]
    },
    {
      "cell_type": "markdown",
      "id": "59b4212a",
      "metadata": {
        "id": "59b4212a"
      },
      "source": [
        "First we import `TestCase`, which is a class in the `unittest` module.\n",
        "To use it, we have to define a new class that inherits from `TestCase` and provides at least one test method.\n",
        "The name of the test method must begin with `test` and should indicate which function it tests.\n",
        "\n",
        "In this example, `test_add` tests the `add` function by calling it, saving the result, and invoking `assertEqual`, which is inherited from `TestCase`.\n",
        "`assertEqual` takes two arguments and checks whether they are equal.\n",
        "\n",
        "In order to run this test method, we have to run a function in `unittest` called `main` and provide several keyword arguments.\n",
        "The following function shows the details -- if you are curious, you can ask a virtual assistant to explain how it works."
      ]
    },
    {
      "cell_type": "code",
      "execution_count": 100,
      "id": "96587ab7",
      "metadata": {
        "id": "96587ab7"
      },
      "outputs": [],
      "source": [
        "import unittest\n",
        "\n",
        "def run_unittest():\n",
        "    unittest.main(argv=[''], verbosity=0, exit=False)"
      ]
    },
    {
      "cell_type": "markdown",
      "id": "5409ea0c",
      "metadata": {
        "id": "5409ea0c"
      },
      "source": [
        "`run_unittest` does not take `TestExample` as an argument -- instead, it searches for classes that inherit from `TestCase`.\n",
        "Then it searches for methods that begin with `test` and runs them.\n",
        "This process is called **test discovery**.\n",
        "\n",
        "Here's what happens when we call `run_unittest`."
      ]
    },
    {
      "cell_type": "code",
      "execution_count": 101,
      "id": "d3db5642",
      "metadata": {
        "id": "d3db5642",
        "outputId": "03ba09eb-740d-4d21-adc3-eca7ead32c8e",
        "colab": {
          "base_uri": "https://localhost:8080/"
        }
      },
      "outputs": [
        {
          "output_type": "stream",
          "name": "stderr",
          "text": [
            "----------------------------------------------------------------------\n",
            "Ran 1 test in 0.000s\n",
            "\n",
            "OK\n"
          ]
        }
      ],
      "source": [
        "run_unittest()"
      ]
    },
    {
      "cell_type": "markdown",
      "id": "7775304a",
      "metadata": {
        "id": "7775304a"
      },
      "source": [
        "`unittest.main` reports the number of tests it ran and the results.\n",
        "In this case `OK` indicates that the tests passed.\n",
        "\n",
        "To see what happens when a test fails, we'll add an incorrect test method to `TestExample`."
      ]
    },
    {
      "cell_type": "code",
      "execution_count": 102,
      "id": "e5320931",
      "metadata": {
        "id": "e5320931"
      },
      "outputs": [],
      "source": [
        "%%add_method_to TestExample\n",
        "\n",
        "    def test_add_broken(self):\n",
        "        result = add(2, 2)\n",
        "        self.assertEqual(result, 100)"
      ]
    },
    {
      "cell_type": "markdown",
      "id": "96810614",
      "metadata": {
        "id": "96810614"
      },
      "source": [
        "Here's what happens when we run the tests."
      ]
    },
    {
      "cell_type": "code",
      "execution_count": 103,
      "id": "c8d4fa4a",
      "metadata": {
        "id": "c8d4fa4a",
        "outputId": "04d071fd-36cb-4d61-c9bf-4840fd8cbc41",
        "colab": {
          "base_uri": "https://localhost:8080/"
        }
      },
      "outputs": [
        {
          "output_type": "stream",
          "name": "stderr",
          "text": [
            "======================================================================\n",
            "FAIL: test_add_broken (__main__.TestExample.test_add_broken)\n",
            "----------------------------------------------------------------------\n",
            "Traceback (most recent call last):\n",
            "  File \"<ipython-input-102-0c44ca9326b3>\", line 3, in test_add_broken\n",
            "    self.assertEqual(result, 100)\n",
            "AssertionError: 4 != 100\n",
            "\n",
            "----------------------------------------------------------------------\n",
            "Ran 2 tests in 0.001s\n",
            "\n",
            "FAILED (failures=1)\n"
          ]
        }
      ],
      "source": [
        "run_unittest()"
      ]
    },
    {
      "cell_type": "markdown",
      "id": "64b743cb",
      "metadata": {
        "id": "64b743cb"
      },
      "source": [
        "The report includes the test method that failed and an error message showing where.\n",
        "The summary indicates that two tests ran and one failed.\n",
        "\n",
        "In the exercises below, I'll suggest some prompts you can use to ask a virtual assistant for more information about `unittest`."
      ]
    },
    {
      "cell_type": "markdown",
      "id": "7d0fb256",
      "metadata": {
        "id": "7d0fb256"
      },
      "source": [
        "## Glossary\n",
        "\n",
        "**factory:**\n",
        " A function used to create objects, often passed as a parameter to a function.\n",
        "\n",
        "**conditional expression:**\n",
        "An expression that uses a conditional to select one of two values.\n",
        "\n",
        "**list comprehension:**\n",
        "A concise way to loop through a sequence and create a list.\n",
        "\n",
        "**generator expression:**\n",
        "Similar to a list comprehension except that it does not create a list.\n",
        "\n",
        "**test discovery:**\n",
        "A process used to find and run tests."
      ]
    },
    {
      "cell_type": "markdown",
      "id": "bc03f15d",
      "metadata": {
        "id": "bc03f15d"
      },
      "source": [
        "## Exercises"
      ]
    },
    {
      "cell_type": "code",
      "execution_count": 104,
      "id": "5029c76d",
      "metadata": {
        "tags": [],
        "id": "5029c76d",
        "outputId": "f79b5470-f1ea-45ed-cef1-02b33410460b",
        "colab": {
          "base_uri": "https://localhost:8080/"
        }
      },
      "outputs": [
        {
          "output_type": "stream",
          "name": "stdout",
          "text": [
            "Exception reporting mode: Verbose\n"
          ]
        }
      ],
      "source": [
        "# This cell tells Jupyter to provide detailed debugging information\n",
        "# when a runtime error occurs. Run it before working on the exercises.\n",
        "\n",
        "%xmode Verbose"
      ]
    },
    {
      "cell_type": "markdown",
      "id": "fe10415e",
      "metadata": {
        "id": "fe10415e"
      },
      "source": [
        "### Ask a virtual assistant\n",
        "\n",
        "There are a few topics in this chapter you might want to learn about.\n",
        "\n",
        "* \"What are the methods and operators of Python's set class?\"\n",
        "\n",
        "* \"What are the methods and operators of Python's Counter class?\"\n",
        "\n",
        "* \"What is the difference between a Python list comprehension and a generator expression?\"\n",
        "\n",
        "* \"When should I use Python's `namedtuple` rather than define a new class?\"\n",
        "\n",
        "* \"What are some uses of packing and unpacking keyword arguments?\"\n",
        "\n",
        "* \"How does `unittest` do test discovery?\"\n",
        "\n",
        "* \"Along with `assertEqual`, what are the most commonly used methods in `unittest.TestCase`?\"\n",
        "\n",
        "* \"What are the pros and cons of `doctest` and `unittest`?\"\n",
        "\n",
        "For the following exercises, consider asking a virtual assistant for help, but as always, remember to test the results."
      ]
    },
    {
      "cell_type": "markdown",
      "id": "c61ecde2",
      "metadata": {
        "id": "c61ecde2"
      },
      "source": [
        "### Exercise\n",
        "\n",
        "One of the exercises in Chapter 7 asks for a function called `uses_none` that takes a word and a string of forbidden letters, and returns `True` if the word does not use any of the letters. Here's a solution."
      ]
    },
    {
      "cell_type": "code",
      "execution_count": 105,
      "id": "f75b48e0",
      "metadata": {
        "id": "f75b48e0"
      },
      "outputs": [],
      "source": [
        "def uses_none(word, forbidden):\n",
        "    for letter in word.lower():\n",
        "        if letter in forbidden.lower():\n",
        "            return False\n",
        "    return True"
      ]
    },
    {
      "cell_type": "markdown",
      "id": "b558b8b3",
      "metadata": {
        "id": "b558b8b3"
      },
      "source": [
        "Write a version of this function that uses `set` operations instead of a `for` loop.\n",
        "Hint: ask a VA, \"How do I compute the intersection of Python sets?\""
      ]
    },
    {
      "cell_type": "markdown",
      "id": "e97dfead",
      "metadata": {
        "tags": [],
        "id": "e97dfead"
      },
      "source": [
        "You can use this outline to get started."
      ]
    },
    {
      "cell_type": "code",
      "execution_count": 106,
      "id": "2024d4c6",
      "metadata": {
        "tags": [],
        "id": "2024d4c6"
      },
      "outputs": [],
      "source": [
        "def uses_none(word, forbidden):\n",
        "    \"\"\"Checks whether a word avoid forbidden letters.\n",
        "\n",
        "    >>> uses_none('banana', 'xyz')\n",
        "    True\n",
        "    >>> uses_none('apple', 'efg')\n",
        "    False\n",
        "    >>> uses_none('', 'abc')\n",
        "    True\n",
        "    \"\"\"\n",
        "    return False"
      ]
    },
    {
      "cell_type": "code",
      "execution_count": 107,
      "id": "46a13618",
      "metadata": {
        "id": "46a13618"
      },
      "outputs": [],
      "source": [
        "# Solution goes here\n",
        "\n",
        "def uses_none(word, forbidden):\n",
        "    \"\"\"Checks whether a word avoid forbidden letters.\n",
        "\n",
        "    >>> uses_none('banana', 'xyz')\n",
        "    True\n",
        "    >>> uses_none('apple', 'efg')\n",
        "    False\n",
        "    >>> uses_none('', 'abc')\n",
        "    True\n",
        "    \"\"\"\n",
        "\n",
        "    w_set = set(word.lower())\n",
        "    f_set = set(forbidden.lower())\n",
        "    return len(w_set & f_set) ==                      # s & t è l'intersezione dei due insiemi"
      ]
    },
    {
      "cell_type": "code",
      "execution_count": 108,
      "id": "160a29b3",
      "metadata": {
        "tags": [],
        "id": "160a29b3"
      },
      "outputs": [],
      "source": [
        "from doctest import run_docstring_examples\n",
        "\n",
        "def run_doctests(func):\n",
        "    run_docstring_examples(func, globals(), name=func.__name__)"
      ]
    },
    {
      "cell_type": "code",
      "execution_count": 109,
      "id": "8db988e6",
      "metadata": {
        "tags": [],
        "id": "8db988e6"
      },
      "outputs": [],
      "source": [
        "run_doctests(uses_none)"
      ]
    },
    {
      "cell_type": "markdown",
      "id": "d2d670cf",
      "metadata": {
        "id": "d2d670cf"
      },
      "source": [
        "### Exercise\n",
        "\n",
        "Scrabble is a board game where the objective is to use letter tiles to spell words.\n",
        "For example, if we have tiles with the letters `T`, `A`, `B`, `L`, `E`, we can spell `BELT` and `LATE` using a subset of the tiles -- but we can't spell `BEET` because we don't have two `E`s.\n",
        "\n",
        "Write a function that takes a string of letters and a word, and checks whether the letters can spell the word, taking into account how many times each letter appears."
      ]
    },
    {
      "cell_type": "markdown",
      "id": "091919bd",
      "metadata": {
        "tags": [],
        "id": "091919bd"
      },
      "source": [
        "You can use the following outline to get started."
      ]
    },
    {
      "cell_type": "code",
      "execution_count": 110,
      "id": "b3c2c475",
      "metadata": {
        "tags": [],
        "id": "b3c2c475"
      },
      "outputs": [],
      "source": [
        "def can_spell(letters, word):\n",
        "    \"\"\"Check whether the letters can spell the word.\n",
        "\n",
        "    >>> can_spell('table', 'belt')\n",
        "    True\n",
        "    >>> can_spell('table', 'late')\n",
        "    True\n",
        "    >>> can_spell('table', 'beet')\n",
        "    False\n",
        "    \"\"\"\n",
        "    return False"
      ]
    },
    {
      "cell_type": "code",
      "execution_count": null,
      "id": "a67768c0",
      "metadata": {
        "id": "a67768c0"
      },
      "outputs": [],
      "source": [
        "# Solution goes here\n",
        "\n",
        "def can_spell(letters, word):\n",
        "    \"\"\"Check whether the letters can spell the word.\n",
        "\n",
        "    >>> can_spell('table', 'belt')\n",
        "    True\n",
        "    >>> can_spell('table', 'late')\n",
        "    True\n",
        "    >>> can_spell('table', 'beet')\n",
        "    False\n",
        "    \"\"\"\n",
        "    return False"
      ]
    },
    {
      "cell_type": "code",
      "execution_count": null,
      "id": "7900d2ed",
      "metadata": {
        "tags": [],
        "id": "7900d2ed"
      },
      "outputs": [],
      "source": [
        "run_doctests(can_spell)"
      ]
    },
    {
      "cell_type": "markdown",
      "id": "de2dc099",
      "metadata": {
        "id": "de2dc099"
      },
      "source": [
        "### Exercise\n",
        "\n",
        "In one of the exercises from [Chapter 17](chapter_inheritance), my solution to `has_straightflush` uses the following method, which partitions a `PokerHand` into a list of four hands, where each hand contains cards of the same suit."
      ]
    },
    {
      "cell_type": "code",
      "execution_count": null,
      "id": "661f1635",
      "metadata": {
        "id": "661f1635"
      },
      "outputs": [],
      "source": [
        "    def partition(self):\n",
        "        \"\"\"Make a list of four hands, each containing only one suit.\"\"\"\n",
        "        hands = []\n",
        "        for i in range(4):\n",
        "            hands.append(PokerHand())\n",
        "\n",
        "        for card in self.cards:\n",
        "            hands[card.suit].add_card(card)\n",
        "\n",
        "        return hands"
      ]
    },
    {
      "cell_type": "markdown",
      "id": "cd04a7a3",
      "metadata": {
        "id": "cd04a7a3"
      },
      "source": [
        "Write a simplified version of this function using a `defaultdict`."
      ]
    },
    {
      "cell_type": "markdown",
      "id": "c236c5c7",
      "metadata": {
        "tags": [],
        "id": "c236c5c7"
      },
      "source": [
        "Here's an outline of the `PokerHand` class and the `partition_suits` function you can use to get started."
      ]
    },
    {
      "cell_type": "code",
      "execution_count": null,
      "id": "b9cf2e47",
      "metadata": {
        "tags": [],
        "id": "b9cf2e47"
      },
      "outputs": [],
      "source": [
        "class PokerHand(Hand):\n",
        "\n",
        "    def partition(self):\n",
        "        return {}"
      ]
    },
    {
      "cell_type": "code",
      "execution_count": null,
      "id": "33f15964",
      "metadata": {
        "id": "33f15964"
      },
      "outputs": [],
      "source": [
        "# Solution goes here"
      ]
    },
    {
      "cell_type": "markdown",
      "id": "9b176e67",
      "metadata": {
        "tags": [],
        "id": "9b176e67"
      },
      "source": [
        "To test your code, we'll make a deck and shuffle it."
      ]
    },
    {
      "cell_type": "code",
      "execution_count": null,
      "id": "339f912a",
      "metadata": {
        "tags": [],
        "id": "339f912a"
      },
      "outputs": [],
      "source": [
        "cards = Deck.make_cards()\n",
        "deck = Deck(cards)\n",
        "deck.shuffle()"
      ]
    },
    {
      "cell_type": "markdown",
      "id": "d253e3ad",
      "metadata": {
        "tags": [],
        "id": "d253e3ad"
      },
      "source": [
        "Then create a `PokerHand` and add seven cards to it."
      ]
    },
    {
      "cell_type": "code",
      "execution_count": null,
      "id": "b4efde58",
      "metadata": {
        "tags": [],
        "id": "b4efde58"
      },
      "outputs": [],
      "source": [
        "random_hand = PokerHand('random')\n",
        "\n",
        "for i in range(7):\n",
        "    card = deck.pop_card()\n",
        "    random_hand.add_card(card)\n",
        "\n",
        "print(random_hand)"
      ]
    },
    {
      "cell_type": "markdown",
      "id": "a714e145",
      "metadata": {
        "tags": [],
        "id": "a714e145"
      },
      "source": [
        "If you invoke `partition` and print the results, each hand should contain cards of one suit only."
      ]
    },
    {
      "cell_type": "code",
      "execution_count": null,
      "id": "bfddf015",
      "metadata": {
        "tags": [],
        "id": "bfddf015"
      },
      "outputs": [],
      "source": [
        "hand_dict = random_hand.partition()\n",
        "\n",
        "for hand in hand_dict.values():\n",
        "    print(hand)\n",
        "    print()"
      ]
    },
    {
      "cell_type": "markdown",
      "id": "218798e3",
      "metadata": {
        "id": "218798e3"
      },
      "source": [
        "### Exercise\n",
        "\n",
        "Here's the function from Chapter 11 that computes Fibonacci numbers."
      ]
    },
    {
      "cell_type": "code",
      "execution_count": null,
      "id": "f854f6d5",
      "metadata": {
        "id": "f854f6d5"
      },
      "outputs": [],
      "source": [
        "def fibonacci(n):\n",
        "    if n == 0:\n",
        "        return 0\n",
        "\n",
        "    if n == 1:\n",
        "        return 1\n",
        "\n",
        "    return fibonacci(n-1) + fibonacci(n-2)"
      ]
    },
    {
      "cell_type": "markdown",
      "id": "6acab624",
      "metadata": {
        "id": "6acab624"
      },
      "source": [
        "Write a version of this function with a single return statement that use two conditional expressions, one nested inside the other."
      ]
    },
    {
      "cell_type": "code",
      "execution_count": null,
      "id": "4efa9382",
      "metadata": {
        "id": "4efa9382"
      },
      "outputs": [],
      "source": [
        "# Solution goes here"
      ]
    },
    {
      "cell_type": "code",
      "execution_count": null,
      "id": "6440d14b",
      "metadata": {
        "tags": [],
        "id": "6440d14b"
      },
      "outputs": [],
      "source": [
        "fibonacci(10)    # should be 55"
      ]
    },
    {
      "cell_type": "code",
      "execution_count": null,
      "id": "3b9d5bac",
      "metadata": {
        "tags": [],
        "id": "3b9d5bac"
      },
      "outputs": [],
      "source": [
        "fibonacci(20)    # should be 6765"
      ]
    },
    {
      "cell_type": "markdown",
      "id": "2deb0e1f",
      "metadata": {
        "id": "2deb0e1f"
      },
      "source": [
        "### Exercise\n",
        "The following is a function that computes the binomial coefficient\n",
        "recursively."
      ]
    },
    {
      "cell_type": "code",
      "execution_count": null,
      "id": "9a9e43fa",
      "metadata": {
        "id": "9a9e43fa"
      },
      "outputs": [],
      "source": [
        "def binomial_coeff(n, k):\n",
        "    \"\"\"Compute the binomial coefficient \"n choose k\".\n",
        "\n",
        "    n: number of trials\n",
        "    k: number of successes\n",
        "\n",
        "    returns: int\n",
        "    \"\"\"\n",
        "    if k == 0:\n",
        "        return 1\n",
        "\n",
        "    if n == 0:\n",
        "        return 0\n",
        "\n",
        "    return binomial_coeff(n-1, k) + binomial_coeff(n-1, k-1)"
      ]
    },
    {
      "cell_type": "markdown",
      "id": "656c61f6",
      "metadata": {
        "id": "656c61f6"
      },
      "source": [
        "Rewrite the body of the function using nested conditional expressions.\n",
        "\n",
        "This function is not very efficient because it ends up computing the same values over and over.\n",
        "Make it more efficient by memoizing it, as described in [Chapter 10](section_memos)."
      ]
    },
    {
      "cell_type": "code",
      "execution_count": null,
      "id": "07226bce",
      "metadata": {
        "id": "07226bce"
      },
      "outputs": [],
      "source": [
        "# Solution goes here"
      ]
    },
    {
      "cell_type": "code",
      "execution_count": null,
      "id": "1e3b8009",
      "metadata": {
        "id": "1e3b8009"
      },
      "outputs": [],
      "source": [
        "binomial_coeff(10, 4)    # should be 210"
      ]
    },
    {
      "cell_type": "markdown",
      "id": "921719dc",
      "metadata": {
        "id": "921719dc"
      },
      "source": [
        "### Exercise\n",
        "\n",
        "Here's the `__str__` method from the `Deck` class in [Chapter 17](section_print_deck)."
      ]
    },
    {
      "cell_type": "code",
      "execution_count": null,
      "id": "4fd0793d",
      "metadata": {
        "id": "4fd0793d"
      },
      "outputs": [],
      "source": [
        "%%add_method_to Deck\n",
        "\n",
        "    def __str__(self):\n",
        "        res = []\n",
        "        for card in self.cards:\n",
        "            res.append(str(card))\n",
        "        return '\\n'.join(res)"
      ]
    },
    {
      "cell_type": "markdown",
      "id": "27f189cf",
      "metadata": {
        "id": "27f189cf"
      },
      "source": [
        "Write a more concise version of this method with a list comprehension or generator expression."
      ]
    },
    {
      "cell_type": "code",
      "execution_count": null,
      "id": "2aa7da71",
      "metadata": {
        "tags": [],
        "id": "2aa7da71"
      },
      "outputs": [],
      "source": [
        "# Solution goes here"
      ]
    },
    {
      "cell_type": "markdown",
      "id": "25525582",
      "metadata": {
        "tags": [],
        "id": "25525582"
      },
      "source": [
        "You can use this example to test your solution."
      ]
    },
    {
      "cell_type": "code",
      "execution_count": null,
      "id": "cd8bb7d2",
      "metadata": {
        "tags": [],
        "id": "cd8bb7d2"
      },
      "outputs": [],
      "source": [
        "cards = Deck.make_cards()\n",
        "deck = Deck(cards)\n",
        "print(deck)"
      ]
    },
    {
      "cell_type": "code",
      "execution_count": null,
      "id": "16ce7d9f",
      "metadata": {
        "id": "16ce7d9f"
      },
      "outputs": [],
      "source": []
    },
    {
      "cell_type": "markdown",
      "id": "a7f4edf8",
      "metadata": {
        "tags": [],
        "id": "a7f4edf8"
      },
      "source": [
        "[Think Python: 3rd Edition](https://allendowney.github.io/ThinkPython/index.html)\n",
        "\n",
        "Copyright 2024 [Allen B. Downey](https://allendowney.com)\n",
        "\n",
        "Code license: [MIT License](https://mit-license.org/)\n",
        "\n",
        "Text license: [Creative Commons Attribution-NonCommercial-ShareAlike 4.0 International](https://creativecommons.org/licenses/by-nc-sa/4.0/)"
      ]
    }
  ],
  "metadata": {
    "celltoolbar": "Tags",
    "kernelspec": {
      "display_name": "Python 3 (ipykernel)",
      "language": "python",
      "name": "python3"
    },
    "language_info": {
      "codemirror_mode": {
        "name": "ipython",
        "version": 3
      },
      "file_extension": ".py",
      "mimetype": "text/x-python",
      "name": "python",
      "nbconvert_exporter": "python",
      "pygments_lexer": "ipython3",
      "version": "3.10.11"
    },
    "colab": {
      "provenance": []
    }
  },
  "nbformat": 4,
  "nbformat_minor": 5
}